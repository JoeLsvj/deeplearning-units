{
 "cells": [
  {
   "cell_type": "markdown",
   "id": "b0e6e08a7368590a",
   "metadata": {},
   "source": [
    "# 🔥 Introduction to `PyTorch` -- Algorithmic Differentiation\n",
    "\n",
    "[Deep Learning](https://dsai.units.it/index.php/courses/deep-learning/) Course @ [UniTS](https://portale.units.it/en), Spring 2024\n",
    "\n",
    "<a target=\"_blank\" href=\"https://colab.research.google.com/github/emaballarin/deeplearning-units/blob/main/labs/01_intro_to_pytorch/03_pytorch_autodiff.ipynb\"><img src=\"https://colab.research.google.com/assets/colab-badge.svg\" alt=\"Open in Colab\"/></a>  <a target=\"_blank\" href=\"https://kaggle.com/kernels/welcome?src=https://github.com/emaballarin/deeplearning-units/blob/main/labs/01_intro_to_pytorch/03_pytorch_autodiff.ipynb\"><img src=\"https://kaggle.com/static/images/open-in-kaggle.svg\" alt=\"Open in Kaggle\"/></a>"
   ]
  },
  {
   "cell_type": "markdown",
   "id": "ecac3ac454a4e440",
   "metadata": {},
   "source": [
    "### Towards gradient-based model fitting\n",
    "\n",
    "In the previous notebook, we defined a simple linear model and to fitted it to data using its analytical OLS solution. In general, especially in complex cases, we cannot rely on analytical solutions and we need to resort to numerical optimization. Specifically, we would like to apply **gradient-based optimization** to fit our model to data.\n",
    "\n",
    "But first, we need to compute such gradients! 🙃"
   ]
  },
  {
   "cell_type": "markdown",
   "id": "137b899a5ed39229",
   "metadata": {},
   "source": [
    "### Preliminary infrastucture setup"
   ]
  },
  {
   "cell_type": "code",
   "execution_count": 1,
   "id": "209cce0b2f377ddf",
   "metadata": {
    "execution": {
     "iopub.execute_input": "2024-03-03T23:08:07.563077Z",
     "iopub.status.busy": "2024-03-03T23:08:07.562285Z",
     "iopub.status.idle": "2024-03-03T23:08:07.571000Z",
     "shell.execute_reply": "2024-03-03T23:08:07.570515Z"
    }
   },
   "outputs": [],
   "source": [
    "import os\n",
    "\n",
    "FOLDERNAME: str = \"deeplearning_units_2024\"\n",
    "try:\n",
    "    if os.getenv(\"COLAB_RELEASE_TAG\"):\n",
    "        # noinspection PyUnresolvedReferences\n",
    "        from google.colab import drive\n",
    "\n",
    "        drive.mount(BASEPATH := \"/content/drive\")\n",
    "        os.makedirs(FULLPATH := BASEPATH + \"/MyDrive/\" + FOLDERNAME, exist_ok=True)\n",
    "    elif os.getenv(\"KAGGLE_CONTAINER_NAME\"):\n",
    "        os.makedirs(FULLPATH := \"/kaggle/working/\" + FOLDERNAME, exist_ok=True)\n",
    "    else:\n",
    "        os.makedirs(FULLPATH := \"./\" + FOLDERNAME, exist_ok=True)\n",
    "    os.chdir(FULLPATH)\n",
    "except (ModuleNotFoundError, FileExistsError, FileNotFoundError):\n",
    "    pass"
   ]
  },
  {
   "cell_type": "code",
   "execution_count": 2,
   "id": "5635bf19ace47f1",
   "metadata": {
    "execution": {
     "iopub.execute_input": "2024-03-03T23:08:07.572827Z",
     "iopub.status.busy": "2024-03-03T23:08:07.572680Z",
     "iopub.status.idle": "2024-03-03T23:08:10.411878Z",
     "shell.execute_reply": "2024-03-03T23:08:10.411079Z"
    }
   },
   "outputs": [],
   "source": [
    "!python -m pip install -q pip_install_if_missing"
   ]
  },
  {
   "cell_type": "code",
   "execution_count": 3,
   "id": "7051a29b6c57a85",
   "metadata": {
    "execution": {
     "iopub.execute_input": "2024-03-03T23:08:10.414450Z",
     "iopub.status.busy": "2024-03-03T23:08:10.414258Z",
     "iopub.status.idle": "2024-03-03T23:08:10.474489Z",
     "shell.execute_reply": "2024-03-03T23:08:10.473851Z"
    }
   },
   "outputs": [],
   "source": [
    "from piim import pip_install_if_missing\n",
    "\n",
    "pip_install_if_missing(\"icecream\")"
   ]
  },
  {
   "cell_type": "code",
   "execution_count": 4,
   "id": "e2e4c99ffa3270ca",
   "metadata": {
    "execution": {
     "iopub.execute_input": "2024-03-03T23:08:10.476903Z",
     "iopub.status.busy": "2024-03-03T23:08:10.476741Z",
     "iopub.status.idle": "2024-03-03T23:08:10.501466Z",
     "shell.execute_reply": "2024-03-03T23:08:10.500822Z"
    }
   },
   "outputs": [],
   "source": [
    "# Pretty printouts\n",
    "from icecream import ic\n",
    "\n",
    "ic.configureOutput(outputFunction=print)\n",
    "ic.configureOutput(prefix=\"    | \")"
   ]
  },
  {
   "cell_type": "markdown",
   "id": "b27188a59391dcf0",
   "metadata": {},
   "source": [
    "### Some imports"
   ]
  },
  {
   "cell_type": "code",
   "execution_count": 5,
   "id": "4e64f7d1efb5a589",
   "metadata": {
    "execution": {
     "iopub.execute_input": "2024-03-03T23:08:10.504773Z",
     "iopub.status.busy": "2024-03-03T23:08:10.504575Z",
     "iopub.status.idle": "2024-03-03T23:08:11.356282Z",
     "shell.execute_reply": "2024-03-03T23:08:11.355478Z"
    }
   },
   "outputs": [],
   "source": [
    "import torch as th"
   ]
  }
 ],
 "metadata": {
  "kernelspec": {
   "display_name": "Python 3",
   "language": "python",
   "name": "python3"
  },
  "language_info": {
   "codemirror_mode": {
    "name": "ipython",
    "version": 3
   },
   "file_extension": ".py",
   "mimetype": "text/x-python",
   "name": "python",
   "nbconvert_exporter": "python",
   "pygments_lexer": "ipython3",
   "version": "3.11.8"
  }
 },
 "nbformat": 4,
 "nbformat_minor": 5
}
