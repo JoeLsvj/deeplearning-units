{
 "cells": [
  {
   "cell_type": "markdown",
   "id": "f63623daf7993ffb",
   "metadata": {},
   "source": [
    "# 🔥 Introduction to `PyTorch` -- Building ML models\n",
    "\n",
    "[Deep Learning](https://dsai.units.it/index.php/courses/deep-learning/) Course @ [UniTS](https://portale.units.it/en), Spring 2024\n",
    "\n",
    "<a target=\"_blank\" href=\"https://colab.research.google.com/github/emaballarin/deeplearning-units/blob/main/labs/01_intro_to_pytorch/02_pytorch_models.ipynb\"><img src=\"https://colab.research.google.com/assets/colab-badge.svg\" alt=\"Open in Colab\"/></a>  <a target=\"_blank\" href=\"https://kaggle.com/kernels/welcome?src=https://github.com/emaballarin/deeplearning-units/blob/main/labs/01_intro_to_pytorch/02_pytorch_models.ipynb\"><img src=\"https://kaggle.com/static/images/open-in-kaggle.svg\" alt=\"Open in Kaggle\"/></a>"
   ]
  },
  {
   "cell_type": "markdown",
   "id": "9efd284c13fc6ea5",
   "metadata": {},
   "source": [
    "### Preliminary infrastucture setup"
   ]
  },
  {
   "cell_type": "code",
   "execution_count": 1,
   "id": "4960e223aae556e2",
   "metadata": {
    "execution": {
     "iopub.execute_input": "2024-03-05T01:29:09.868667Z",
     "iopub.status.busy": "2024-03-05T01:29:09.868523Z",
     "iopub.status.idle": "2024-03-05T01:29:09.878276Z",
     "shell.execute_reply": "2024-03-05T01:29:09.877818Z"
    }
   },
   "outputs": [],
   "source": [
    "import os\n",
    "\n",
    "FOLDERNAME: str = \"deeplearning_units_2024\"\n",
    "try:\n",
    "    if os.getenv(\"COLAB_RELEASE_TAG\"):\n",
    "        # noinspection PyUnresolvedReferences\n",
    "        from google.colab import drive\n",
    "\n",
    "        drive.mount(BASEPATH := \"/content/drive\")\n",
    "        os.makedirs(FULLPATH := BASEPATH + \"/MyDrive/\" + FOLDERNAME, exist_ok=True)\n",
    "    elif os.getenv(\"KAGGLE_CONTAINER_NAME\"):\n",
    "        os.makedirs(FULLPATH := \"/kaggle/working/\" + FOLDERNAME, exist_ok=True)\n",
    "    else:\n",
    "        os.makedirs(FULLPATH := \"./\" + FOLDERNAME, exist_ok=True)\n",
    "    os.chdir(FULLPATH)\n",
    "except (ModuleNotFoundError, FileExistsError, FileNotFoundError):\n",
    "    pass"
   ]
  },
  {
   "cell_type": "code",
   "execution_count": 2,
   "id": "a89c9b057229a895",
   "metadata": {
    "ExecuteTime": {
     "end_time": "2024-02-27T17:27:58.686844Z",
     "start_time": "2024-02-27T17:27:57.286870Z"
    },
    "execution": {
     "iopub.execute_input": "2024-03-05T01:29:09.880479Z",
     "iopub.status.busy": "2024-03-05T01:29:09.880158Z",
     "iopub.status.idle": "2024-03-05T01:29:12.730261Z",
     "shell.execute_reply": "2024-03-05T01:29:12.729345Z"
    }
   },
   "outputs": [],
   "source": [
    "!python -m pip install -q icecream"
   ]
  },
  {
   "cell_type": "code",
   "execution_count": 3,
   "id": "b4519a0e7269d06a",
   "metadata": {
    "ExecuteTime": {
     "end_time": "2024-02-27T17:27:58.777738Z",
     "start_time": "2024-02-27T17:27:58.748187Z"
    },
    "execution": {
     "iopub.execute_input": "2024-03-05T01:29:12.733785Z",
     "iopub.status.busy": "2024-03-05T01:29:12.733599Z",
     "iopub.status.idle": "2024-03-05T01:29:12.758437Z",
     "shell.execute_reply": "2024-03-05T01:29:12.757581Z"
    }
   },
   "outputs": [],
   "source": [
    "# Pretty printouts\n",
    "from icecream import ic\n",
    "\n",
    "ic.configureOutput(outputFunction=print)\n",
    "ic.configureOutput(prefix=\"    | \")"
   ]
  },
  {
   "cell_type": "markdown",
   "id": "5951ffbf0d96ab1",
   "metadata": {},
   "source": [
    "### Some imports"
   ]
  },
  {
   "cell_type": "code",
   "execution_count": 4,
   "id": "c13a187452f5e5d0",
   "metadata": {
    "ExecuteTime": {
     "end_time": "2024-02-27T17:27:59.632898Z",
     "start_time": "2024-02-27T17:27:58.780228Z"
    },
    "execution": {
     "iopub.execute_input": "2024-03-05T01:29:12.760802Z",
     "iopub.status.busy": "2024-03-05T01:29:12.760651Z",
     "iopub.status.idle": "2024-03-05T01:29:13.631392Z",
     "shell.execute_reply": "2024-03-05T01:29:13.630450Z"
    }
   },
   "outputs": [],
   "source": [
    "import torch as th\n",
    "from safetensors.torch import save_file as safe_save_file\n",
    "from safetensors.torch import save_model as safe_save_model\n",
    "from safetensors.torch import load_model as safe_load_model\n",
    "from torch import Tensor"
   ]
  },
  {
   "cell_type": "markdown",
   "id": "ebe8efc22cda0fc8",
   "metadata": {},
   "source": [
    "## Example: Linear regression..."
   ]
  },
  {
   "cell_type": "markdown",
   "id": "c45e288aaed21573",
   "metadata": {},
   "source": [
    "### ... with *bare tensors*\n",
    "By using all the pieces we've seen till now, we can build our first *model* using PyTorch: a linear regressor, *i.e.*:\n",
    "\n",
    "$$\n",
    "y = XW + b\n",
    "$$\n",
    "\n",
    "which can also be simplified as:\n",
    "\n",
    "$$\n",
    "y = XW\n",
    "$$\n",
    "\n",
    "if we incorporate the bias $b$ inside $W$ and add to the $X$ a column of ones to the right."
   ]
  },
  {
   "cell_type": "markdown",
   "id": "862efcec61c47a09",
   "metadata": {},
   "source": [
    "We start by generating our data. We randomly sample $X$ as a $N\\times P$ tensor, meaning that we have 1000 datapoints and 100 features and produce $y$ as:\n",
    "$$\n",
    "y=XM+\\mathcal{N}(0,I)\n",
    "$$\n",
    "where $M$ is a randomly drawn projection vector (shape $P\\times 1$, same as our weights).\n",
    "We are adding some iid gaussian noise on the $y$ to avoid the interpolation regime, in which we could be fitting our data perfectly using a linear model."
   ]
  },
  {
   "cell_type": "code",
   "execution_count": 5,
   "id": "a06636304ac3490",
   "metadata": {
    "ExecuteTime": {
     "end_time": "2024-02-27T17:27:59.640675Z",
     "start_time": "2024-02-27T17:27:59.634754Z"
    },
    "execution": {
     "iopub.execute_input": "2024-03-05T01:29:13.634126Z",
     "iopub.status.busy": "2024-03-05T01:29:13.633912Z",
     "iopub.status.idle": "2024-03-05T01:29:13.639503Z",
     "shell.execute_reply": "2024-03-05T01:29:13.638975Z"
    }
   },
   "outputs": [],
   "source": [
    "N: int = 1000\n",
    "P: int = 100\n",
    "X_orig: Tensor = th.rand(N, P)\n",
    "M: Tensor = th.rand(P, 1)\n",
    "y: Tensor = X_orig @ M + th.normal(\n",
    "    mean=th.zeros(N, 1), std=th.ones(N, 1)\n",
    ")  # Convenience functions: `th.zeros`, `th.ones`\n",
    "# Also: PyTorch supports probability distributions (e.g. `th.normal`)"
   ]
  },
  {
   "cell_type": "markdown",
   "id": "9ea9b586a411ab58",
   "metadata": {},
   "source": [
    "We can add a column of ones to $X$ to include the bias:"
   ]
  },
  {
   "cell_type": "code",
   "execution_count": 6,
   "id": "ea39e1e84547f0de",
   "metadata": {
    "ExecuteTime": {
     "end_time": "2024-02-27T17:27:59.646375Z",
     "start_time": "2024-02-27T17:27:59.642278Z"
    },
    "execution": {
     "iopub.execute_input": "2024-03-05T01:29:13.641609Z",
     "iopub.status.busy": "2024-03-05T01:29:13.641152Z",
     "iopub.status.idle": "2024-03-05T01:29:13.644334Z",
     "shell.execute_reply": "2024-03-05T01:29:13.643729Z"
    }
   },
   "outputs": [],
   "source": [
    "X: Tensor = th.cat(\n",
    "    tensors=[X_orig, th.ones(N, 1)], dim=1\n",
    ")  # `th.cat` concatenates tensors along a given dimension"
   ]
  },
  {
   "cell_type": "markdown",
   "id": "dc5a495beb1b2c13",
   "metadata": {},
   "source": [
    "The regressor can be fit with classical statistical methods such as Ordinary Least Squares (OLS), and the optimal $W$ has the form:\n",
    "\n",
    "$$\n",
    "W^*=(X^TX)^{-1}X^Ty\n",
    "$$"
   ]
  },
  {
   "cell_type": "code",
   "execution_count": 7,
   "id": "7456423463d739ca",
   "metadata": {
    "ExecuteTime": {
     "end_time": "2024-02-27T17:27:59.659154Z",
     "start_time": "2024-02-27T17:27:59.647807Z"
    },
    "execution": {
     "iopub.execute_input": "2024-03-05T01:29:13.646070Z",
     "iopub.status.busy": "2024-03-05T01:29:13.645856Z",
     "iopub.status.idle": "2024-03-05T01:29:13.654375Z",
     "shell.execute_reply": "2024-03-05T01:29:13.653465Z"
    }
   },
   "outputs": [],
   "source": [
    "W_star: Tensor = ((X.T @ X).inverse()) @ X.T @ y"
   ]
  },
  {
   "cell_type": "markdown",
   "id": "e3609277e1816a59",
   "metadata": {},
   "source": [
    "To assess the quality of this fit we can evaluate the Mean Squared Error (MSE) between the original $y$ and the prediction:"
   ]
  },
  {
   "cell_type": "code",
   "execution_count": 8,
   "id": "dcff08ee1210bb8e",
   "metadata": {
    "ExecuteTime": {
     "end_time": "2024-02-27T17:27:59.676630Z",
     "start_time": "2024-02-27T17:27:59.661120Z"
    },
    "execution": {
     "iopub.execute_input": "2024-03-05T01:29:13.657971Z",
     "iopub.status.busy": "2024-03-05T01:29:13.657545Z",
     "iopub.status.idle": "2024-03-05T01:29:13.669885Z",
     "shell.execute_reply": "2024-03-05T01:29:13.669329Z"
    }
   },
   "outputs": [
    {
     "name": "stdout",
     "output_type": "stream",
     "text": [
      "    | loss: tensor(0.8776)\n"
     ]
    }
   ],
   "source": [
    "loss: Tensor = th.nn.functional.mse_loss(input=X @ W_star, target=y)\n",
    "_ = ic(loss)"
   ]
  },
  {
   "cell_type": "markdown",
   "id": "7507863737b2327c",
   "metadata": {},
   "source": [
    "Fitted model parameters can be saved (and loaded afterwards) using the `torch.save` (and `torch.load`) function:"
   ]
  },
  {
   "cell_type": "code",
   "execution_count": 9,
   "id": "c3a369a5e051f82e",
   "metadata": {
    "ExecuteTime": {
     "end_time": "2024-02-27T17:27:59.682565Z",
     "start_time": "2024-02-27T17:27:59.678439Z"
    },
    "execution": {
     "iopub.execute_input": "2024-03-05T01:29:13.672101Z",
     "iopub.status.busy": "2024-03-05T01:29:13.671910Z",
     "iopub.status.idle": "2024-03-05T01:29:13.685297Z",
     "shell.execute_reply": "2024-03-05T01:29:13.684719Z"
    }
   },
   "outputs": [],
   "source": [
    "th.save(W_star, \"./W_star_ols.pt\")"
   ]
  },
  {
   "cell_type": "markdown",
   "id": "6c9379f4b1436131",
   "metadata": {},
   "source": [
    "**Note**:\n",
    "\n",
    "The `torch.save` function is not limited to save tensors, but can be used to save any kind of object (e.g. models, optimizers, etc.). Under the hood, it uses the (in)famous `pickle` module.\n",
    "\n",
    "Such setup allows for great convenience, but also for potential security risks. Be careful when loading objects from untrusted sources. Or use [`safetensors`](https://github.com/huggingface/safetensors) instead!"
   ]
  },
  {
   "cell_type": "code",
   "execution_count": 10,
   "id": "e8e834c0bed4bcd0",
   "metadata": {
    "ExecuteTime": {
     "end_time": "2024-02-27T17:27:59.690012Z",
     "start_time": "2024-02-27T17:27:59.685737Z"
    },
    "execution": {
     "iopub.execute_input": "2024-03-05T01:29:13.687509Z",
     "iopub.status.busy": "2024-03-05T01:29:13.687051Z",
     "iopub.status.idle": "2024-03-05T01:29:13.693955Z",
     "shell.execute_reply": "2024-03-05T01:29:13.693392Z"
    }
   },
   "outputs": [],
   "source": [
    "safe_save_file(\n",
    "    {\"W_star\": W_star}, \"./W_star_ols_safe.safetensors\"\n",
    ")  # The only difference: the saved tensor should be named."
   ]
  },
  {
   "cell_type": "markdown",
   "id": "a6edc89d502716",
   "metadata": {},
   "source": [
    "### ... with a `torch.nn.Module`"
   ]
  },
  {
   "cell_type": "markdown",
   "id": "e04ab72fb865c317",
   "metadata": {},
   "source": [
    "The same linear regression model can be implemented using the `torch.nn.Module` class. This is the recommended way to build models in PyTorch, as it allows for a more structured and modular approach, and for gradient-based optimization of model parameters.\n",
    "\n",
    "In general, a PyTorch model is a Python class that inherits from `torch.nn.Module` and implements (at least) these two methods:\n",
    "\n",
    "1. `__init__`: the constructor, in which we **must** define all learnable parameters of the model (directly as `torch.nn.Parameters`s, or as members of other class objects);\n",
    "2. `forward`: the method that specifies how input data fed into the model need to be processed in order to produce some outputs.\n",
    "\n",
    "**Note**:\n",
    "\n",
    "In our case, the transformation of the inputs we are looking for is already implemented by the `torch.nn.Linear` class, which is a subclass of `torch.nn.Module` itself. We can use it to build our linear regressor."
   ]
  },
  {
   "cell_type": "code",
   "execution_count": 11,
   "id": "2e40ab063994afe5",
   "metadata": {
    "ExecuteTime": {
     "end_time": "2024-02-27T17:27:59.697097Z",
     "start_time": "2024-02-27T17:27:59.691503Z"
    },
    "execution": {
     "iopub.execute_input": "2024-03-05T01:29:13.696047Z",
     "iopub.status.busy": "2024-03-05T01:29:13.695604Z",
     "iopub.status.idle": "2024-03-05T01:29:13.700035Z",
     "shell.execute_reply": "2024-03-05T01:29:13.699592Z"
    }
   },
   "outputs": [],
   "source": [
    "class LinearRegressor(th.nn.Module):\n",
    "    def __init__(self, in_features: int, out_features: int, bias: bool = True) -> None:\n",
    "        super().__init__()\n",
    "        self.affine_transform = th.nn.Linear(\n",
    "            in_features=in_features, out_features=out_features, bias=bias\n",
    "        )\n",
    "\n",
    "    def forward(self, x: Tensor) -> Tensor:\n",
    "        return self.affine_transform(x)\n",
    "\n",
    "    # Just for the fun of it, we can add a method to fit the model using OLS.\n",
    "    # With gradient-based optimization, this would not be necessary. But it's a good exercise.\n",
    "    def ols_fit(self, xols: Tensor, yols: Tensor) -> None:\n",
    "        with th.no_grad():\n",
    "            xols = th.cat(tensors=[xols, th.ones(xols.shape[0], 1)], dim=1)\n",
    "            wols: Tensor = ((xols.T @ xols).inverse()) @ xols.T @ yols\n",
    "            self.affine_transform.weight.data = (\n",
    "                wols[: self.affine_transform.in_features].T.detach().clone()\n",
    "            )\n",
    "            self.affine_transform.bias.data = wols[-1].detach().clone()"
   ]
  },
  {
   "cell_type": "markdown",
   "id": "55b5ebab871b1fbb",
   "metadata": {},
   "source": [
    "Now, we can fit the model on the same data as before:"
   ]
  },
  {
   "cell_type": "code",
   "execution_count": 12,
   "id": "804005a7146a902e",
   "metadata": {
    "ExecuteTime": {
     "end_time": "2024-02-27T17:27:59.703176Z",
     "start_time": "2024-02-27T17:27:59.698197Z"
    },
    "execution": {
     "iopub.execute_input": "2024-03-05T01:29:13.701935Z",
     "iopub.status.busy": "2024-03-05T01:29:13.701672Z",
     "iopub.status.idle": "2024-03-05T01:29:13.704450Z",
     "shell.execute_reply": "2024-03-05T01:29:13.703943Z"
    }
   },
   "outputs": [],
   "source": [
    "model: LinearRegressor = LinearRegressor(in_features=P, out_features=1, bias=True)"
   ]
  },
  {
   "cell_type": "code",
   "execution_count": 13,
   "id": "3e9d545ebabdbf77",
   "metadata": {
    "ExecuteTime": {
     "end_time": "2024-02-27T17:27:59.708793Z",
     "start_time": "2024-02-27T17:27:59.704783Z"
    },
    "execution": {
     "iopub.execute_input": "2024-03-05T01:29:13.706398Z",
     "iopub.status.busy": "2024-03-05T01:29:13.706135Z",
     "iopub.status.idle": "2024-03-05T01:29:13.710338Z",
     "shell.execute_reply": "2024-03-05T01:29:13.709614Z"
    }
   },
   "outputs": [],
   "source": [
    "model.ols_fit(X_orig, y)"
   ]
  },
  {
   "cell_type": "markdown",
   "id": "418a8c856a84bf43",
   "metadata": {},
   "source": [
    "And we can evaluate the loss as before:"
   ]
  },
  {
   "cell_type": "code",
   "execution_count": 14,
   "id": "f91ddc5352e0c666",
   "metadata": {
    "ExecuteTime": {
     "end_time": "2024-02-27T17:27:59.713237Z",
     "start_time": "2024-02-27T17:27:59.710054Z"
    },
    "execution": {
     "iopub.execute_input": "2024-03-05T01:29:13.711995Z",
     "iopub.status.busy": "2024-03-05T01:29:13.711699Z",
     "iopub.status.idle": "2024-03-05T01:29:13.714727Z",
     "shell.execute_reply": "2024-03-05T01:29:13.714163Z"
    }
   },
   "outputs": [],
   "source": [
    "loss: Tensor = th.nn.functional.mse_loss(input=model(X_orig), target=y)"
   ]
  },
  {
   "cell_type": "markdown",
   "id": "e0f1e54cec97ff2b",
   "metadata": {},
   "source": [
    "We can inspect the current parameters of our model by either direct access, or by using the `state_dict` method."
   ]
  },
  {
   "cell_type": "code",
   "execution_count": 15,
   "id": "84abbb20495d59ae",
   "metadata": {
    "ExecuteTime": {
     "end_time": "2024-02-27T17:27:59.732380Z",
     "start_time": "2024-02-27T17:27:59.714508Z"
    },
    "execution": {
     "iopub.execute_input": "2024-03-05T01:29:13.716312Z",
     "iopub.status.busy": "2024-03-05T01:29:13.716062Z",
     "iopub.status.idle": "2024-03-05T01:29:13.726357Z",
     "shell.execute_reply": "2024-03-05T01:29:13.725890Z"
    }
   },
   "outputs": [
    {
     "name": "stdout",
     "output_type": "stream",
     "text": [
      "    | model.affine_transform.weight: Parameter containing:\n",
      "                                     tensor([[ 0.2927,  0.2902, -0.0661,  0.3177,  0.3685,  0.1991,  0.1837,  0.1707,\n",
      "                                               0.4834,  0.7170,  0.7353,  0.7408,  0.8874,  0.3020,  0.8377,  0.7758,\n",
      "                                               0.0820,  0.3031,  0.4683,  0.1599,  0.4069,  0.5643,  0.5213,  0.8161,\n",
      "                                               0.4891,  0.1744,  0.3105,  0.1430,  0.2537,  0.2139,  0.7634,  1.0088,\n",
      "                                               0.3002,  0.8979,  0.1368,  0.7721,  1.0371,  0.8219,  0.3422,  0.6831,\n",
      "                                               0.6882,  0.6924,  0.3859,  0.3705,  0.4826,  0.4146,  0.5599,  0.8001,\n",
      "                                               0.4709,  0.7081, -0.0652,  0.7451,  0.3477,  0.5825,  0.6938,  0.0594,\n",
      "                                               0.4942,  1.1733,  0.3685,  0.4555,  0.5313,  0.3313,  0.4171,  0.7810,\n",
      "                                               0.6458,  0.3261,  0.2075,  0.8777,  0.4036,  0.6106,  0.2347,  0.3907,\n",
      "                                               0.7431, -0.1235,  0.5435,  0.1240,  0.5292,  0.4940,  0.6758,  0.7967,\n",
      "                                               0.1136,  0.2796,  0.5463,  0.7543,  0.7554,  0.9064,  0.8986,  0.0084,\n",
      "                                               0.2798,  0.4079,  0.1717,  0.8281,  0.5775,  0.1184,  0.3074,  0.2554,\n",
      "                                               0.6379,  0.6753,  0.6159,  0.8411]], requires_grad=True)\n",
      "    | model.affine_transform.bias: Parameter containing:\n",
      "                                   tensor([-0.0024], requires_grad=True)\n"
     ]
    }
   ],
   "source": [
    "_ = ic(model.affine_transform.weight)\n",
    "_ = ic(model.affine_transform.bias)"
   ]
  },
  {
   "cell_type": "code",
   "execution_count": 16,
   "id": "75a518bf4474a8ac",
   "metadata": {
    "ExecuteTime": {
     "end_time": "2024-02-27T17:27:59.747173Z",
     "start_time": "2024-02-27T17:27:59.733980Z"
    },
    "execution": {
     "iopub.execute_input": "2024-03-05T01:29:13.728079Z",
     "iopub.status.busy": "2024-03-05T01:29:13.727898Z",
     "iopub.status.idle": "2024-03-05T01:29:13.736890Z",
     "shell.execute_reply": "2024-03-05T01:29:13.735727Z"
    }
   },
   "outputs": [
    {
     "name": "stdout",
     "output_type": "stream",
     "text": [
      "    | model.state_dict(): OrderedDict([('affine_transform.weight',\n",
      "                                        tensor([[ 0.2927,  0.2902, -0.0661,  0.3177,  0.3685,  0.1991,  0.1837,  0.1707,\n",
      "                                    0.4834,  0.7170,  0.7353,  0.7408,  0.8874,  0.3020,  0.8377,  0.7758,\n",
      "                                    0.0820,  0.3031,  0.4683,  0.1599,  0.4069,  0.5643,  0.5213,  0.8161,\n",
      "                                    0.4891,  0.1744,  0.3105,  0.1430,  0.2537,  0.2139,  0.7634,  1.0088,\n",
      "                                    0.3002,  0.8979,  0.1368,  0.7721,  1.0371,  0.8219,  0.3422,  0.6831,\n",
      "                                    0.6882,  0.6924,  0.3859,  0.3705,  0.4826,  0.4146,  0.5599,  0.8001,\n",
      "                                    0.4709,  0.7081, -0.0652,  0.7451,  0.3477,  0.5825,  0.6938,  0.0594,\n",
      "                                    0.4942,  1.1733,  0.3685,  0.4555,  0.5313,  0.3313,  0.4171,  0.7810,\n",
      "                                    0.6458,  0.3261,  0.2075,  0.8777,  0.4036,  0.6106,  0.2347,  0.3907,\n",
      "                                    0.7431, -0.1235,  0.5435,  0.1240,  0.5292,  0.4940,  0.6758,  0.7967,\n",
      "                                    0.1136,  0.2796,  0.5463,  0.7543,  0.7554,  0.9064,  0.8986,  0.0084,\n",
      "                                    0.2798,  0.4079,  0.1717,  0.8281,  0.5775,  0.1184,  0.3074,  0.2554,\n",
      "                                    0.6379,  0.6753,  0.6159,  0.8411]])),\n",
      "                                       ('affine_transform.bias', tensor([-0.0024]))])\n"
     ]
    }
   ],
   "source": [
    "_ = ic(model.state_dict())"
   ]
  },
  {
   "cell_type": "markdown",
   "id": "bfed33c2a7d207ad",
   "metadata": {},
   "source": [
    "Model saving/loading is also straightforward:"
   ]
  },
  {
   "cell_type": "code",
   "execution_count": 17,
   "id": "c487d57dc752d224",
   "metadata": {
    "ExecuteTime": {
     "end_time": "2024-02-27T17:27:59.753629Z",
     "start_time": "2024-02-27T17:27:59.748978Z"
    },
    "execution": {
     "iopub.execute_input": "2024-03-05T01:29:13.739816Z",
     "iopub.status.busy": "2024-03-05T01:29:13.739537Z",
     "iopub.status.idle": "2024-03-05T01:29:13.757061Z",
     "shell.execute_reply": "2024-03-05T01:29:13.756491Z"
    }
   },
   "outputs": [],
   "source": [
    "# Saving with `torch.save`\n",
    "th.save(\n",
    "    model.state_dict(), \"./model_ols.pt\"\n",
    ")  # Beware: we do not save `model` directly, but its `state_dict`!\n",
    "\n",
    "# Saving with `safetensors`\n",
    "safe_save_model(model, \"./model_ols_safe.safetensors\")"
   ]
  },
  {
   "cell_type": "code",
   "execution_count": 18,
   "id": "74d48d031700fbb7",
   "metadata": {
    "ExecuteTime": {
     "end_time": "2024-02-27T17:27:59.760199Z",
     "start_time": "2024-02-27T17:27:59.754925Z"
    },
    "execution": {
     "iopub.execute_input": "2024-03-05T01:29:13.759138Z",
     "iopub.status.busy": "2024-03-05T01:29:13.758838Z",
     "iopub.status.idle": "2024-03-05T01:29:13.768049Z",
     "shell.execute_reply": "2024-03-05T01:29:13.767550Z"
    }
   },
   "outputs": [],
   "source": [
    "# Loading with `torch.load`\n",
    "model_loaded = LinearRegressor(in_features=P, out_features=1, bias=True)\n",
    "model_loaded.load_state_dict(th.load(\"./model_ols.pt\"))\n",
    "\n",
    "# Loading with `safetensors`\n",
    "model_loaded_safe = LinearRegressor(in_features=P, out_features=1, bias=True)\n",
    "_ = safe_load_model(model_loaded_safe, \"./model_ols_safe.safetensors\")"
   ]
  }
 ],
 "metadata": {
  "kernelspec": {
   "display_name": "Python 3",
   "language": "python",
   "name": "python3"
  },
  "language_info": {
   "codemirror_mode": {
    "name": "ipython",
    "version": 3
   },
   "file_extension": ".py",
   "mimetype": "text/x-python",
   "name": "python",
   "nbconvert_exporter": "python",
   "pygments_lexer": "ipython3",
   "version": "3.11.8"
  }
 },
 "nbformat": 4,
 "nbformat_minor": 5
}
