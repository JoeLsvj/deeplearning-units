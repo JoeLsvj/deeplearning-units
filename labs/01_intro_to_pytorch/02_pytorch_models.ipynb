{
 "cells": [
  {
   "cell_type": "markdown",
   "id": "f63623daf7993ffb",
   "metadata": {},
   "source": [
    "# 🔥 Introduction to `PyTorch` -- Building ML models\n",
    "\n",
    "[Deep Learning](https://dsai.units.it/index.php/courses/deep-learning/) Course @ [UniTS](https://portale.units.it/en), Spring 2024\n",
    "\n",
    "<a target=\"_blank\" href=\"https://colab.research.google.com/github/emaballarin/deeplearning-units/blob/main/labs/01_intro_to_pytorch/02_pytorch_models.ipynb\"><img src=\"https://colab.research.google.com/assets/colab-badge.svg\" alt=\"Open in Colab\"/></a>  <a target=\"_blank\" href=\"https://kaggle.com/kernels/welcome?src=https://github.com/emaballarin/deeplearning-units/blob/main/labs/01_intro_to_pytorch/02_pytorch_models.ipynb\"><img src=\"https://kaggle.com/static/images/open-in-kaggle.svg\" alt=\"Open in Kaggle\"/></a>"
   ]
  },
  {
   "cell_type": "markdown",
   "id": "9efd284c13fc6ea5",
   "metadata": {},
   "source": [
    "### Preliminary infrastucture setup"
   ]
  },
  {
   "cell_type": "code",
   "execution_count": 1,
   "id": "4960e223aae556e2",
   "metadata": {
    "execution": {
     "iopub.execute_input": "2024-03-03T23:08:01.182060Z",
     "iopub.status.busy": "2024-03-03T23:08:01.181904Z",
     "iopub.status.idle": "2024-03-03T23:08:01.191437Z",
     "shell.execute_reply": "2024-03-03T23:08:01.190880Z"
    }
   },
   "outputs": [],
   "source": [
    "import os\n",
    "\n",
    "FOLDERNAME: str = \"deeplearning_units_2024\"\n",
    "try:\n",
    "    if os.getenv(\"COLAB_RELEASE_TAG\"):\n",
    "        # noinspection PyUnresolvedReferences\n",
    "        from google.colab import drive\n",
    "\n",
    "        drive.mount(BASEPATH := \"/content/drive\")\n",
    "        os.makedirs(FULLPATH := BASEPATH + \"/MyDrive/\" + FOLDERNAME, exist_ok=True)\n",
    "    elif os.getenv(\"KAGGLE_CONTAINER_NAME\"):\n",
    "        os.makedirs(FULLPATH := \"/kaggle/working/\" + FOLDERNAME, exist_ok=True)\n",
    "    else:\n",
    "        os.makedirs(FULLPATH := \"./\" + FOLDERNAME, exist_ok=True)\n",
    "    os.chdir(FULLPATH)\n",
    "except (ModuleNotFoundError, FileExistsError, FileNotFoundError):\n",
    "    pass"
   ]
  },
  {
   "cell_type": "code",
   "execution_count": 2,
   "id": "a89c9b057229a895",
   "metadata": {
    "ExecuteTime": {
     "end_time": "2024-02-27T17:27:58.686844Z",
     "start_time": "2024-02-27T17:27:57.286870Z"
    },
    "execution": {
     "iopub.execute_input": "2024-03-03T23:08:01.193387Z",
     "iopub.status.busy": "2024-03-03T23:08:01.193204Z",
     "iopub.status.idle": "2024-03-03T23:08:03.877640Z",
     "shell.execute_reply": "2024-03-03T23:08:03.876811Z"
    }
   },
   "outputs": [],
   "source": [
    "!python -m pip install -q pip_install_if_missing"
   ]
  },
  {
   "cell_type": "code",
   "execution_count": 3,
   "id": "1e489ddb0875803",
   "metadata": {
    "ExecuteTime": {
     "end_time": "2024-02-27T17:27:58.746446Z",
     "start_time": "2024-02-27T17:27:58.689659Z"
    },
    "execution": {
     "iopub.execute_input": "2024-03-03T23:08:03.880851Z",
     "iopub.status.busy": "2024-03-03T23:08:03.880569Z",
     "iopub.status.idle": "2024-03-03T23:08:03.950106Z",
     "shell.execute_reply": "2024-03-03T23:08:03.949213Z"
    }
   },
   "outputs": [],
   "source": [
    "from piim import pip_install_if_missing\n",
    "\n",
    "pip_install_if_missing(\"icecream\")"
   ]
  },
  {
   "cell_type": "code",
   "execution_count": 4,
   "id": "b4519a0e7269d06a",
   "metadata": {
    "ExecuteTime": {
     "end_time": "2024-02-27T17:27:58.777738Z",
     "start_time": "2024-02-27T17:27:58.748187Z"
    },
    "execution": {
     "iopub.execute_input": "2024-03-03T23:08:03.952856Z",
     "iopub.status.busy": "2024-03-03T23:08:03.952694Z",
     "iopub.status.idle": "2024-03-03T23:08:03.976476Z",
     "shell.execute_reply": "2024-03-03T23:08:03.975815Z"
    }
   },
   "outputs": [],
   "source": [
    "# Pretty printouts\n",
    "from icecream import ic\n",
    "\n",
    "ic.configureOutput(outputFunction=print)\n",
    "ic.configureOutput(prefix=\"    | \")"
   ]
  },
  {
   "cell_type": "markdown",
   "id": "5951ffbf0d96ab1",
   "metadata": {},
   "source": [
    "### Some imports"
   ]
  },
  {
   "cell_type": "code",
   "execution_count": 5,
   "id": "c13a187452f5e5d0",
   "metadata": {
    "ExecuteTime": {
     "end_time": "2024-02-27T17:27:59.632898Z",
     "start_time": "2024-02-27T17:27:58.780228Z"
    },
    "execution": {
     "iopub.execute_input": "2024-03-03T23:08:03.978504Z",
     "iopub.status.busy": "2024-03-03T23:08:03.978355Z",
     "iopub.status.idle": "2024-03-03T23:08:04.845674Z",
     "shell.execute_reply": "2024-03-03T23:08:04.844906Z"
    }
   },
   "outputs": [],
   "source": [
    "import torch as th\n",
    "from safetensors.torch import save_file as safe_save_file\n",
    "from safetensors.torch import save_model as safe_save_model\n",
    "from safetensors.torch import load_model as safe_load_model\n",
    "from torch import Tensor"
   ]
  },
  {
   "cell_type": "markdown",
   "id": "ebe8efc22cda0fc8",
   "metadata": {},
   "source": [
    "## Example: Linear regression..."
   ]
  },
  {
   "cell_type": "markdown",
   "id": "c45e288aaed21573",
   "metadata": {},
   "source": [
    "### ... with *bare tensors*\n",
    "By using all the pieces we've seen till now, we can build our first *model* using PyTorch: a linear regressor, *i.e.*:\n",
    "\n",
    "$$\n",
    "y = XW + b\n",
    "$$\n",
    "\n",
    "which can also be simplified as:\n",
    "\n",
    "$$\n",
    "y = XW\n",
    "$$\n",
    "\n",
    "if we incorporate the bias $b$ inside $W$ and add to the $X$ a column of ones to the right."
   ]
  },
  {
   "cell_type": "markdown",
   "id": "862efcec61c47a09",
   "metadata": {},
   "source": [
    "We start by generating our data. We randomly sample $X$ as a $N\\times P$ tensor, meaning that we have 1000 datapoints and 100 features and produce $y$ as:\n",
    "$$\n",
    "y=XM+\\mathcal{N}(0,I)\n",
    "$$\n",
    "where $M$ is a randomly drawn projection vector (shape $P\\times 1$, same as our weights).\n",
    "We are adding some iid gaussian noise on the $y$ to avoid the interpolation regime, in which we could be fitting our data perfectly using a linear model."
   ]
  },
  {
   "cell_type": "code",
   "execution_count": 6,
   "id": "a06636304ac3490",
   "metadata": {
    "ExecuteTime": {
     "end_time": "2024-02-27T17:27:59.640675Z",
     "start_time": "2024-02-27T17:27:59.634754Z"
    },
    "execution": {
     "iopub.execute_input": "2024-03-03T23:08:04.848824Z",
     "iopub.status.busy": "2024-03-03T23:08:04.848112Z",
     "iopub.status.idle": "2024-03-03T23:08:04.856498Z",
     "shell.execute_reply": "2024-03-03T23:08:04.855942Z"
    }
   },
   "outputs": [],
   "source": [
    "N: int = 1000\n",
    "P: int = 100\n",
    "X_orig: Tensor = th.rand(N, P)\n",
    "M: Tensor = th.rand(P, 1)\n",
    "y: Tensor = X_orig @ M + th.normal(\n",
    "    mean=th.zeros(N, 1), std=th.ones(N, 1)\n",
    ")  # Convenience functions: `th.zeros`, `th.ones`\n",
    "# Also: PyTorch supports probability distributions (e.g. `th.normal`)"
   ]
  },
  {
   "cell_type": "markdown",
   "id": "9ea9b586a411ab58",
   "metadata": {},
   "source": [
    "We can add a column of ones to $X$ to include the bias:"
   ]
  },
  {
   "cell_type": "code",
   "execution_count": 7,
   "id": "ea39e1e84547f0de",
   "metadata": {
    "ExecuteTime": {
     "end_time": "2024-02-27T17:27:59.646375Z",
     "start_time": "2024-02-27T17:27:59.642278Z"
    },
    "execution": {
     "iopub.execute_input": "2024-03-03T23:08:04.858337Z",
     "iopub.status.busy": "2024-03-03T23:08:04.858151Z",
     "iopub.status.idle": "2024-03-03T23:08:04.861330Z",
     "shell.execute_reply": "2024-03-03T23:08:04.860694Z"
    }
   },
   "outputs": [],
   "source": [
    "X: Tensor = th.cat(\n",
    "    tensors=[X_orig, th.ones(N, 1)], dim=1\n",
    ")  # `th.cat` concatenates tensors along a given dimension"
   ]
  },
  {
   "cell_type": "markdown",
   "id": "dc5a495beb1b2c13",
   "metadata": {},
   "source": [
    "The regressor can be fit with classical statistical methods such as Ordinary Least Squares (OLS), and the optimal $W$ has the form:\n",
    "\n",
    "$$\n",
    "W^*=(X^TX)^{-1}X^Ty\n",
    "$$"
   ]
  },
  {
   "cell_type": "code",
   "execution_count": 8,
   "id": "7456423463d739ca",
   "metadata": {
    "ExecuteTime": {
     "end_time": "2024-02-27T17:27:59.659154Z",
     "start_time": "2024-02-27T17:27:59.647807Z"
    },
    "execution": {
     "iopub.execute_input": "2024-03-03T23:08:04.862924Z",
     "iopub.status.busy": "2024-03-03T23:08:04.862742Z",
     "iopub.status.idle": "2024-03-03T23:08:04.886970Z",
     "shell.execute_reply": "2024-03-03T23:08:04.886380Z"
    }
   },
   "outputs": [],
   "source": [
    "W_star: Tensor = ((X.T @ X).inverse()) @ X.T @ y"
   ]
  },
  {
   "cell_type": "markdown",
   "id": "e3609277e1816a59",
   "metadata": {},
   "source": [
    "To assess the quality of this fit we can evaluate the Mean Squared Error (MSE) between the original $y$ and the prediction:"
   ]
  },
  {
   "cell_type": "code",
   "execution_count": 9,
   "id": "dcff08ee1210bb8e",
   "metadata": {
    "ExecuteTime": {
     "end_time": "2024-02-27T17:27:59.676630Z",
     "start_time": "2024-02-27T17:27:59.661120Z"
    },
    "execution": {
     "iopub.execute_input": "2024-03-03T23:08:04.889362Z",
     "iopub.status.busy": "2024-03-03T23:08:04.889053Z",
     "iopub.status.idle": "2024-03-03T23:08:04.902054Z",
     "shell.execute_reply": "2024-03-03T23:08:04.901485Z"
    }
   },
   "outputs": [
    {
     "name": "stdout",
     "output_type": "stream",
     "text": [
      "    | loss: tensor(0.8123)\n"
     ]
    }
   ],
   "source": [
    "loss: Tensor = th.nn.functional.mse_loss(input=X @ W_star, target=y)\n",
    "_ = ic(loss)"
   ]
  },
  {
   "cell_type": "markdown",
   "id": "7507863737b2327c",
   "metadata": {},
   "source": [
    "Fitted model parameters can be saved (and loaded afterwards) using the `torch.save` (and `torch.load`) function:"
   ]
  },
  {
   "cell_type": "code",
   "execution_count": 10,
   "id": "c3a369a5e051f82e",
   "metadata": {
    "ExecuteTime": {
     "end_time": "2024-02-27T17:27:59.682565Z",
     "start_time": "2024-02-27T17:27:59.678439Z"
    },
    "execution": {
     "iopub.execute_input": "2024-03-03T23:08:04.903933Z",
     "iopub.status.busy": "2024-03-03T23:08:04.903658Z",
     "iopub.status.idle": "2024-03-03T23:08:04.915605Z",
     "shell.execute_reply": "2024-03-03T23:08:04.914883Z"
    }
   },
   "outputs": [],
   "source": [
    "th.save(W_star, \"./W_star_ols.pt\")"
   ]
  },
  {
   "cell_type": "markdown",
   "id": "6c9379f4b1436131",
   "metadata": {},
   "source": [
    "**Note**:\n",
    "\n",
    "The `torch.save` function is not limited to save tensors, but can be used to save any kind of object (e.g. models, optimizers, etc.). Under the hood, it uses the (in)famous `pickle` module.\n",
    "\n",
    "Such setup allows for great convenience, but also for potential security risks. Be careful when loading objects from untrusted sources. Or use [`safetensors`](https://github.com/huggingface/safetensors) instead!"
   ]
  },
  {
   "cell_type": "code",
   "execution_count": 11,
   "id": "e8e834c0bed4bcd0",
   "metadata": {
    "ExecuteTime": {
     "end_time": "2024-02-27T17:27:59.690012Z",
     "start_time": "2024-02-27T17:27:59.685737Z"
    },
    "execution": {
     "iopub.execute_input": "2024-03-03T23:08:04.917696Z",
     "iopub.status.busy": "2024-03-03T23:08:04.917525Z",
     "iopub.status.idle": "2024-03-03T23:08:04.925776Z",
     "shell.execute_reply": "2024-03-03T23:08:04.925177Z"
    }
   },
   "outputs": [],
   "source": [
    "safe_save_file(\n",
    "    {\"W_star\": W_star}, \"./W_star_ols_safe.safetensors\"\n",
    ")  # The only difference: the saved tensor should be named."
   ]
  },
  {
   "cell_type": "markdown",
   "id": "a6edc89d502716",
   "metadata": {},
   "source": [
    "### ... with a `torch.nn.Module`"
   ]
  },
  {
   "cell_type": "markdown",
   "id": "e04ab72fb865c317",
   "metadata": {},
   "source": [
    "The same linear regression model can be implemented using the `torch.nn.Module` class. This is the recommended way to build models in PyTorch, as it allows for a more structured and modular approach, and for gradient-based optimization of model parameters.\n",
    "\n",
    "In general, a PyTorch model is a Python class that inherits from `torch.nn.Module` and implements (at least) these two methods:\n",
    "\n",
    "1. `__init__`: the constructor, in which we **must** define all learnable parameters of the model (directly as `torch.nn.Parameters`s, or as members of other class objects);\n",
    "2. `forward`: the method that specifies how input data fed into the model need to be processed in order to produce some outputs.\n",
    "\n",
    "**Note**:\n",
    "\n",
    "In our case, the transformation of the inputs we are looking for is already implemented by the `torch.nn.Linear` class, which is a subclass of `torch.nn.Module` itself. We can use it to build our linear regressor."
   ]
  },
  {
   "cell_type": "code",
   "execution_count": 12,
   "id": "2e40ab063994afe5",
   "metadata": {
    "ExecuteTime": {
     "end_time": "2024-02-27T17:27:59.697097Z",
     "start_time": "2024-02-27T17:27:59.691503Z"
    },
    "execution": {
     "iopub.execute_input": "2024-03-03T23:08:04.927921Z",
     "iopub.status.busy": "2024-03-03T23:08:04.927745Z",
     "iopub.status.idle": "2024-03-03T23:08:04.933003Z",
     "shell.execute_reply": "2024-03-03T23:08:04.932496Z"
    }
   },
   "outputs": [],
   "source": [
    "class LinearRegressor(th.nn.Module):\n",
    "    def __init__(self, in_features: int, out_features: int, bias: bool = True) -> None:\n",
    "        super().__init__()\n",
    "        self.affine_transform = th.nn.Linear(\n",
    "            in_features=in_features, out_features=out_features, bias=bias\n",
    "        )\n",
    "\n",
    "    def forward(self, x: Tensor) -> Tensor:\n",
    "        return self.affine_transform(x)\n",
    "\n",
    "    # Just for the fun of it, we can add a method to fit the model using OLS.\n",
    "    # With gradient-based optimization, this would not be necessary. But it's a good exercise.\n",
    "    def ols_fit(self, xols: Tensor, yols: Tensor) -> None:\n",
    "        with th.no_grad():\n",
    "            xols = th.cat(tensors=[xols, th.ones(xols.shape[0], 1)], dim=1)\n",
    "            wols: Tensor = ((xols.T @ xols).inverse()) @ xols.T @ yols\n",
    "            self.affine_transform.weight.data = (\n",
    "                wols[: self.affine_transform.in_features].T.detach().clone()\n",
    "            )\n",
    "            self.affine_transform.bias.data = wols[-1].detach().clone()"
   ]
  },
  {
   "cell_type": "markdown",
   "id": "55b5ebab871b1fbb",
   "metadata": {},
   "source": [
    "Now, we can fit the model on the same data as before:"
   ]
  },
  {
   "cell_type": "code",
   "execution_count": 13,
   "id": "804005a7146a902e",
   "metadata": {
    "ExecuteTime": {
     "end_time": "2024-02-27T17:27:59.703176Z",
     "start_time": "2024-02-27T17:27:59.698197Z"
    },
    "execution": {
     "iopub.execute_input": "2024-03-03T23:08:04.934807Z",
     "iopub.status.busy": "2024-03-03T23:08:04.934589Z",
     "iopub.status.idle": "2024-03-03T23:08:04.937936Z",
     "shell.execute_reply": "2024-03-03T23:08:04.937476Z"
    }
   },
   "outputs": [],
   "source": [
    "model: LinearRegressor = LinearRegressor(in_features=P, out_features=1, bias=True)"
   ]
  },
  {
   "cell_type": "code",
   "execution_count": 14,
   "id": "3e9d545ebabdbf77",
   "metadata": {
    "ExecuteTime": {
     "end_time": "2024-02-27T17:27:59.708793Z",
     "start_time": "2024-02-27T17:27:59.704783Z"
    },
    "execution": {
     "iopub.execute_input": "2024-03-03T23:08:04.939804Z",
     "iopub.status.busy": "2024-03-03T23:08:04.939461Z",
     "iopub.status.idle": "2024-03-03T23:08:04.944983Z",
     "shell.execute_reply": "2024-03-03T23:08:04.944319Z"
    }
   },
   "outputs": [],
   "source": [
    "model.ols_fit(X_orig, y)"
   ]
  },
  {
   "cell_type": "markdown",
   "id": "418a8c856a84bf43",
   "metadata": {},
   "source": [
    "And we can evaluate the loss as before:"
   ]
  },
  {
   "cell_type": "code",
   "execution_count": 15,
   "id": "f91ddc5352e0c666",
   "metadata": {
    "ExecuteTime": {
     "end_time": "2024-02-27T17:27:59.713237Z",
     "start_time": "2024-02-27T17:27:59.710054Z"
    },
    "execution": {
     "iopub.execute_input": "2024-03-03T23:08:04.946867Z",
     "iopub.status.busy": "2024-03-03T23:08:04.946678Z",
     "iopub.status.idle": "2024-03-03T23:08:04.950721Z",
     "shell.execute_reply": "2024-03-03T23:08:04.950191Z"
    }
   },
   "outputs": [],
   "source": [
    "loss: Tensor = th.nn.functional.mse_loss(input=model(X_orig), target=y)"
   ]
  },
  {
   "cell_type": "markdown",
   "id": "e0f1e54cec97ff2b",
   "metadata": {},
   "source": [
    "We can inspect the current parameters of our model by either direct access, or by using the `state_dict` method."
   ]
  },
  {
   "cell_type": "code",
   "execution_count": 16,
   "id": "84abbb20495d59ae",
   "metadata": {
    "ExecuteTime": {
     "end_time": "2024-02-27T17:27:59.732380Z",
     "start_time": "2024-02-27T17:27:59.714508Z"
    },
    "execution": {
     "iopub.execute_input": "2024-03-03T23:08:04.952567Z",
     "iopub.status.busy": "2024-03-03T23:08:04.952267Z",
     "iopub.status.idle": "2024-03-03T23:08:04.964199Z",
     "shell.execute_reply": "2024-03-03T23:08:04.963709Z"
    }
   },
   "outputs": [
    {
     "name": "stdout",
     "output_type": "stream",
     "text": [
      "    | model.affine_transform.weight: Parameter containing:\n",
      "                                     tensor([[ 0.2536,  0.0994,  0.4797,  0.3550,  0.9301,  0.4329,  0.6928,  0.7113,\n",
      "                                               0.5327,  0.6052,  0.5905,  0.0303,  0.5479,  0.5935,  0.2501,  0.3446,\n",
      "                                               0.2549,  0.1108,  0.7020,  1.2182,  0.9437,  0.1354,  0.3055,  0.8016,\n",
      "                                               0.5745,  0.3108,  0.4095,  0.0104,  0.1172,  0.5548,  0.8014,  0.3603,\n",
      "                                               0.7178,  0.6580,  0.6380,  0.6459,  0.3372,  0.6770,  0.5437,  0.9355,\n",
      "                                               0.4584,  0.7067, -0.0932,  0.0302,  0.4818,  0.8110,  0.2801,  0.4663,\n",
      "                                               0.5458,  0.1527,  0.0698,  0.6360,  0.9035,  0.4096,  0.0943,  0.4644,\n",
      "                                               0.4387,  0.8787,  0.4741,  0.3805,  0.1215,  0.1190,  0.4796,  0.9208,\n",
      "                                               0.8987,  0.2194,  0.4368,  0.6158,  0.4869,  0.0597, -0.0491,  0.2827,\n",
      "                                               1.0291,  0.3784,  0.6813,  1.1317,  0.5607,  0.9803,  0.2570,  0.9369,\n",
      "                                               0.2885,  0.7764,  0.2748,  0.0634,  1.0166,  0.8068,  0.9753,  0.3012,\n",
      "                                               0.8279,  0.8628, -0.0322,  1.1400,  0.7570,  0.3883,  0.1217,  0.1507,\n",
      "                                               0.3963,  0.1479,  0.4520,  0.2023]], requires_grad=True)\n",
      "    | model.affine_transform.bias: Parameter containing:\n",
      "                                   tensor([-0.2054], requires_grad=True)\n"
     ]
    }
   ],
   "source": [
    "_ = ic(model.affine_transform.weight)\n",
    "_ = ic(model.affine_transform.bias)"
   ]
  },
  {
   "cell_type": "code",
   "execution_count": 17,
   "id": "75a518bf4474a8ac",
   "metadata": {
    "ExecuteTime": {
     "end_time": "2024-02-27T17:27:59.747173Z",
     "start_time": "2024-02-27T17:27:59.733980Z"
    },
    "execution": {
     "iopub.execute_input": "2024-03-03T23:08:04.965820Z",
     "iopub.status.busy": "2024-03-03T23:08:04.965535Z",
     "iopub.status.idle": "2024-03-03T23:08:04.974398Z",
     "shell.execute_reply": "2024-03-03T23:08:04.973671Z"
    }
   },
   "outputs": [
    {
     "name": "stdout",
     "output_type": "stream",
     "text": [
      "    | model.state_dict(): OrderedDict([('affine_transform.weight',\n",
      "                                        tensor([[ 0.2536,  0.0994,  0.4797,  0.3550,  0.9301,  0.4329,  0.6928,  0.7113,\n",
      "                                    0.5327,  0.6052,  0.5905,  0.0303,  0.5479,  0.5935,  0.2501,  0.3446,\n",
      "                                    0.2549,  0.1108,  0.7020,  1.2182,  0.9437,  0.1354,  0.3055,  0.8016,\n",
      "                                    0.5745,  0.3108,  0.4095,  0.0104,  0.1172,  0.5548,  0.8014,  0.3603,\n",
      "                                    0.7178,  0.6580,  0.6380,  0.6459,  0.3372,  0.6770,  0.5437,  0.9355,\n",
      "                                    0.4584,  0.7067, -0.0932,  0.0302,  0.4818,  0.8110,  0.2801,  0.4663,\n",
      "                                    0.5458,  0.1527,  0.0698,  0.6360,  0.9035,  0.4096,  0.0943,  0.4644,\n",
      "                                    0.4387,  0.8787,  0.4741,  0.3805,  0.1215,  0.1190,  0.4796,  0.9208,\n",
      "                                    0.8987,  0.2194,  0.4368,  0.6158,  0.4869,  0.0597, -0.0491,  0.2827,\n",
      "                                    1.0291,  0.3784,  0.6813,  1.1317,  0.5607,  0.9803,  0.2570,  0.9369,\n",
      "                                    0.2885,  0.7764,  0.2748,  0.0634,  1.0166,  0.8068,  0.9753,  0.3012,\n",
      "                                    0.8279,  0.8628, -0.0322,  1.1400,  0.7570,  0.3883,  0.1217,  0.1507,\n",
      "                                    0.3963,  0.1479,  0.4520,  0.2023]])),\n",
      "                                       ('affine_transform.bias', tensor([-0.2054]))])\n"
     ]
    }
   ],
   "source": [
    "_ = ic(model.state_dict())"
   ]
  },
  {
   "cell_type": "markdown",
   "id": "bfed33c2a7d207ad",
   "metadata": {},
   "source": [
    "Model saving/loading is also straightforward:"
   ]
  },
  {
   "cell_type": "code",
   "execution_count": 18,
   "id": "c487d57dc752d224",
   "metadata": {
    "ExecuteTime": {
     "end_time": "2024-02-27T17:27:59.753629Z",
     "start_time": "2024-02-27T17:27:59.748978Z"
    },
    "execution": {
     "iopub.execute_input": "2024-03-03T23:08:04.976156Z",
     "iopub.status.busy": "2024-03-03T23:08:04.975982Z",
     "iopub.status.idle": "2024-03-03T23:08:04.990989Z",
     "shell.execute_reply": "2024-03-03T23:08:04.990427Z"
    }
   },
   "outputs": [],
   "source": [
    "# Saving with `torch.save`\n",
    "th.save(\n",
    "    model.state_dict(), \"./model_ols.pt\"\n",
    ")  # Beware: we do not save `model` directly, but its `state_dict`!\n",
    "\n",
    "# Saving with `safetensors`\n",
    "safe_save_model(model, \"./model_ols_safe.safetensors\")"
   ]
  },
  {
   "cell_type": "code",
   "execution_count": 19,
   "id": "74d48d031700fbb7",
   "metadata": {
    "ExecuteTime": {
     "end_time": "2024-02-27T17:27:59.760199Z",
     "start_time": "2024-02-27T17:27:59.754925Z"
    },
    "execution": {
     "iopub.execute_input": "2024-03-03T23:08:04.993144Z",
     "iopub.status.busy": "2024-03-03T23:08:04.992830Z",
     "iopub.status.idle": "2024-03-03T23:08:05.006621Z",
     "shell.execute_reply": "2024-03-03T23:08:05.005946Z"
    }
   },
   "outputs": [],
   "source": [
    "# Loading with `torch.load`\n",
    "model_loaded = LinearRegressor(in_features=P, out_features=1, bias=True)\n",
    "model_loaded.load_state_dict(th.load(\"./model_ols.pt\"))\n",
    "\n",
    "# Loading with `safetensors`\n",
    "model_loaded_safe = LinearRegressor(in_features=P, out_features=1, bias=True)\n",
    "_ = safe_load_model(model_loaded_safe, \"./model_ols_safe.safetensors\")"
   ]
  }
 ],
 "metadata": {
  "kernelspec": {
   "display_name": "Python 3",
   "language": "python",
   "name": "python3"
  },
  "language_info": {
   "codemirror_mode": {
    "name": "ipython",
    "version": 3
   },
   "file_extension": ".py",
   "mimetype": "text/x-python",
   "name": "python",
   "nbconvert_exporter": "python",
   "pygments_lexer": "ipython3",
   "version": "3.11.8"
  }
 },
 "nbformat": 4,
 "nbformat_minor": 5
}
