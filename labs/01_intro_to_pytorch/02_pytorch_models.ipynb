{
 "cells": [
  {
   "cell_type": "markdown",
   "id": "f63623daf7993ffb",
   "metadata": {},
   "source": [
    "# 🔥 Introduction to `PyTorch` -- Building ML models\n",
    "\n",
    "[Deep Learning](https://dsai.units.it/index.php/courses/deep-learning/) Course @ [UniTS](https://portale.units.it/en), Spring 2024\n",
    "\n",
    "<a target=\"_blank\" href=\"https://colab.research.google.com/github/emaballarin/deeplearning-units/blob/main/labs/01_intro_to_pytorch/02_pytorch_models.ipynb\"><img src=\"https://colab.research.google.com/assets/colab-badge.svg\" alt=\"Open in Colab\"/></a>  <a target=\"_blank\" href=\"https://kaggle.com/kernels/welcome?src=https://github.com/emaballarin/deeplearning-units/blob/main/labs/01_intro_to_pytorch/02_pytorch_models.ipynb\"><img src=\"https://kaggle.com/static/images/open-in-kaggle.svg\" alt=\"Open in Kaggle\"/></a>"
   ]
  },
  {
   "cell_type": "markdown",
   "id": "9efd284c13fc6ea5",
   "metadata": {},
   "source": [
    "### Preliminary infrastucture setup"
   ]
  },
  {
   "cell_type": "code",
   "execution_count": 1,
   "id": "4960e223aae556e2",
   "metadata": {
    "execution": {
     "iopub.execute_input": "2024-03-11T00:51:25.886783Z",
     "iopub.status.busy": "2024-03-11T00:51:25.886565Z",
     "iopub.status.idle": "2024-03-11T00:51:25.896405Z",
     "shell.execute_reply": "2024-03-11T00:51:25.895632Z"
    }
   },
   "outputs": [],
   "source": [
    "import os\n",
    "\n",
    "FOLDERNAME: str = \"deeplearning_units_2024\"\n",
    "try:\n",
    "    if os.getenv(\"COLAB_RELEASE_TAG\"):\n",
    "        # noinspection PyUnresolvedReferences\n",
    "        from google.colab import drive\n",
    "\n",
    "        drive.mount(BASEPATH := \"/content/drive\")\n",
    "        os.makedirs(FULLPATH := BASEPATH + \"/MyDrive/\" + FOLDERNAME, exist_ok=True)\n",
    "    elif os.getenv(\"KAGGLE_CONTAINER_NAME\"):\n",
    "        os.makedirs(FULLPATH := \"/kaggle/working/\" + FOLDERNAME, exist_ok=True)\n",
    "    else:\n",
    "        os.makedirs(FULLPATH := \"./\" + FOLDERNAME, exist_ok=True)\n",
    "    os.chdir(FULLPATH)\n",
    "except (ModuleNotFoundError, FileExistsError, FileNotFoundError):\n",
    "    pass"
   ]
  },
  {
   "cell_type": "code",
   "execution_count": 2,
   "id": "a89c9b057229a895",
   "metadata": {
    "ExecuteTime": {
     "end_time": "2024-02-27T17:27:58.686844Z",
     "start_time": "2024-02-27T17:27:57.286870Z"
    },
    "execution": {
     "iopub.execute_input": "2024-03-11T00:51:25.899219Z",
     "iopub.status.busy": "2024-03-11T00:51:25.898993Z",
     "iopub.status.idle": "2024-03-11T00:51:30.021978Z",
     "shell.execute_reply": "2024-03-11T00:51:30.020320Z"
    }
   },
   "outputs": [],
   "source": [
    "!python -m pip install -q icecream"
   ]
  },
  {
   "cell_type": "code",
   "execution_count": 3,
   "id": "b4519a0e7269d06a",
   "metadata": {
    "ExecuteTime": {
     "end_time": "2024-02-27T17:27:58.777738Z",
     "start_time": "2024-02-27T17:27:58.748187Z"
    },
    "execution": {
     "iopub.execute_input": "2024-03-11T00:51:30.027911Z",
     "iopub.status.busy": "2024-03-11T00:51:30.026894Z",
     "iopub.status.idle": "2024-03-11T00:51:30.072183Z",
     "shell.execute_reply": "2024-03-11T00:51:30.070887Z"
    }
   },
   "outputs": [],
   "source": [
    "# Pretty printouts\n",
    "from icecream import ic\n",
    "\n",
    "ic.configureOutput(outputFunction=print)\n",
    "ic.configureOutput(prefix=\"    | \")"
   ]
  },
  {
   "cell_type": "markdown",
   "id": "5951ffbf0d96ab1",
   "metadata": {},
   "source": [
    "### Some imports"
   ]
  },
  {
   "cell_type": "code",
   "execution_count": 4,
   "id": "c13a187452f5e5d0",
   "metadata": {
    "ExecuteTime": {
     "end_time": "2024-02-27T17:27:59.632898Z",
     "start_time": "2024-02-27T17:27:58.780228Z"
    },
    "execution": {
     "iopub.execute_input": "2024-03-11T00:51:30.075743Z",
     "iopub.status.busy": "2024-03-11T00:51:30.075471Z",
     "iopub.status.idle": "2024-03-11T00:51:31.582775Z",
     "shell.execute_reply": "2024-03-11T00:51:31.581454Z"
    }
   },
   "outputs": [],
   "source": [
    "import torch as th\n",
    "from safetensors.torch import save_file as safe_save_file\n",
    "from safetensors.torch import save_model as safe_save_model\n",
    "from safetensors.torch import load_model as safe_load_model\n",
    "from torch import Tensor"
   ]
  },
  {
   "cell_type": "markdown",
   "id": "ebe8efc22cda0fc8",
   "metadata": {},
   "source": [
    "## Example: Linear regression..."
   ]
  },
  {
   "cell_type": "markdown",
   "id": "c45e288aaed21573",
   "metadata": {},
   "source": [
    "### ... with *bare tensors*\n",
    "By using all the pieces we've seen till now, we can build our first *model* using PyTorch: a linear regressor, *i.e.*:\n",
    "\n",
    "$$\n",
    "y = XW + b\n",
    "$$\n",
    "\n",
    "which can also be simplified as:\n",
    "\n",
    "$$\n",
    "y = XW\n",
    "$$\n",
    "\n",
    "if we incorporate the bias $b$ inside $W$ and add to the $X$ a column of ones to the right."
   ]
  },
  {
   "cell_type": "markdown",
   "id": "862efcec61c47a09",
   "metadata": {},
   "source": [
    "We start by generating our data. We randomly sample $X$ as a $N\\times P$ tensor, meaning that we have 1000 datapoints and 100 features and produce $y$ as:\n",
    "$$\n",
    "y=XM+\\mathcal{N}(0,I)\n",
    "$$\n",
    "where $M$ is a randomly drawn projection vector (shape $P\\times 1$, same as our weights).\n",
    "We are adding some iid gaussian noise on the $y$ to avoid the interpolation regime, in which we could be fitting our data perfectly using a linear model."
   ]
  },
  {
   "cell_type": "code",
   "execution_count": 5,
   "id": "a06636304ac3490",
   "metadata": {
    "ExecuteTime": {
     "end_time": "2024-02-27T17:27:59.640675Z",
     "start_time": "2024-02-27T17:27:59.634754Z"
    },
    "execution": {
     "iopub.execute_input": "2024-03-11T00:51:31.587208Z",
     "iopub.status.busy": "2024-03-11T00:51:31.586242Z",
     "iopub.status.idle": "2024-03-11T00:51:31.602555Z",
     "shell.execute_reply": "2024-03-11T00:51:31.601061Z"
    }
   },
   "outputs": [],
   "source": [
    "N: int = 1000\n",
    "P: int = 100\n",
    "X_orig: Tensor = th.rand(N, P)\n",
    "M: Tensor = th.rand(P, 1)\n",
    "y: Tensor = X_orig @ M + th.normal(\n",
    "    mean=th.zeros(N, 1), std=th.ones(N, 1)\n",
    ")  # Convenience functions: `th.zeros`, `th.ones`\n",
    "# Also: PyTorch supports probability distributions (e.g. `th.normal`)"
   ]
  },
  {
   "cell_type": "markdown",
   "id": "9ea9b586a411ab58",
   "metadata": {},
   "source": [
    "We can add a column of ones to $X$ to include the bias:"
   ]
  },
  {
   "cell_type": "code",
   "execution_count": 6,
   "id": "ea39e1e84547f0de",
   "metadata": {
    "ExecuteTime": {
     "end_time": "2024-02-27T17:27:59.646375Z",
     "start_time": "2024-02-27T17:27:59.642278Z"
    },
    "execution": {
     "iopub.execute_input": "2024-03-11T00:51:31.606780Z",
     "iopub.status.busy": "2024-03-11T00:51:31.606176Z",
     "iopub.status.idle": "2024-03-11T00:51:31.611498Z",
     "shell.execute_reply": "2024-03-11T00:51:31.610536Z"
    }
   },
   "outputs": [],
   "source": [
    "X: Tensor = th.cat(\n",
    "    tensors=[X_orig, th.ones(N, 1)], dim=1\n",
    ")  # `th.cat` concatenates tensors along a given dimension"
   ]
  },
  {
   "cell_type": "markdown",
   "id": "dc5a495beb1b2c13",
   "metadata": {},
   "source": [
    "The regressor can be fit with classical statistical methods such as Ordinary Least Squares (OLS), and the optimal $W$ has the form:\n",
    "\n",
    "$$\n",
    "W^*=(X^TX)^{-1}X^Ty\n",
    "$$"
   ]
  },
  {
   "cell_type": "code",
   "execution_count": 7,
   "id": "7456423463d739ca",
   "metadata": {
    "ExecuteTime": {
     "end_time": "2024-02-27T17:27:59.659154Z",
     "start_time": "2024-02-27T17:27:59.647807Z"
    },
    "execution": {
     "iopub.execute_input": "2024-03-11T00:51:31.614900Z",
     "iopub.status.busy": "2024-03-11T00:51:31.614618Z",
     "iopub.status.idle": "2024-03-11T00:51:31.630705Z",
     "shell.execute_reply": "2024-03-11T00:51:31.628796Z"
    }
   },
   "outputs": [],
   "source": [
    "W_star: Tensor = ((X.T @ X).inverse()) @ X.T @ y"
   ]
  },
  {
   "cell_type": "markdown",
   "id": "e3609277e1816a59",
   "metadata": {},
   "source": [
    "To assess the quality of this fit we can evaluate the Mean Squared Error (MSE) between the original $y$ and the prediction:"
   ]
  },
  {
   "cell_type": "code",
   "execution_count": 8,
   "id": "dcff08ee1210bb8e",
   "metadata": {
    "ExecuteTime": {
     "end_time": "2024-02-27T17:27:59.676630Z",
     "start_time": "2024-02-27T17:27:59.661120Z"
    },
    "execution": {
     "iopub.execute_input": "2024-03-11T00:51:31.635960Z",
     "iopub.status.busy": "2024-03-11T00:51:31.634680Z",
     "iopub.status.idle": "2024-03-11T00:51:31.655256Z",
     "shell.execute_reply": "2024-03-11T00:51:31.654344Z"
    }
   },
   "outputs": [
    {
     "name": "stdout",
     "output_type": "stream",
     "text": [
      "    | loss: tensor(0.8591)\n"
     ]
    }
   ],
   "source": [
    "loss: Tensor = th.nn.functional.mse_loss(input=X @ W_star, target=y)\n",
    "_ = ic(loss)"
   ]
  },
  {
   "cell_type": "markdown",
   "id": "7507863737b2327c",
   "metadata": {},
   "source": [
    "Fitted model parameters can be saved (and loaded afterwards) using the `torch.save` (and `torch.load`) function:"
   ]
  },
  {
   "cell_type": "code",
   "execution_count": 9,
   "id": "c3a369a5e051f82e",
   "metadata": {
    "ExecuteTime": {
     "end_time": "2024-02-27T17:27:59.682565Z",
     "start_time": "2024-02-27T17:27:59.678439Z"
    },
    "execution": {
     "iopub.execute_input": "2024-03-11T00:51:31.660153Z",
     "iopub.status.busy": "2024-03-11T00:51:31.659116Z",
     "iopub.status.idle": "2024-03-11T00:51:31.681132Z",
     "shell.execute_reply": "2024-03-11T00:51:31.680079Z"
    }
   },
   "outputs": [],
   "source": [
    "th.save(W_star, \"./W_star_ols.pt\")"
   ]
  },
  {
   "cell_type": "markdown",
   "id": "6c9379f4b1436131",
   "metadata": {},
   "source": [
    "**Note**:\n",
    "\n",
    "The `torch.save` function is not limited to save tensors, but can be used to save any kind of object (e.g. models, optimizers, etc.). Under the hood, it uses the (in)famous `pickle` module.\n",
    "\n",
    "Such setup allows for great convenience, but also for potential security risks. Be careful when loading objects from untrusted sources. Or use [`safetensors`](https://github.com/huggingface/safetensors) instead!"
   ]
  },
  {
   "cell_type": "code",
   "execution_count": 10,
   "id": "e8e834c0bed4bcd0",
   "metadata": {
    "ExecuteTime": {
     "end_time": "2024-02-27T17:27:59.690012Z",
     "start_time": "2024-02-27T17:27:59.685737Z"
    },
    "execution": {
     "iopub.execute_input": "2024-03-11T00:51:31.684775Z",
     "iopub.status.busy": "2024-03-11T00:51:31.684023Z",
     "iopub.status.idle": "2024-03-11T00:51:31.699647Z",
     "shell.execute_reply": "2024-03-11T00:51:31.697128Z"
    }
   },
   "outputs": [],
   "source": [
    "safe_save_file(\n",
    "    {\"W_star\": W_star}, \"./W_star_ols_safe.safetensors\"\n",
    ")  # The only difference: the saved tensor should be named."
   ]
  },
  {
   "cell_type": "markdown",
   "id": "a6edc89d502716",
   "metadata": {},
   "source": [
    "### ... with a `torch.nn.Module`"
   ]
  },
  {
   "cell_type": "markdown",
   "id": "e04ab72fb865c317",
   "metadata": {},
   "source": [
    "The same linear regression model can be implemented using the `torch.nn.Module` class. This is the recommended way to build models in PyTorch, as it allows for a more structured and modular approach, and for gradient-based optimization of model parameters.\n",
    "\n",
    "In general, a PyTorch model is a Python class that inherits from `torch.nn.Module` and implements (at least) these two methods:\n",
    "\n",
    "1. `__init__`: the constructor, in which we **must** define all learnable parameters of the model (directly as `torch.nn.Parameters`s, or as members of other class objects);\n",
    "2. `forward`: the method that specifies how input data fed into the model need to be processed in order to produce some outputs.\n",
    "\n",
    "**Note**:\n",
    "\n",
    "In our case, the transformation of the inputs we are looking for is already implemented by the `torch.nn.Linear` class, which is a subclass of `torch.nn.Module` itself. We can use it to build our linear regressor."
   ]
  },
  {
   "cell_type": "code",
   "execution_count": 11,
   "id": "2e40ab063994afe5",
   "metadata": {
    "ExecuteTime": {
     "end_time": "2024-02-27T17:27:59.697097Z",
     "start_time": "2024-02-27T17:27:59.691503Z"
    },
    "execution": {
     "iopub.execute_input": "2024-03-11T00:51:31.704727Z",
     "iopub.status.busy": "2024-03-11T00:51:31.704159Z",
     "iopub.status.idle": "2024-03-11T00:51:31.713102Z",
     "shell.execute_reply": "2024-03-11T00:51:31.712093Z"
    }
   },
   "outputs": [],
   "source": [
    "class LinearRegressor(th.nn.Module):\n",
    "    def __init__(self, in_features: int, out_features: int, bias: bool = True) -> None:\n",
    "        super().__init__()\n",
    "        self.affine_transform: th.nn.Linear = th.nn.Linear(\n",
    "            in_features=in_features, out_features=out_features, bias=bias\n",
    "        )\n",
    "\n",
    "    def forward(self, x: Tensor) -> Tensor:\n",
    "        return self.affine_transform(x)\n",
    "\n",
    "    # Just for the fun of it, we can add a method to fit the model using OLS.\n",
    "    # With gradient-based optimization, this would not be necessary. But it's a good exercise.\n",
    "    def ols_fit(self, xols: Tensor, yols: Tensor) -> None:\n",
    "        with th.no_grad():\n",
    "            xols: Tensor = th.cat(tensors=[xols, th.ones(xols.shape[0], 1)], dim=1)\n",
    "            wols: Tensor = ((xols.T @ xols).inverse()) @ xols.T @ yols\n",
    "            self.affine_transform.weight.data = (\n",
    "                wols[: self.affine_transform.in_features].T.detach().clone()\n",
    "            )\n",
    "            self.affine_transform.bias.data = wols[-1].detach().clone()"
   ]
  },
  {
   "cell_type": "markdown",
   "id": "55b5ebab871b1fbb",
   "metadata": {},
   "source": [
    "Now, we can fit the model on the same data as before:"
   ]
  },
  {
   "cell_type": "code",
   "execution_count": 12,
   "id": "804005a7146a902e",
   "metadata": {
    "ExecuteTime": {
     "end_time": "2024-02-27T17:27:59.703176Z",
     "start_time": "2024-02-27T17:27:59.698197Z"
    },
    "execution": {
     "iopub.execute_input": "2024-03-11T00:51:31.718559Z",
     "iopub.status.busy": "2024-03-11T00:51:31.717893Z",
     "iopub.status.idle": "2024-03-11T00:51:31.733175Z",
     "shell.execute_reply": "2024-03-11T00:51:31.731855Z"
    }
   },
   "outputs": [],
   "source": [
    "model: LinearRegressor = LinearRegressor(in_features=P, out_features=1, bias=True)"
   ]
  },
  {
   "cell_type": "code",
   "execution_count": 13,
   "id": "3e9d545ebabdbf77",
   "metadata": {
    "ExecuteTime": {
     "end_time": "2024-02-27T17:27:59.708793Z",
     "start_time": "2024-02-27T17:27:59.704783Z"
    },
    "execution": {
     "iopub.execute_input": "2024-03-11T00:51:31.749982Z",
     "iopub.status.busy": "2024-03-11T00:51:31.748936Z",
     "iopub.status.idle": "2024-03-11T00:51:31.773728Z",
     "shell.execute_reply": "2024-03-11T00:51:31.772355Z"
    }
   },
   "outputs": [],
   "source": [
    "model.ols_fit(X_orig, y)"
   ]
  },
  {
   "cell_type": "markdown",
   "id": "418a8c856a84bf43",
   "metadata": {},
   "source": [
    "And we can evaluate the loss as before:"
   ]
  },
  {
   "cell_type": "code",
   "execution_count": 14,
   "id": "f91ddc5352e0c666",
   "metadata": {
    "ExecuteTime": {
     "end_time": "2024-02-27T17:27:59.713237Z",
     "start_time": "2024-02-27T17:27:59.710054Z"
    },
    "execution": {
     "iopub.execute_input": "2024-03-11T00:51:31.783366Z",
     "iopub.status.busy": "2024-03-11T00:51:31.778243Z",
     "iopub.status.idle": "2024-03-11T00:51:31.789990Z",
     "shell.execute_reply": "2024-03-11T00:51:31.788891Z"
    }
   },
   "outputs": [],
   "source": [
    "loss: Tensor = th.nn.functional.mse_loss(input=model(X_orig), target=y)"
   ]
  },
  {
   "cell_type": "markdown",
   "id": "e0f1e54cec97ff2b",
   "metadata": {},
   "source": [
    "We can inspect the current parameters of our model by either direct access, or by using the `state_dict` method."
   ]
  },
  {
   "cell_type": "code",
   "execution_count": 15,
   "id": "84abbb20495d59ae",
   "metadata": {
    "ExecuteTime": {
     "end_time": "2024-02-27T17:27:59.732380Z",
     "start_time": "2024-02-27T17:27:59.714508Z"
    },
    "execution": {
     "iopub.execute_input": "2024-03-11T00:51:31.794145Z",
     "iopub.status.busy": "2024-03-11T00:51:31.793278Z",
     "iopub.status.idle": "2024-03-11T00:51:31.836763Z",
     "shell.execute_reply": "2024-03-11T00:51:31.833658Z"
    }
   },
   "outputs": [
    {
     "name": "stdout",
     "output_type": "stream",
     "text": [
      "    | model.affine_transform.weight: Parameter containing:\n",
      "                                     tensor([[ 0.5963,  0.6497,  0.9396, -0.0878,  0.2611,  0.8544,  0.6439,  0.4179,\n",
      "                                               0.4146,  0.1758,  0.7922,  0.5906,  0.4977,  0.2918,  0.8679,  0.1529,\n",
      "                                               0.2587,  0.3577,  0.6932,  1.0592,  0.4067,  0.9920,  0.3309,  0.9488,\n",
      "                                               0.3644,  0.4979,  0.9386, -0.0156,  0.4458,  0.7184,  0.0957,  0.5006,\n",
      "                                               0.2560,  0.9376,  0.1499,  0.9353,  0.9729,  0.1293,  0.1422,  0.4160,\n",
      "                                               0.3071,  0.8860,  0.2521,  0.2335,  0.5679,  0.5577,  0.8773,  0.6631,\n",
      "                                               0.7721,  0.6754,  0.9474,  0.1749,  0.6238,  0.9228,  0.7314,  0.7042,\n",
      "                                               0.7480,  0.6070,  0.6059,  0.4976,  0.7954,  0.3701,  0.7394,  0.2645,\n",
      "                                               0.7874,  0.7755,  1.1118,  0.1149,  0.7007,  0.7095,  0.6334,  0.8502,\n",
      "                                               0.7591,  0.5941,  0.7053,  0.5113,  0.3380,  0.4492,  0.6163,  0.2091,\n",
      "                                               0.7042,  0.4248,  0.3860,  0.3776,  0.2891,  0.7758,  0.7982,  0.2219,\n",
      "                                               0.0232,  0.3504,  1.0948,  0.1573,  0.1468,  0.3514,  0.7235,  0.9937,\n",
      "                                               0.6282,  0.6667,  0.5117,  0.3129]], requires_grad=True)\n",
      "    | model.affine_transform.bias: Parameter containing:\n",
      "                                   tensor([-0.3450], requires_grad=True)\n"
     ]
    }
   ],
   "source": [
    "_ = ic(model.affine_transform.weight)\n",
    "_ = ic(model.affine_transform.bias)"
   ]
  },
  {
   "cell_type": "code",
   "execution_count": 16,
   "id": "75a518bf4474a8ac",
   "metadata": {
    "ExecuteTime": {
     "end_time": "2024-02-27T17:27:59.747173Z",
     "start_time": "2024-02-27T17:27:59.733980Z"
    },
    "execution": {
     "iopub.execute_input": "2024-03-11T00:51:31.844886Z",
     "iopub.status.busy": "2024-03-11T00:51:31.844533Z",
     "iopub.status.idle": "2024-03-11T00:51:31.871678Z",
     "shell.execute_reply": "2024-03-11T00:51:31.870616Z"
    }
   },
   "outputs": [
    {
     "name": "stdout",
     "output_type": "stream",
     "text": [
      "    | model.state_dict(): OrderedDict([('affine_transform.weight',\n",
      "                                        tensor([[ 0.5963,  0.6497,  0.9396, -0.0878,  0.2611,  0.8544,  0.6439,  0.4179,\n",
      "                                    0.4146,  0.1758,  0.7922,  0.5906,  0.4977,  0.2918,  0.8679,  0.1529,\n",
      "                                    0.2587,  0.3577,  0.6932,  1.0592,  0.4067,  0.9920,  0.3309,  0.9488,\n",
      "                                    0.3644,  0.4979,  0.9386, -0.0156,  0.4458,  0.7184,  0.0957,  0.5006,\n",
      "                                    0.2560,  0.9376,  0.1499,  0.9353,  0.9729,  0.1293,  0.1422,  0.4160,\n",
      "                                    0.3071,  0.8860,  0.2521,  0.2335,  0.5679,  0.5577,  0.8773,  0.6631,\n",
      "                                    0.7721,  0.6754,  0.9474,  0.1749,  0.6238,  0.9228,  0.7314,  0.7042,\n",
      "                                    0.7480,  0.6070,  0.6059,  0.4976,  0.7954,  0.3701,  0.7394,  0.2645,\n",
      "                                    0.7874,  0.7755,  1.1118,  0.1149,  0.7007,  0.7095,  0.6334,  0.8502,\n",
      "                                    0.7591,  0.5941,  0.7053,  0.5113,  0.3380,  0.4492,  0.6163,  0.2091,\n",
      "                                    0.7042,  0.4248,  0.3860,  0.3776,  0.2891,  0.7758,  0.7982,  0.2219,\n",
      "                                    0.0232,  0.3504,  1.0948,  0.1573,  0.1468,  0.3514,  0.7235,  0.9937,\n",
      "                                    0.6282,  0.6667,  0.5117,  0.3129]])),\n",
      "                                       ('affine_transform.bias', tensor([-0.3450]))])\n"
     ]
    }
   ],
   "source": [
    "_ = ic(model.state_dict())"
   ]
  },
  {
   "cell_type": "markdown",
   "id": "bfed33c2a7d207ad",
   "metadata": {},
   "source": [
    "Model saving/loading is also straightforward:"
   ]
  },
  {
   "cell_type": "code",
   "execution_count": 17,
   "id": "c487d57dc752d224",
   "metadata": {
    "ExecuteTime": {
     "end_time": "2024-02-27T17:27:59.753629Z",
     "start_time": "2024-02-27T17:27:59.748978Z"
    },
    "execution": {
     "iopub.execute_input": "2024-03-11T00:51:31.876532Z",
     "iopub.status.busy": "2024-03-11T00:51:31.875119Z",
     "iopub.status.idle": "2024-03-11T00:51:31.902323Z",
     "shell.execute_reply": "2024-03-11T00:51:31.901235Z"
    }
   },
   "outputs": [],
   "source": [
    "# Saving with `torch.save`\n",
    "th.save(\n",
    "    model.state_dict(), \"./model_ols.pt\"\n",
    ")  # Beware: we do not save `model` directly, but its `state_dict`!\n",
    "\n",
    "# Saving with `safetensors`\n",
    "safe_save_model(model, \"./model_ols_safe.safetensors\")"
   ]
  },
  {
   "cell_type": "code",
   "execution_count": 18,
   "id": "74d48d031700fbb7",
   "metadata": {
    "ExecuteTime": {
     "end_time": "2024-02-27T17:27:59.760199Z",
     "start_time": "2024-02-27T17:27:59.754925Z"
    },
    "execution": {
     "iopub.execute_input": "2024-03-11T00:51:31.905898Z",
     "iopub.status.busy": "2024-03-11T00:51:31.905539Z",
     "iopub.status.idle": "2024-03-11T00:51:31.923317Z",
     "shell.execute_reply": "2024-03-11T00:51:31.922234Z"
    }
   },
   "outputs": [],
   "source": [
    "# Loading with `torch.load`\n",
    "model_loaded: LinearRegressor = LinearRegressor(\n",
    "    in_features=P, out_features=1, bias=True\n",
    ")\n",
    "model_loaded.load_state_dict(th.load(\"./model_ols.pt\"))\n",
    "\n",
    "# Loading with `safetensors`\n",
    "model_loaded_safe: LinearRegressor = LinearRegressor(\n",
    "    in_features=P, out_features=1, bias=True\n",
    ")\n",
    "_ = safe_load_model(model_loaded_safe, \"./model_ols_safe.safetensors\")"
   ]
  }
 ],
 "metadata": {
  "kernelspec": {
   "display_name": "Python 3",
   "language": "python",
   "name": "python3"
  },
  "language_info": {
   "codemirror_mode": {
    "name": "ipython",
    "version": 3
   },
   "file_extension": ".py",
   "mimetype": "text/x-python",
   "name": "python",
   "nbconvert_exporter": "python",
   "pygments_lexer": "ipython3",
   "version": "3.11.8"
  }
 },
 "nbformat": 4,
 "nbformat_minor": 5
}
