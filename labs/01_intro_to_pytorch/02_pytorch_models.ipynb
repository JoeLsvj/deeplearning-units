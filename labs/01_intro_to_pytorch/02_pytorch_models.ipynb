{
 "cells": [
  {
   "cell_type": "markdown",
   "id": "f63623daf7993ffb",
   "metadata": {},
   "source": [
    "# 🔥 Introduction to `PyTorch` -- Building ML models\n",
    "\n",
    "[Deep Learning](https://dsai.units.it/index.php/courses/deep-learning/) Course @ [UniTS](https://portale.units.it/en), Spring 2024\n",
    "\n",
    "<a target=\"_blank\" href=\"https://colab.research.google.com/github/emaballarin/deeplearning-units/blob/main/labs/01_intro_to_pytorch/02_pytorch_models.ipynb\"><img src=\"https://colab.research.google.com/assets/colab-badge.svg\" alt=\"Open in Colab\"/></a>  <a target=\"_blank\" href=\"https://kaggle.com/kernels/welcome?src=https://github.com/emaballarin/deeplearning-units/blob/main/labs/01_intro_to_pytorch/02_pytorch_models.ipynb\"><img src=\"https://kaggle.com/static/images/open-in-kaggle.svg\" alt=\"Open in Kaggle\"/></a>"
   ]
  },
  {
   "cell_type": "markdown",
   "id": "9efd284c13fc6ea5",
   "metadata": {},
   "source": [
    "### Preliminary infrastucture setup"
   ]
  },
  {
   "cell_type": "code",
   "execution_count": 1,
   "id": "4960e223aae556e2",
   "metadata": {
    "execution": {
     "iopub.execute_input": "2024-04-08T12:56:17.516447Z",
     "iopub.status.busy": "2024-04-08T12:56:17.516076Z",
     "iopub.status.idle": "2024-04-08T12:56:17.526712Z",
     "shell.execute_reply": "2024-04-08T12:56:17.526025Z"
    }
   },
   "outputs": [],
   "source": [
    "import os\n",
    "\n",
    "FOLDERNAME: str = \"deeplearning_units_2024\"\n",
    "try:\n",
    "    if os.getenv(\"COLAB_RELEASE_TAG\"):\n",
    "        # noinspection PyUnresolvedReferences\n",
    "        from google.colab import drive\n",
    "\n",
    "        drive.mount(BASEPATH := \"/content/drive\")\n",
    "        os.makedirs(FULLPATH := BASEPATH + \"/MyDrive/\" + FOLDERNAME, exist_ok=True)\n",
    "    elif os.getenv(\"KAGGLE_CONTAINER_NAME\"):\n",
    "        os.makedirs(FULLPATH := \"/kaggle/working/\" + FOLDERNAME, exist_ok=True)\n",
    "    else:\n",
    "        os.makedirs(FULLPATH := \"./\" + FOLDERNAME, exist_ok=True)\n",
    "    os.chdir(FULLPATH)\n",
    "except (ModuleNotFoundError, FileExistsError, FileNotFoundError):\n",
    "    pass"
   ]
  },
  {
   "cell_type": "code",
   "execution_count": 2,
   "id": "a89c9b057229a895",
   "metadata": {
    "ExecuteTime": {
     "end_time": "2024-02-27T17:27:58.686844Z",
     "start_time": "2024-02-27T17:27:57.286870Z"
    },
    "execution": {
     "iopub.execute_input": "2024-04-08T12:56:17.529680Z",
     "iopub.status.busy": "2024-04-08T12:56:17.528880Z",
     "iopub.status.idle": "2024-04-08T12:56:21.396744Z",
     "shell.execute_reply": "2024-04-08T12:56:21.394011Z"
    }
   },
   "outputs": [],
   "source": [
    "!python -m pip install -q icecream"
   ]
  },
  {
   "cell_type": "code",
   "execution_count": 3,
   "id": "b4519a0e7269d06a",
   "metadata": {
    "ExecuteTime": {
     "end_time": "2024-02-27T17:27:58.777738Z",
     "start_time": "2024-02-27T17:27:58.748187Z"
    },
    "execution": {
     "iopub.execute_input": "2024-04-08T12:56:21.409551Z",
     "iopub.status.busy": "2024-04-08T12:56:21.408294Z",
     "iopub.status.idle": "2024-04-08T12:56:21.467130Z",
     "shell.execute_reply": "2024-04-08T12:56:21.466168Z"
    }
   },
   "outputs": [],
   "source": [
    "# Pretty printouts\n",
    "from icecream import ic\n",
    "\n",
    "ic.configureOutput(outputFunction=print)\n",
    "ic.configureOutput(prefix=\"    | \")"
   ]
  },
  {
   "cell_type": "markdown",
   "id": "5951ffbf0d96ab1",
   "metadata": {},
   "source": [
    "### Some imports"
   ]
  },
  {
   "cell_type": "code",
   "execution_count": 4,
   "id": "c13a187452f5e5d0",
   "metadata": {
    "ExecuteTime": {
     "end_time": "2024-02-27T17:27:59.632898Z",
     "start_time": "2024-02-27T17:27:58.780228Z"
    },
    "execution": {
     "iopub.execute_input": "2024-04-08T12:56:21.471468Z",
     "iopub.status.busy": "2024-04-08T12:56:21.470529Z",
     "iopub.status.idle": "2024-04-08T12:56:23.507954Z",
     "shell.execute_reply": "2024-04-08T12:56:23.506539Z"
    }
   },
   "outputs": [],
   "source": [
    "import torch as th\n",
    "from safetensors.torch import save_file as safe_save_file\n",
    "from safetensors.torch import save_model as safe_save_model\n",
    "from safetensors.torch import load_model as safe_load_model\n",
    "from torch import Tensor"
   ]
  },
  {
   "cell_type": "markdown",
   "id": "ebe8efc22cda0fc8",
   "metadata": {},
   "source": [
    "## Example: Linear regression..."
   ]
  },
  {
   "cell_type": "markdown",
   "id": "c45e288aaed21573",
   "metadata": {},
   "source": [
    "### ... with *bare tensors*\n",
    "By using all the pieces we've seen till now, we can build our first *model* using PyTorch: a linear regressor, *i.e.*:\n",
    "\n",
    "$$\n",
    "y = XW + b\n",
    "$$\n",
    "\n",
    "which can also be simplified as:\n",
    "\n",
    "$$\n",
    "y = XW\n",
    "$$\n",
    "\n",
    "if we incorporate the bias $b$ inside $W$ and add to the $X$ a column of ones to the right."
   ]
  },
  {
   "cell_type": "markdown",
   "id": "862efcec61c47a09",
   "metadata": {},
   "source": [
    "We start by generating our data. We randomly sample $X$ as a $N\\times P$ tensor, meaning that we have 1000 datapoints and 100 features and produce $y$ as:\n",
    "$$\n",
    "y=XM+\\mathcal{N}(0,I)\n",
    "$$\n",
    "where $M$ is a randomly drawn projection vector (shape $P\\times 1$, same as our weights).\n",
    "We are adding some iid gaussian noise on the $y$ to avoid the interpolation regime, in which we could be fitting our data perfectly using a linear model."
   ]
  },
  {
   "cell_type": "code",
   "execution_count": 5,
   "id": "a06636304ac3490",
   "metadata": {
    "ExecuteTime": {
     "end_time": "2024-02-27T17:27:59.640675Z",
     "start_time": "2024-02-27T17:27:59.634754Z"
    },
    "execution": {
     "iopub.execute_input": "2024-04-08T12:56:23.513384Z",
     "iopub.status.busy": "2024-04-08T12:56:23.512374Z",
     "iopub.status.idle": "2024-04-08T12:56:23.529295Z",
     "shell.execute_reply": "2024-04-08T12:56:23.528316Z"
    }
   },
   "outputs": [],
   "source": [
    "N: int = 1000\n",
    "P: int = 100\n",
    "X_orig: Tensor = th.rand(N, P)\n",
    "M: Tensor = th.rand(P, 1)\n",
    "y: Tensor = X_orig @ M + th.normal(\n",
    "    mean=th.zeros(N, 1), std=th.ones(N, 1)\n",
    ")  # Convenience functions: `th.zeros`, `th.ones`\n",
    "# Also: PyTorch supports probability distributions (e.g. `th.normal`)"
   ]
  },
  {
   "cell_type": "markdown",
   "id": "9ea9b586a411ab58",
   "metadata": {},
   "source": [
    "We can add a column of ones to $X$ to include the bias:"
   ]
  },
  {
   "cell_type": "code",
   "execution_count": 6,
   "id": "ea39e1e84547f0de",
   "metadata": {
    "ExecuteTime": {
     "end_time": "2024-02-27T17:27:59.646375Z",
     "start_time": "2024-02-27T17:27:59.642278Z"
    },
    "execution": {
     "iopub.execute_input": "2024-04-08T12:56:23.534633Z",
     "iopub.status.busy": "2024-04-08T12:56:23.533809Z",
     "iopub.status.idle": "2024-04-08T12:56:23.541887Z",
     "shell.execute_reply": "2024-04-08T12:56:23.540041Z"
    }
   },
   "outputs": [],
   "source": [
    "X: Tensor = th.cat(\n",
    "    tensors=[X_orig, th.ones(N, 1)], dim=1\n",
    ")  # `th.cat` concatenates tensors along a given dimension"
   ]
  },
  {
   "cell_type": "markdown",
   "id": "dc5a495beb1b2c13",
   "metadata": {},
   "source": [
    "The regressor can be fit with classical statistical methods such as Ordinary Least Squares (OLS), and the optimal $W$ has the form:\n",
    "\n",
    "$$\n",
    "W^*=(X^TX)^{-1}X^Ty\n",
    "$$"
   ]
  },
  {
   "cell_type": "code",
   "execution_count": 7,
   "id": "7456423463d739ca",
   "metadata": {
    "ExecuteTime": {
     "end_time": "2024-02-27T17:27:59.659154Z",
     "start_time": "2024-02-27T17:27:59.647807Z"
    },
    "execution": {
     "iopub.execute_input": "2024-04-08T12:56:23.551469Z",
     "iopub.status.busy": "2024-04-08T12:56:23.551140Z",
     "iopub.status.idle": "2024-04-08T12:56:23.626797Z",
     "shell.execute_reply": "2024-04-08T12:56:23.625577Z"
    }
   },
   "outputs": [],
   "source": [
    "W_star: Tensor = ((X.T @ X).inverse()) @ X.T @ y"
   ]
  },
  {
   "cell_type": "markdown",
   "id": "e3609277e1816a59",
   "metadata": {},
   "source": [
    "To assess the quality of this fit we can evaluate the Mean Squared Error (MSE) between the original $y$ and the prediction:"
   ]
  },
  {
   "cell_type": "code",
   "execution_count": 8,
   "id": "dcff08ee1210bb8e",
   "metadata": {
    "ExecuteTime": {
     "end_time": "2024-02-27T17:27:59.676630Z",
     "start_time": "2024-02-27T17:27:59.661120Z"
    },
    "execution": {
     "iopub.execute_input": "2024-04-08T12:56:23.635387Z",
     "iopub.status.busy": "2024-04-08T12:56:23.634531Z",
     "iopub.status.idle": "2024-04-08T12:56:23.668156Z",
     "shell.execute_reply": "2024-04-08T12:56:23.666466Z"
    }
   },
   "outputs": [
    {
     "name": "stdout",
     "output_type": "stream",
     "text": [
      "    | loss: tensor(0.8635)\n"
     ]
    }
   ],
   "source": [
    "loss: Tensor = th.nn.functional.mse_loss(input=X @ W_star, target=y)\n",
    "_ = ic(loss)"
   ]
  },
  {
   "cell_type": "markdown",
   "id": "7507863737b2327c",
   "metadata": {},
   "source": [
    "Fitted model parameters can be saved (and loaded afterwards) using the `torch.save` (and `torch.load`) function:"
   ]
  },
  {
   "cell_type": "code",
   "execution_count": 9,
   "id": "c3a369a5e051f82e",
   "metadata": {
    "ExecuteTime": {
     "end_time": "2024-02-27T17:27:59.682565Z",
     "start_time": "2024-02-27T17:27:59.678439Z"
    },
    "execution": {
     "iopub.execute_input": "2024-04-08T12:56:23.673471Z",
     "iopub.status.busy": "2024-04-08T12:56:23.672074Z",
     "iopub.status.idle": "2024-04-08T12:56:23.699313Z",
     "shell.execute_reply": "2024-04-08T12:56:23.698315Z"
    }
   },
   "outputs": [],
   "source": [
    "th.save(W_star, \"./W_star_ols.pt\")"
   ]
  },
  {
   "cell_type": "code",
   "execution_count": 10,
   "id": "07ce9fed-6679-4b37-824e-6e1c04f8d95d",
   "metadata": {
    "execution": {
     "iopub.execute_input": "2024-04-08T12:56:23.703034Z",
     "iopub.status.busy": "2024-04-08T12:56:23.702518Z",
     "iopub.status.idle": "2024-04-08T12:56:23.715284Z",
     "shell.execute_reply": "2024-04-08T12:56:23.714177Z"
    }
   },
   "outputs": [],
   "source": [
    "x = th.load(\"./W_star_ols.pt\")"
   ]
  },
  {
   "cell_type": "markdown",
   "id": "6c9379f4b1436131",
   "metadata": {},
   "source": [
    "**Note**:\n",
    "\n",
    "The `torch.save` function is not limited to save tensors, but can be used to save any kind of object (e.g. models, optimizers, etc.). Under the hood, it uses the (in)famous `pickle` module.\n",
    "\n",
    "Such setup allows for great convenience, but also for potential security risks. Be careful when loading objects from untrusted sources. Or use [`safetensors`](https://github.com/huggingface/safetensors) instead!"
   ]
  },
  {
   "cell_type": "code",
   "execution_count": 11,
   "id": "e8e834c0bed4bcd0",
   "metadata": {
    "ExecuteTime": {
     "end_time": "2024-02-27T17:27:59.690012Z",
     "start_time": "2024-02-27T17:27:59.685737Z"
    },
    "execution": {
     "iopub.execute_input": "2024-04-08T12:56:23.720549Z",
     "iopub.status.busy": "2024-04-08T12:56:23.719393Z",
     "iopub.status.idle": "2024-04-08T12:56:23.735755Z",
     "shell.execute_reply": "2024-04-08T12:56:23.734498Z"
    }
   },
   "outputs": [],
   "source": [
    "safe_save_file(\n",
    "    {\"W_star\": W_star}, \"./W_star_ols_safe.safetensors\"\n",
    ")  # The only difference: the saved tensor should be named."
   ]
  },
  {
   "cell_type": "markdown",
   "id": "a6edc89d502716",
   "metadata": {},
   "source": [
    "### ... with a `torch.nn.Module`"
   ]
  },
  {
   "cell_type": "markdown",
   "id": "e04ab72fb865c317",
   "metadata": {},
   "source": [
    "The same linear regression model can be implemented using the `torch.nn.Module` class. This is the recommended way to build models in PyTorch, as it allows for a more structured and modular approach, and for gradient-based optimization of model parameters.\n",
    "\n",
    "In general, a PyTorch model is a Python class that inherits from `torch.nn.Module` and implements (at least) these two methods:\n",
    "\n",
    "1. `__init__`: the constructor, in which we **must** define all learnable parameters of the model (directly as `torch.nn.Parameters`s, or as members of other class objects);\n",
    "2. `forward`: the method that specifies how input data fed into the model need to be processed in order to produce some outputs.\n",
    "\n",
    "**Note**:\n",
    "\n",
    "In our case, the transformation of the inputs we are looking for is already implemented by the `torch.nn.Linear` class, which is a subclass of `torch.nn.Module` itself. We can use it to build our linear regressor."
   ]
  },
  {
   "cell_type": "code",
   "execution_count": 12,
   "id": "2e40ab063994afe5",
   "metadata": {
    "ExecuteTime": {
     "end_time": "2024-02-27T17:27:59.697097Z",
     "start_time": "2024-02-27T17:27:59.691503Z"
    },
    "execution": {
     "iopub.execute_input": "2024-04-08T12:56:23.743514Z",
     "iopub.status.busy": "2024-04-08T12:56:23.742668Z",
     "iopub.status.idle": "2024-04-08T12:56:23.751027Z",
     "shell.execute_reply": "2024-04-08T12:56:23.750125Z"
    }
   },
   "outputs": [],
   "source": [
    "class LinearRegressor(th.nn.Module):\n",
    "    def __init__(self, in_features: int, out_features: int, bias: bool = True) -> None:\n",
    "        super().__init__()\n",
    "        self.affine_transform: th.nn.Linear = th.nn.Linear(\n",
    "            in_features=in_features, out_features=out_features, bias=bias\n",
    "        )\n",
    "\n",
    "    def forward(self, x: Tensor) -> Tensor:\n",
    "        return self.affine_transform(x)\n",
    "\n",
    "    # Just for the fun of it, we can add a method to fit the model using OLS.\n",
    "    # With gradient-based optimization, this would not be necessary. But it's a good exercise.\n",
    "    def ols_fit(self, xols: Tensor, yols: Tensor) -> None:\n",
    "        with th.no_grad():\n",
    "            xols: Tensor = th.cat(tensors=[xols, th.ones(xols.shape[0], 1)], dim=1)\n",
    "            wols: Tensor = ((xols.T @ xols).inverse()) @ xols.T @ yols\n",
    "            self.affine_transform.weight.data = (\n",
    "                wols[: self.affine_transform.in_features].T.detach().clone()\n",
    "            )\n",
    "            self.affine_transform.bias.data = wols[-1].detach().clone()"
   ]
  },
  {
   "cell_type": "markdown",
   "id": "55b5ebab871b1fbb",
   "metadata": {},
   "source": [
    "Now, we can fit the model on the same data as before:"
   ]
  },
  {
   "cell_type": "code",
   "execution_count": 13,
   "id": "804005a7146a902e",
   "metadata": {
    "ExecuteTime": {
     "end_time": "2024-02-27T17:27:59.703176Z",
     "start_time": "2024-02-27T17:27:59.698197Z"
    },
    "execution": {
     "iopub.execute_input": "2024-04-08T12:56:23.754958Z",
     "iopub.status.busy": "2024-04-08T12:56:23.753838Z",
     "iopub.status.idle": "2024-04-08T12:56:23.762975Z",
     "shell.execute_reply": "2024-04-08T12:56:23.761543Z"
    }
   },
   "outputs": [],
   "source": [
    "model: LinearRegressor = LinearRegressor(in_features=P, out_features=1, bias=True)"
   ]
  },
  {
   "cell_type": "code",
   "execution_count": 14,
   "id": "3e9d545ebabdbf77",
   "metadata": {
    "ExecuteTime": {
     "end_time": "2024-02-27T17:27:59.708793Z",
     "start_time": "2024-02-27T17:27:59.704783Z"
    },
    "execution": {
     "iopub.execute_input": "2024-04-08T12:56:23.773820Z",
     "iopub.status.busy": "2024-04-08T12:56:23.768341Z",
     "iopub.status.idle": "2024-04-08T12:56:23.803386Z",
     "shell.execute_reply": "2024-04-08T12:56:23.801748Z"
    }
   },
   "outputs": [],
   "source": [
    "model.ols_fit(X_orig, y)"
   ]
  },
  {
   "cell_type": "markdown",
   "id": "418a8c856a84bf43",
   "metadata": {},
   "source": [
    "And we can evaluate the loss as before:"
   ]
  },
  {
   "cell_type": "code",
   "execution_count": 15,
   "id": "f91ddc5352e0c666",
   "metadata": {
    "ExecuteTime": {
     "end_time": "2024-02-27T17:27:59.713237Z",
     "start_time": "2024-02-27T17:27:59.710054Z"
    },
    "execution": {
     "iopub.execute_input": "2024-04-08T12:56:23.812844Z",
     "iopub.status.busy": "2024-04-08T12:56:23.810591Z",
     "iopub.status.idle": "2024-04-08T12:56:23.835448Z",
     "shell.execute_reply": "2024-04-08T12:56:23.833614Z"
    }
   },
   "outputs": [],
   "source": [
    "loss: Tensor = th.nn.functional.mse_loss(input=model(X_orig), target=y)"
   ]
  },
  {
   "cell_type": "markdown",
   "id": "e0f1e54cec97ff2b",
   "metadata": {},
   "source": [
    "We can inspect the current parameters of our model by either direct access, or by using the `state_dict` method."
   ]
  },
  {
   "cell_type": "code",
   "execution_count": 16,
   "id": "84abbb20495d59ae",
   "metadata": {
    "ExecuteTime": {
     "end_time": "2024-02-27T17:27:59.732380Z",
     "start_time": "2024-02-27T17:27:59.714508Z"
    },
    "execution": {
     "iopub.execute_input": "2024-04-08T12:56:23.839662Z",
     "iopub.status.busy": "2024-04-08T12:56:23.839325Z",
     "iopub.status.idle": "2024-04-08T12:56:23.907717Z",
     "shell.execute_reply": "2024-04-08T12:56:23.906129Z"
    }
   },
   "outputs": [
    {
     "name": "stdout",
     "output_type": "stream",
     "text": [
      "    | model.affine_transform.weight: Parameter containing:\n",
      "                                     tensor([[ 0.2253,  1.0736,  0.2241,  0.3892, -0.0062,  1.0857,  0.3598,  0.3392,\n",
      "                                               0.5522,  0.2815,  0.6899,  0.5343,  0.7399,  0.4310,  0.0640,  1.0202,\n",
      "                                               0.2488,  1.1033,  0.1392,  0.1781,  0.0781,  0.8250,  0.4928,  0.7848,\n",
      "                                               0.5377,  0.7197,  0.6340,  1.0032,  0.2498,  0.2164,  0.6768,  0.2064,\n",
      "                                               0.8753,  0.4743, -0.0056,  0.1607,  0.9678,  0.2030,  0.4997,  0.8111,\n",
      "                                               0.2608,  0.3000,  0.8080,  0.8597,  0.1004,  0.3003,  0.2023,  0.6427,\n",
      "                                               0.4679, -0.0693,  0.1465,  0.1611,  1.0256,  0.9617,  0.2664,  0.1842,\n",
      "                                              -0.0732,  0.9360,  0.9962,  0.5740,  0.6104,  0.1891,  0.3522,  0.9289,\n",
      "                                               0.8705,  0.4079,  0.4236,  0.7566,  0.4727,  0.7526,  0.6572,  0.8701,\n",
      "                                               0.9527,  0.0969, -0.0922,  0.7201,  0.0873,  1.1439,  0.4881,  0.6448,\n",
      "                                               0.1662,  0.7138,  0.0722,  1.0639,  0.2860,  0.4526,  0.8675,  0.5458,\n",
      "                                               0.5999,  0.8457,  0.6105,  0.2638, -0.1732,  0.2113,  0.7603,  0.2797,\n",
      "                                               0.8991,  0.1639,  0.2068,  0.4495]], requires_grad=True)\n",
      "    | model.affine_transform.bias: Parameter containing:\n",
      "                                   tensor([0.4320], requires_grad=True)\n"
     ]
    }
   ],
   "source": [
    "_ = ic(model.affine_transform.weight)\n",
    "_ = ic(model.affine_transform.bias)"
   ]
  },
  {
   "cell_type": "code",
   "execution_count": 17,
   "id": "75a518bf4474a8ac",
   "metadata": {
    "ExecuteTime": {
     "end_time": "2024-02-27T17:27:59.747173Z",
     "start_time": "2024-02-27T17:27:59.733980Z"
    },
    "execution": {
     "iopub.execute_input": "2024-04-08T12:56:23.919328Z",
     "iopub.status.busy": "2024-04-08T12:56:23.918564Z",
     "iopub.status.idle": "2024-04-08T12:56:23.983517Z",
     "shell.execute_reply": "2024-04-08T12:56:23.976044Z"
    }
   },
   "outputs": [
    {
     "name": "stdout",
     "output_type": "stream",
     "text": [
      "    | model.state_dict(): OrderedDict([('affine_transform.weight',\n",
      "                                        tensor([[ 0.2253,  1.0736,  0.2241,  0.3892, -0.0062,  1.0857,  0.3598,  0.3392,\n",
      "                                    0.5522,  0.2815,  0.6899,  0.5343,  0.7399,  0.4310,  0.0640,  1.0202,\n",
      "                                    0.2488,  1.1033,  0.1392,  0.1781,  0.0781,  0.8250,  0.4928,  0.7848,\n",
      "                                    0.5377,  0.7197,  0.6340,  1.0032,  0.2498,  0.2164,  0.6768,  0.2064,\n",
      "                                    0.8753,  0.4743, -0.0056,  0.1607,  0.9678,  0.2030,  0.4997,  0.8111,\n",
      "                                    0.2608,  0.3000,  0.8080,  0.8597,  0.1004,  0.3003,  0.2023,  0.6427,\n",
      "                                    0.4679, -0.0693,  0.1465,  0.1611,  1.0256,  0.9617,  0.2664,  0.1842,\n",
      "                                   -0.0732,  0.9360,  0.9962,  0.5740,  0.6104,  0.1891,  0.3522,  0.9289,\n",
      "                                    0.8705,  0.4079,  0.4236,  0.7566,  0.4727,  0.7526,  0.6572,  0.8701,\n",
      "                                    0.9527,  0.0969, -0.0922,  0.7201,  0.0873,  1.1439,  0.4881,  0.6448,\n",
      "                                    0.1662,  0.7138,  0.0722,  1.0639,  0.2860,  0.4526,  0.8675,  0.5458,\n",
      "                                    0.5999,  0.8457,  0.6105,  0.2638, -0.1732,  0.2113,  0.7603,  0.2797,\n",
      "                                    0.8991,  0.1639,  0.2068,  0.4495]])),\n",
      "                                       ('affine_transform.bias', tensor([0.4320]))])\n"
     ]
    }
   ],
   "source": [
    "_ = ic(model.state_dict())"
   ]
  },
  {
   "cell_type": "markdown",
   "id": "bfed33c2a7d207ad",
   "metadata": {},
   "source": [
    "Model saving/loading is also straightforward:"
   ]
  },
  {
   "cell_type": "code",
   "execution_count": 18,
   "id": "c487d57dc752d224",
   "metadata": {
    "ExecuteTime": {
     "end_time": "2024-02-27T17:27:59.753629Z",
     "start_time": "2024-02-27T17:27:59.748978Z"
    },
    "execution": {
     "iopub.execute_input": "2024-04-08T12:56:23.991278Z",
     "iopub.status.busy": "2024-04-08T12:56:23.990400Z",
     "iopub.status.idle": "2024-04-08T12:56:24.025092Z",
     "shell.execute_reply": "2024-04-08T12:56:24.024086Z"
    }
   },
   "outputs": [],
   "source": [
    "# Saving with `torch.save`\n",
    "th.save(\n",
    "    model.state_dict(), \"./model_ols.pt\"\n",
    ")  # Beware: we do not save `model` directly, but its `state_dict`!\n",
    "\n",
    "# Saving with `safetensors`\n",
    "safe_save_model(model, \"./model_ols_safe.safetensors\")"
   ]
  },
  {
   "cell_type": "code",
   "execution_count": 19,
   "id": "74d48d031700fbb7",
   "metadata": {
    "ExecuteTime": {
     "end_time": "2024-02-27T17:27:59.760199Z",
     "start_time": "2024-02-27T17:27:59.754925Z"
    },
    "execution": {
     "iopub.execute_input": "2024-04-08T12:56:24.028221Z",
     "iopub.status.busy": "2024-04-08T12:56:24.027848Z",
     "iopub.status.idle": "2024-04-08T12:56:24.061196Z",
     "shell.execute_reply": "2024-04-08T12:56:24.057699Z"
    }
   },
   "outputs": [],
   "source": [
    "# Loading with `torch.load`\n",
    "model_loaded: LinearRegressor = LinearRegressor(\n",
    "    in_features=P, out_features=1, bias=True\n",
    ")\n",
    "model_loaded.load_state_dict(th.load(\"./model_ols.pt\"))\n",
    "\n",
    "# Loading with `safetensors`\n",
    "model_loaded_safe: LinearRegressor = LinearRegressor(\n",
    "    in_features=P, out_features=1, bias=True\n",
    ")\n",
    "_ = safe_load_model(model_loaded_safe, \"./model_ols_safe.safetensors\")"
   ]
  }
 ],
 "metadata": {
  "kernelspec": {
   "display_name": "Python 3 (ipykernel)",
   "language": "python",
   "name": "python3"
  },
  "language_info": {
   "codemirror_mode": {
    "name": "ipython",
    "version": 3
   },
   "file_extension": ".py",
   "mimetype": "text/x-python",
   "name": "python",
   "nbconvert_exporter": "python",
   "pygments_lexer": "ipython3",
   "version": "3.11.8"
  }
 },
 "nbformat": 4,
 "nbformat_minor": 5
}
