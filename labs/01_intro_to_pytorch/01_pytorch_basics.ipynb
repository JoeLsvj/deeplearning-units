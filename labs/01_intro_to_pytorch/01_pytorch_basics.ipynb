{
 "cells": [
  {
   "cell_type": "markdown",
   "id": "f63623daf7993ffb",
   "metadata": {},
   "source": [
    "# 🔥 Introduction to `PyTorch` -- The basics\n",
    "\n",
    "[Deep Learning](https://dsai.units.it/index.php/courses/deep-learning/) Course @ [UniTS](https://portale.units.it/en), Spring 2024\n",
    "\n",
    "<a target=\"_blank\" href=\"https://colab.research.google.com/github/emaballarin/deeplearning-units/blob/main/labs/01_intro_to_pytorch/01_pytorch_basics.ipynb\"><img src=\"https://colab.research.google.com/assets/colab-badge.svg\" alt=\"Open in Colab\"/></a>"
   ]
  },
  {
   "cell_type": "markdown",
   "id": "97f5c3d9f39d243f",
   "metadata": {},
   "source": [
    "### An aside on *programming*\n",
    "\n",
    "![image.png](https://ballarin.cc/code.jpg)\n",
    "<br><sub><sup>From <a href=\"https://www.commitstrip.com/en/2016/08/25/a-very-comprehensive-and-precise-spec/\">CommitStrip.com (August 25th, 2016)</a></sup></sub>"
   ]
  },
  {
   "cell_type": "markdown",
   "id": "7fc12980e669bc69",
   "metadata": {},
   "source": [
    "### What is PyTorch?\n",
    "\n",
    "[PyTorch](https://pytorch.org/) (sometimes referred to simply as `torch`) is a Python/C++ library for:\n",
    "- Efficient numerical computing, with support for strong GPU acceleration & parallelism;\n",
    "- Automatic algorithmic differentiation (mainly in *reverse mode*, *tape-based*; but more recently also in *forward mode*);\n",
    "- Development of deep artificial neural network models (*a.k.a.* *deep learning*);\n",
    "\n",
    "It is also well integrated with the *scientific Python stack* (*i.e.* NumPy *& friends*).\n",
    "\n",
    "The flexibility of PyTorch and its *Pythonic* interfaces make it the most widely adopted framework for research and development, both in academia and industry (especially industrial *R&D*).\n",
    "\n",
    "For more info about PyTorch, you can have a look at the [official documentation](https://pytorch.org/docs/stable/index.html) or refer to [this book](https://bucket.ballarin.cc/books/EStevens_LAntiga_TViehmann_DeepLearningWithPyTorch.pdf).  \n",
    "For insights about the inner workings of *autodiff*, you can start exploring the topic from [this survey](https://arxiv.org/abs/1502.05767)."
   ]
  },
  {
   "cell_type": "markdown",
   "id": "9efd284c13fc6ea5",
   "metadata": {},
   "source": [
    "### Preliminary infrastucture setup"
   ]
  },
  {
   "cell_type": "code",
   "id": "a89c9b057229a895",
   "metadata": {
    "ExecuteTime": {
     "end_time": "2024-02-27T17:27:24.170579Z",
     "start_time": "2024-02-27T17:27:22.735637Z"
    }
   },
   "source": [
    "!python -m pip install -q pip_install_if_missing"
   ],
   "outputs": [],
   "execution_count": 1
  },
  {
   "cell_type": "code",
   "id": "1e489ddb0875803",
   "metadata": {
    "ExecuteTime": {
     "end_time": "2024-02-27T17:27:24.226666Z",
     "start_time": "2024-02-27T17:27:24.172234Z"
    }
   },
   "source": [
    "from piim import pip_install_if_missing\n",
    "\n",
    "pip_install_if_missing(\"icecream\")"
   ],
   "outputs": [],
   "execution_count": 2
  },
  {
   "cell_type": "code",
   "id": "b4519a0e7269d06a",
   "metadata": {
    "ExecuteTime": {
     "end_time": "2024-02-27T17:27:24.253320Z",
     "start_time": "2024-02-27T17:27:24.228194Z"
    }
   },
   "source": [
    "# Pretty printouts\n",
    "from icecream import ic\n",
    "\n",
    "ic.configureOutput(outputFunction=print)\n",
    "ic.configureOutput(prefix=\"    | \")"
   ],
   "outputs": [],
   "execution_count": 3
  },
  {
   "cell_type": "markdown",
   "id": "5951ffbf0d96ab1",
   "metadata": {},
   "source": [
    "### Some imports"
   ]
  },
  {
   "cell_type": "code",
   "id": "c13a187452f5e5d0",
   "metadata": {
    "ExecuteTime": {
     "end_time": "2024-02-27T17:27:25.620449Z",
     "start_time": "2024-02-27T17:27:24.255383Z"
    }
   },
   "source": [
    "# It all begins with...\n",
    "import torch as th  # (or simply `import torch`)\n",
    "\n",
    "import numpy as np  # For comparison\n",
    "\n",
    "import matplotlib.pyplot as plt  # For plotting\n",
    "\n",
    "# For type annotations\n",
    "from torch import Tensor\n",
    "from numpy.typing import NDArray\n",
    "from typing import Any"
   ],
   "outputs": [],
   "execution_count": 4
  },
  {
   "cell_type": "markdown",
   "id": "c62bdd03270ec604",
   "metadata": {},
   "source": [
    "## Basic operation with `Tensor`s\n",
    "\n",
    "The main building block of PyTorch's linear algebra capabilities is the `Tensor` class. A torch `Tensor` is the (loose) equivalent of NumPy's `ndarray` and most of the functionalities are the same as in NumPy. In general, it is always possible to perform the same logical/mathematical operations typical of NumPy on torch `Tensor`s."
   ]
  },
  {
   "cell_type": "code",
   "id": "97639f7b5d4bf576",
   "metadata": {
    "ExecuteTime": {
     "end_time": "2024-02-27T17:27:25.641234Z",
     "start_time": "2024-02-27T17:27:25.621884Z"
    }
   },
   "source": [
    "# Creation of tensors\n",
    "x: Tensor = th.tensor([[1, 2, 3], [4, 5, 6]])\n",
    "y: NDArray[Any] = np.array([[1, 2, 3], [4, 5, 6]])\n",
    "\n",
    "_ = ic(x)\n",
    "_ = ic(y)"
   ],
   "outputs": [
    {
     "name": "stdout",
     "output_type": "stream",
     "text": [
      "    | x: tensor([[1, 2, 3],\n",
      "                 [4, 5, 6]])\n",
      "    | y: array([[1, 2, 3],\n",
      "                [4, 5, 6]])\n"
     ]
    }
   ],
   "execution_count": 5
  },
  {
   "cell_type": "code",
   "id": "f1b2a61bdd00d36b",
   "metadata": {
    "ExecuteTime": {
     "end_time": "2024-02-27T17:27:25.655732Z",
     "start_time": "2024-02-27T17:27:25.642700Z"
    }
   },
   "source": [
    "# Shapes and sizes\n",
    "_ = ic(x.size())\n",
    "_ = ic(x.shape)\n",
    "\n",
    "_ = ic(y.shape)"
   ],
   "outputs": [
    {
     "name": "stdout",
     "output_type": "stream",
     "text": [
      "    | x.size(): torch.Size([2, 3])\n",
      "    | x.shape: torch.Size([2, 3])\n",
      "    | y.shape: (2, 3)\n"
     ]
    }
   ],
   "execution_count": 6
  },
  {
   "cell_type": "code",
   "id": "e4614b76d7efde51",
   "metadata": {
    "ExecuteTime": {
     "end_time": "2024-02-27T17:27:25.666900Z",
     "start_time": "2024-02-27T17:27:25.657291Z"
    }
   },
   "source": [
    "# (d)types\n",
    "_ = ic(x.dtype)\n",
    "_ = ic(y.dtype)"
   ],
   "outputs": [
    {
     "name": "stdout",
     "output_type": "stream",
     "text": [
      "    | x.dtype: torch.int64\n",
      "    | y.dtype: dtype('int64')\n"
     ]
    }
   ],
   "execution_count": 7
  },
  {
   "cell_type": "markdown",
   "id": "2e5ece1b03e8661",
   "metadata": {},
   "source": [
    "You can convert the dtype of a tensor by using `Tensor` methods `float()`, `int()`, etc.... or by using the `to(dtype=...)` method:"
   ]
  },
  {
   "cell_type": "code",
   "id": "b9b240f23dd9d09d",
   "metadata": {
    "ExecuteTime": {
     "end_time": "2024-02-27T17:27:25.672273Z",
     "start_time": "2024-02-27T17:27:25.667979Z"
    }
   },
   "source": [
    "print(\"dtype of x before casting:\", x.dtype)\n",
    "x: Tensor = x.float()\n",
    "print(\"dtype of x after casting:\", x.dtype)"
   ],
   "outputs": [
    {
     "name": "stdout",
     "output_type": "stream",
     "text": [
      "dtype of x before casting: torch.int64\n",
      "dtype of x after casting: torch.float32\n"
     ]
    }
   ],
   "execution_count": 8
  },
  {
   "cell_type": "code",
   "id": "3138ba05fa45f65d",
   "metadata": {
    "ExecuteTime": {
     "end_time": "2024-02-27T17:27:25.677701Z",
     "start_time": "2024-02-27T17:27:25.673324Z"
    }
   },
   "source": [
    "# Or with more granular control\n",
    "x: Tensor = x.to(dtype=th.float16)\n",
    "print(\"dtype of x:\", x.dtype)"
   ],
   "outputs": [
    {
     "name": "stdout",
     "output_type": "stream",
     "text": [
      "dtype of x: torch.float16\n"
     ]
    }
   ],
   "execution_count": 9
  },
  {
   "cell_type": "markdown",
   "id": "e5a985a2d902d1b4",
   "metadata": {},
   "source": [
    "Note that you can build a tensor through the constructor `th.Tensor` (as opposed to `torch.tensor`, mind the capitalisation!). In this case, since `th.Tensor` is an alias for `th.FloatTensor`, the tensor you create will have type `th.float32`.\n",
    "\n",
    "More info on `Tensor` data types: [here](https://pytorch.org/docs/stable/tensors.html)."
   ]
  },
  {
   "cell_type": "markdown",
   "id": "2785522c0da9c33e",
   "metadata": {},
   "source": [
    "You can create random tensors, just like you create random arrays in `NumPy`:"
   ]
  },
  {
   "cell_type": "code",
   "id": "434a3b9928c68260",
   "metadata": {
    "ExecuteTime": {
     "end_time": "2024-02-27T17:27:25.692605Z",
     "start_time": "2024-02-27T17:27:25.679793Z"
    }
   },
   "source": [
    "x: Tensor = th.rand(\n",
    "    2, 3, 2\n",
    ")  # also accepts a list or tuple of integers (e.g. th.rand([2, 3, 2]), etc...)\n",
    "y: NDArray[Any] = np.random.rand(2, 3, 2)\n",
    "\n",
    "_ = ic(x)\n",
    "_ = ic(y)"
   ],
   "outputs": [
    {
     "name": "stdout",
     "output_type": "stream",
     "text": [
      "    | x: tensor([[[0.0566, 0.6746],\n",
      "                  [0.1083, 0.8392],\n",
      "                  [0.8146, 0.7506]],\n",
      "         \n",
      "                 [[0.4512, 0.5809],\n",
      "                  [0.4778, 0.6406],\n",
      "                  [0.2304, 0.5144]]])\n",
      "    | y: array([[[0.97096942, 0.64125227],\n",
      "                 [0.83194714, 0.54701953],\n",
      "                 [0.66671112, 0.78667349]],\n",
      "         \n",
      "                [[0.76515973, 0.8957745 ],\n",
      "                 [0.8366769 , 0.03034972],\n",
      "                 [0.87956078, 0.22523813]]])\n"
     ]
    }
   ],
   "execution_count": 10
  },
  {
   "cell_type": "markdown",
   "id": "6ee024b5f559f3d6",
   "metadata": {},
   "source": [
    "Tensor slicing works like in NumPy, by means of square brackets:"
   ]
  },
  {
   "cell_type": "code",
   "id": "28a6f0f292765b00",
   "metadata": {
    "ExecuteTime": {
     "end_time": "2024-02-27T17:27:25.701186Z",
     "start_time": "2024-02-27T17:27:25.693739Z"
    }
   },
   "source": [
    "x: Tensor = th.rand(2, 3, 2)\n",
    "_ = ic(x)"
   ],
   "outputs": [
    {
     "name": "stdout",
     "output_type": "stream",
     "text": [
      "    | x: tensor([[[0.5097, 0.4869],\n",
      "                  [0.7228, 0.8996],\n",
      "                  [0.0305, 0.4536]],\n",
      "         \n",
      "                 [[0.6089, 0.7877],\n",
      "                  [0.3264, 0.4518],\n",
      "                  [0.8162, 0.9160]]])\n"
     ]
    }
   ],
   "execution_count": 11
  },
  {
   "cell_type": "code",
   "id": "c764ebdbaf9b3415",
   "metadata": {
    "ExecuteTime": {
     "end_time": "2024-02-27T17:27:25.717571Z",
     "start_time": "2024-02-27T17:27:25.702320Z"
    }
   },
   "source": [
    "_ = ic(x[0, 1, 1])\n",
    "\n",
    "_ = ic(x[0, 1:, 1])\n",
    "\n",
    "_ = ic(x[:, ::2, :])"
   ],
   "outputs": [
    {
     "name": "stdout",
     "output_type": "stream",
     "text": [
      "    | x[0, 1, 1]: tensor(0.8996)\n",
      "    | x[0, 1:, 1]: tensor([0.8996, 0.4536])\n",
      "    | x[:, ::2, :]: tensor([[[0.5097, 0.4869],\n",
      "                             [0.0305, 0.4536]],\n",
      "                    \n",
      "                            [[0.6089, 0.7877],\n",
      "                             [0.8162, 0.9160]]])\n"
     ]
    }
   ],
   "execution_count": 12
  },
  {
   "cell_type": "markdown",
   "id": "f3d8cb022646a3af",
   "metadata": {},
   "source": [
    "Beware of 0-dimensional vs 1-dimensional tensors:"
   ]
  },
  {
   "cell_type": "code",
   "id": "662aa0385681e0d5",
   "metadata": {
    "ExecuteTime": {
     "end_time": "2024-02-27T17:27:25.729574Z",
     "start_time": "2024-02-27T17:27:25.718562Z"
    }
   },
   "source": [
    "_ = ic(x[0, 1, 1].shape)\n",
    "\n",
    "_ = ic(th.tensor(3.14).shape)\n",
    "\n",
    "_ = ic(th.tensor([3.14]).shape)"
   ],
   "outputs": [
    {
     "name": "stdout",
     "output_type": "stream",
     "text": [
      "    | x[0, 1, 1].shape: torch.Size([])\n",
      "    | th.tensor(3.14).shape: torch.Size([])\n",
      "    | th.tensor([3.14]).shape: torch.Size([1])\n"
     ]
    }
   ],
   "execution_count": 13
  },
  {
   "cell_type": "markdown",
   "id": "8ccb4d1849e1580",
   "metadata": {},
   "source": [
    "You can use the `numel` method to get the number of elements (*i.e.* scalars) in a tensor:"
   ]
  },
  {
   "cell_type": "code",
   "id": "4a7b7b626877769",
   "metadata": {
    "ExecuteTime": {
     "end_time": "2024-02-27T17:27:25.744066Z",
     "start_time": "2024-02-27T17:27:25.730815Z"
    }
   },
   "source": [
    "# Use of `numel`\n",
    "_ = ic(x.numel())\n",
    "\n",
    "_ = ic(th.tensor(3.14).numel())\n",
    "\n",
    "_ = ic(th.tensor([3.14]).numel())"
   ],
   "outputs": [
    {
     "name": "stdout",
     "output_type": "stream",
     "text": [
      "    | x.numel(): 12\n",
      "    | th.tensor(3.14).numel(): 1\n",
      "    | th.tensor([3.14]).numel(): 1\n"
     ]
    }
   ],
   "execution_count": 14
  },
  {
   "cell_type": "markdown",
   "id": "2f1a9609c7f2afaa",
   "metadata": {},
   "source": [
    "### Tensor reshaping\n",
    "\n",
    "Changing the shape of a tensor can be a crucial operation.  \n",
    "To have an idea of its application, just think of `RGB` images. These may be represented as $3\\times \\text{H}\\times \\text{W}$ tensors, where $\\text{H}$ and $\\text{W}$ stand for height and width of the image (in number of pixels). It is often needed to look at an image as a flattened (1D) vector of pixels:"
   ]
  },
  {
   "cell_type": "code",
   "id": "dd6ac8dd457a9acc",
   "metadata": {
    "ExecuteTime": {
     "end_time": "2024-02-27T17:27:25.758759Z",
     "start_time": "2024-02-27T17:27:25.745157Z"
    }
   },
   "source": [
    "img: Tensor = th.stack(\n",
    "    tensors=(th.ones(8, 8), th.zeros(8, 8), th.ones(8, 8) / 2), dim=0\n",
    ")\n",
    "\n",
    "# Note that reshaping is not in place, so this call does not change the actual shape of img!\n",
    "img.reshape(3, 64)\n",
    "\n",
    "_ = ic(img.shape)\n",
    "\n",
    "img2: Tensor = img.reshape(3, 64)\n",
    "_ = ic(img2.shape)"
   ],
   "outputs": [
    {
     "name": "stdout",
     "output_type": "stream",
     "text": [
      "    | img.shape: torch.Size([3, 8, 8])\n",
      "    | img2.shape: torch.Size([3, 64])\n"
     ]
    }
   ],
   "execution_count": 15
  },
  {
   "cell_type": "markdown",
   "id": "bd9a701a0946bf8d",
   "metadata": {},
   "source": [
    "When you reshape a tensor, you can leave one dimension unspecified (using `-1`, at most **once**), as it will be inferred automatically."
   ]
  },
  {
   "cell_type": "code",
   "id": "6bb1acba5505f6bf",
   "metadata": {
    "ExecuteTime": {
     "end_time": "2024-02-27T17:27:25.768677Z",
     "start_time": "2024-02-27T17:27:25.759848Z"
    }
   },
   "source": [
    "img_inferred: Tensor = img.reshape(3, -1)\n",
    "_ = ic(img_inferred.shape)"
   ],
   "outputs": [
    {
     "name": "stdout",
     "output_type": "stream",
     "text": [
      "    | img_inferred.shape: torch.Size([3, 64])\n"
     ]
    }
   ],
   "execution_count": 16
  },
  {
   "cell_type": "markdown",
   "id": "ecb2c29f2d8cf86d",
   "metadata": {},
   "source": [
    "Let's print the \"image\" (it should be a **uniformly pink** square)..."
   ]
  },
  {
   "cell_type": "code",
   "id": "795fe6fda36d64a9",
   "metadata": {
    "ExecuteTime": {
     "end_time": "2024-02-27T17:27:25.772856Z",
     "start_time": "2024-02-27T17:27:25.769698Z"
    }
   },
   "source": [
    "# plt.imshow(img)\n",
    "# It errors with \"TypeError: Invalid shape (3, 8, 8) for image data\""
   ],
   "outputs": [],
   "execution_count": 17
  },
  {
   "cell_type": "markdown",
   "id": "725714eabb45ffe8",
   "metadata": {},
   "source": [
    "In fact, `matplotlib` expects arrays in the $\\text{H}\\times \\text{W}\\times \\text{C}$, whereas `PyTorch` uses the $\\text{C}\\times \\text{H}\\times \\text{W}$ format."
   ]
  },
  {
   "cell_type": "code",
   "id": "734c845e148dccd8",
   "metadata": {
    "ExecuteTime": {
     "end_time": "2024-02-27T17:27:25.897949Z",
     "start_time": "2024-02-27T17:27:25.773806Z"
    }
   },
   "source": [
    "new_img: Tensor = img.reshape(8, 8, 3)\n",
    "_ = plt.imshow(new_img.numpy())"
   ],
   "outputs": [
    {
     "data": {
      "text/plain": [
       "<Figure size 640x480 with 1 Axes>"
      ],
      "image/png": "[encoded data removed]"
     },
     "metadata": {},
     "output_type": "display_data"
    }
   ],
   "execution_count": 18
  },
  {
   "cell_type": "markdown",
   "id": "dfb9faa6a2579777",
   "metadata": {},
   "source": [
    "**Why is it not pink?** 🤔\n",
    "\n",
    "`reshape` only modifies the shape of a `Tensor`, without changing the way data are stored in memory. The \"right\" way to change the order of dimensions is to use the `permute` method, which reorders dimensions in-memory.\n",
    "\n",
    "**Note**\n",
    "\n",
    "Difference between:\n",
    "- `view`: operations on contiguous memory;\n",
    "- `reshape`: operations on (non-)contiguous memory, using `view` wherever possible;\n",
    "- `permute`: explicit reordering of dimensions and memory;\n",
    "- `.contiguous()`: ensure that the tensor is stored in contiguous memory (copying if necessary), with no other modification."
   ]
  },
  {
   "cell_type": "code",
   "id": "7dffd4b33839ff2d",
   "metadata": {
    "ExecuteTime": {
     "end_time": "2024-02-27T17:27:25.990279Z",
     "start_time": "2024-02-27T17:27:25.899336Z"
    }
   },
   "source": [
    "new_img: Tensor = img.permute(1, 2, 0)\n",
    "_ = plt.imshow(new_img.numpy())"
   ],
   "outputs": [
    {
     "data": {
      "text/plain": [
       "<Figure size 640x480 with 1 Axes>"
      ],
      "image/png": "[encoded data removed]"
     },
     "metadata": {},
     "output_type": "display_data"
    }
   ],
   "execution_count": 19
  },
  {
   "cell_type": "markdown",
   "id": "2e969bbb6ca39d9e",
   "metadata": {},
   "source": [
    "Another memory-contiguity quirk..."
   ]
  },
  {
   "cell_type": "code",
   "id": "fd30df1999ac1076",
   "metadata": {
    "ExecuteTime": {
     "end_time": "2024-02-27T17:27:26.005510Z",
     "start_time": "2024-02-27T17:27:25.991710Z"
    }
   },
   "source": [
    "z: Tensor = th.tensor([[1, 2, 3], [4, 5, 6]])\n",
    "y: Tensor = z.t()  # Transposition does not guarantee memory contiguity!\n",
    "_ = ic(y.size())\n",
    "# _ = ic(y.view(6))   # It errors, as memory is not contiguously-addressed!\n",
    "_ = ic(y.contiguous().view(6))  # This works! Or use `reshape` instead of `view`."
   ],
   "outputs": [
    {
     "name": "stdout",
     "output_type": "stream",
     "text": [
      "    | y.size(): torch.Size([3, 2])\n",
      "    | y.contiguous().view(6): tensor([1, 4, 2, 5, 3, 6])\n"
     ]
    }
   ],
   "execution_count": 20
  },
  {
   "cell_type": "markdown",
   "id": "c30a4d67ced398cc",
   "metadata": {},
   "source": [
    "### Arithmetic operations"
   ]
  },
  {
   "cell_type": "markdown",
   "id": "3b2dd815d30d9b0d",
   "metadata": {},
   "source": [
    "As in NumPy, PyTorch supports all the basic arithmetic operations. By default, these operations are performed **element-wise**."
   ]
  },
  {
   "cell_type": "code",
   "id": "3abfb0705df5f798",
   "metadata": {
    "ExecuteTime": {
     "end_time": "2024-02-27T17:27:26.023919Z",
     "start_time": "2024-02-27T17:27:26.006597Z"
    }
   },
   "source": [
    "x: Tensor = th.tensor([[1.0, 2.0, 3.0], [4.0, 5.0, 6.0]])\n",
    "y: Tensor = th.tensor([[7.0, 8.0, 9.0], [10.0, 11.0, 12.0]])\n",
    "\n",
    "_ = ic(x + y)\n",
    "_ = ic(x / y)\n",
    "\n",
    "_ = ic(x**2)"
   ],
   "outputs": [
    {
     "name": "stdout",
     "output_type": "stream",
     "text": [
      "    | x + y: tensor([[ 8., 10., 12.],\n",
      "                     [14., 16., 18.]])\n",
      "    | x / y: tensor([[0.1429, 0.2500, 0.3333],\n",
      "                     [0.4000, 0.4545, 0.5000]])\n",
      "    | x**2: tensor([[ 1.,  4.,  9.],\n",
      "                    [16., 25., 36.]])\n"
     ]
    }
   ],
   "execution_count": 21
  },
  {
   "cell_type": "markdown",
   "id": "ad7fe4034ebbf74f",
   "metadata": {},
   "source": [
    "### Linear algebra"
   ]
  },
  {
   "cell_type": "markdown",
   "id": "f62d5ae0694ec418",
   "metadata": {},
   "source": [
    "An operation we will frequently perform in Deep Learning (often under the hood, though) is **matrix multiplication**. In `torch`, it can be done in many equivalent ways:"
   ]
  },
  {
   "cell_type": "code",
   "id": "5fa4c490159ecfa7",
   "metadata": {
    "ExecuteTime": {
     "end_time": "2024-02-27T17:27:26.041123Z",
     "start_time": "2024-02-27T17:27:26.025085Z"
    }
   },
   "source": [
    "x: Tensor = th.rand(4, 5)\n",
    "y: Tensor = x.T  # matrix transposition; also .t()\n",
    "\n",
    "# All the same!\n",
    "_ = ic(x @ y)\n",
    "_ = ic(x.matmul(y))\n",
    "_ = ic(th.matmul(x, y))"
   ],
   "outputs": [
    {
     "name": "stdout",
     "output_type": "stream",
     "text": [
      "    | x @ y: tensor([[2.7589, 1.9781, 1.8481, 1.6978],\n",
      "                     [1.9781, 2.0202, 1.0229, 1.4264],\n",
      "                     [1.8481, 1.0229, 1.7246, 0.9895],\n",
      "                     [1.6978, 1.4264, 0.9895, 2.0342]])\n",
      "    | x.matmul(y): tensor([[2.7589, 1.9781, 1.8481, 1.6978],\n",
      "                           [1.9781, 2.0202, 1.0229, 1.4264],\n",
      "                           [1.8481, 1.0229, 1.7246, 0.9895],\n",
      "                           [1.6978, 1.4264, 0.9895, 2.0342]])\n",
      "    | th.matmul(x, y): tensor([[2.7589, 1.9781, 1.8481, 1.6978],\n",
      "                               [1.9781, 2.0202, 1.0229, 1.4264],\n",
      "                               [1.8481, 1.0229, 1.7246, 0.9895],\n",
      "                               [1.6978, 1.4264, 0.9895, 2.0342]])\n"
     ]
    }
   ],
   "execution_count": 22
  },
  {
   "cell_type": "markdown",
   "id": "fb8e46bbc50e4951",
   "metadata": {},
   "source": [
    "Please note that the operator for matrix multiplication is `@`, not `*`, which indicates the Hadamard (element-wise) product instead."
   ]
  },
  {
   "cell_type": "code",
   "id": "3ce30c08c7bd0531",
   "metadata": {
    "ExecuteTime": {
     "end_time": "2024-02-27T17:27:26.049889Z",
     "start_time": "2024-02-27T17:27:26.042326Z"
    }
   },
   "source": [
    "_ = ic(x * x)"
   ],
   "outputs": [
    {
     "name": "stdout",
     "output_type": "stream",
     "text": [
      "    | x * x: tensor([[5.3017e-01, 4.9619e-01, 4.9818e-01, 3.8894e-01, 8.4542e-01],\n",
      "                     [9.3142e-01, 3.6632e-01, 5.7612e-01, 1.3856e-01, 7.7880e-03],\n",
      "                     [1.5409e-01, 6.3461e-03, 6.2776e-02, 7.9258e-01, 7.0881e-01],\n",
      "                     [2.5537e-03, 9.9025e-01, 3.8834e-01, 6.5274e-01, 3.1501e-04]])\n"
     ]
    }
   ],
   "execution_count": 23
  },
  {
   "cell_type": "markdown",
   "id": "e24c72d548e9d212",
   "metadata": {},
   "source": [
    "Likewise, the power operator `**` is element-wise, not matrix-wise!"
   ]
  },
  {
   "cell_type": "code",
   "id": "db0ec5714802d407",
   "metadata": {
    "ExecuteTime": {
     "end_time": "2024-02-27T17:27:26.065761Z",
     "start_time": "2024-02-27T17:27:26.051418Z"
    }
   },
   "source": [
    "x: Tensor = th.rand(4, 4)\n",
    "\n",
    "_ = ic(x**2)  # or x.pow(2)\n",
    "_ = ic(x @ x)"
   ],
   "outputs": [
    {
     "name": "stdout",
     "output_type": "stream",
     "text": [
      "    | x**2: tensor([[0.0105, 0.1844, 0.6043, 0.0879],\n",
      "                    [0.0447, 0.6765, 0.8923, 0.6324],\n",
      "                    [0.5708, 0.0181, 0.2970, 0.6403],\n",
      "                    [0.0261, 0.7873, 0.9214, 0.9814]])\n",
      "    | x @ x: tensor([[0.7366, 0.7651, 1.1937, 1.2877],\n",
      "                     [1.0378, 1.6002, 2.2194, 2.2604],\n",
      "                     [0.6472, 1.2187, 1.7797, 1.5600],\n",
      "                     [1.0895, 1.8076, 2.4380, 2.5030]])\n"
     ]
    }
   ],
   "execution_count": 24
  },
  {
   "cell_type": "markdown",
   "id": "5b63de42591a45cd",
   "metadata": {},
   "source": [
    "As in NumPy, there exists a `dot` function to compute the scalar product between vectors. Note that, differently from NumPy, in `torch` this is not equivalent to matrix multiplication, and works only with 1D vectors!"
   ]
  },
  {
   "cell_type": "code",
   "id": "e96c16d04d6a529d",
   "metadata": {
    "ExecuteTime": {
     "end_time": "2024-02-27T17:27:26.074159Z",
     "start_time": "2024-02-27T17:27:26.066874Z"
    }
   },
   "source": [
    "v1: Tensor = x[0, :]\n",
    "v2: Tensor = x[1, :]\n",
    "\n",
    "_ = ic(th.dot(v1, v2))\n",
    "\n",
    "# _ = ic(th.dot(x, x)) # It errors!"
   ],
   "outputs": [
    {
     "name": "stdout",
     "output_type": "stream",
     "text": [
      "    | th.dot(v1, v2): tensor(1.3450)\n"
     ]
    }
   ],
   "execution_count": 25
  },
  {
   "cell_type": "markdown",
   "id": "7e408fb9bfbe60d0",
   "metadata": {},
   "source": [
    "### Reduction operations"
   ]
  },
  {
   "cell_type": "markdown",
   "id": "9ffdb43ba5e7b5e5",
   "metadata": {},
   "source": [
    "You can easily compute statistics of tensors (or general *reduction operations*, *e.g.* sum, mean, max, min, stddev... of the elements) by either using `torch` functions, or same-named `Tensor` methods:"
   ]
  },
  {
   "cell_type": "code",
   "id": "b1ee686e6432164",
   "metadata": {
    "ExecuteTime": {
     "end_time": "2024-02-27T17:27:26.081316Z",
     "start_time": "2024-02-27T17:27:26.075102Z"
    }
   },
   "source": [
    "x: Tensor = th.rand(2, 3, 2)\n",
    "_ = ic(x)"
   ],
   "outputs": [
    {
     "name": "stdout",
     "output_type": "stream",
     "text": [
      "    | x: tensor([[[0.1467, 0.3975],\n",
      "                  [0.7459, 0.3524],\n",
      "                  [0.6929, 0.5012]],\n",
      "         \n",
      "                 [[0.6587, 0.7164],\n",
      "                  [0.9142, 0.3537],\n",
      "                  [0.6543, 0.7198]]])\n"
     ]
    }
   ],
   "execution_count": 26
  },
  {
   "cell_type": "code",
   "id": "dbd9496745d42747",
   "metadata": {
    "ExecuteTime": {
     "end_time": "2024-02-27T17:27:26.097087Z",
     "start_time": "2024-02-27T17:27:26.082885Z"
    }
   },
   "source": [
    "_ = ic(x.sum())\n",
    "_ = ic(th.sum(x))"
   ],
   "outputs": [
    {
     "name": "stdout",
     "output_type": "stream",
     "text": [
      "    | x.sum(): tensor(6.8537)\n",
      "    | th.sum(x): tensor(6.8537)\n"
     ]
    }
   ],
   "execution_count": 27
  },
  {
   "cell_type": "code",
   "id": "2cb8f56e5b87e6f2",
   "metadata": {
    "ExecuteTime": {
     "end_time": "2024-02-27T17:27:26.111556Z",
     "start_time": "2024-02-27T17:27:26.100427Z"
    }
   },
   "source": [
    "_ = ic(x.mean())\n",
    "_ = ic(th.mean(x))"
   ],
   "outputs": [
    {
     "name": "stdout",
     "output_type": "stream",
     "text": [
      "    | x.mean(): tensor(0.5711)\n",
      "    | th.mean(x): tensor(0.5711)\n"
     ]
    }
   ],
   "execution_count": 28
  },
  {
   "cell_type": "code",
   "id": "244fb20d6a8e4309",
   "metadata": {
    "ExecuteTime": {
     "end_time": "2024-02-27T17:27:26.121556Z",
     "start_time": "2024-02-27T17:27:26.112547Z"
    }
   },
   "source": [
    "_ = ic(x.argmin())\n",
    "_ = ic(th.min(x))"
   ],
   "outputs": [
    {
     "name": "stdout",
     "output_type": "stream",
     "text": [
      "    | x.argmin(): tensor(0)\n",
      "    | th.min(x): tensor(0.1467)\n"
     ]
    }
   ],
   "execution_count": 29
  },
  {
   "cell_type": "markdown",
   "id": "bdea860a3cac791e",
   "metadata": {},
   "source": [
    "It is sometimes useful to specify one or more dimensions to reduce (along which you want to perform your operations):"
   ]
  },
  {
   "cell_type": "code",
   "id": "98981f2f54bc4ab6",
   "metadata": {
    "ExecuteTime": {
     "end_time": "2024-02-27T17:27:26.140018Z",
     "start_time": "2024-02-27T17:27:26.122632Z"
    }
   },
   "source": [
    "_ = ic(x.mean(dim=0))\n",
    "_ = ic(x.argmax(dim=1))\n",
    "_ = ic(x.sum(dim=(0, 1)))"
   ],
   "outputs": [
    {
     "name": "stdout",
     "output_type": "stream",
     "text": [
      "    | x.mean(dim=0): tensor([[0.4027, 0.5569],\n",
      "                             [0.8300, 0.3531],\n",
      "                             [0.6736, 0.6105]])\n",
      "    | x.argmax(dim=1): tensor([[1, 2],\n",
      "                               [1, 2]])\n",
      "    | x.sum(dim=(0, 1)): tensor([3.8127, 3.0410])\n"
     ]
    }
   ],
   "execution_count": 30
  },
  {
   "cell_type": "markdown",
   "id": "6b582a64809934c",
   "metadata": {},
   "source": [
    "## GPU acceleration"
   ]
  },
  {
   "cell_type": "markdown",
   "id": "b254fc558fe7d929",
   "metadata": {},
   "source": [
    "PyTorch is designed to work seamlessly with GPUs (or hardware accelerators in general). You can move tensors to the GPU by using the `cuda` method, or the `to` method (for general devices, including CUDA, CPU, and others)."
   ]
  },
  {
   "cell_type": "code",
   "id": "8723cfa6ed55123c",
   "metadata": {
    "ExecuteTime": {
     "end_time": "2024-02-27T17:27:26.152950Z",
     "start_time": "2024-02-27T17:27:26.141177Z"
    }
   },
   "source": [
    "x: Tensor = th.rand(2, 3)\n",
    "_ = ic(x)\n",
    "_ = ic(x.device)"
   ],
   "outputs": [
    {
     "name": "stdout",
     "output_type": "stream",
     "text": [
      "    | x: tensor([[0.3876, 0.8396, 0.3117],\n",
      "                 [0.8634, 0.3876, 0.0785]])\n",
      "    | x.device: device(type='cpu')\n"
     ]
    }
   ],
   "execution_count": 31
  },
  {
   "cell_type": "code",
   "id": "d3c64c2c7d1ccff8",
   "metadata": {
    "ExecuteTime": {
     "end_time": "2024-02-27T17:27:28.117451Z",
     "start_time": "2024-02-27T17:27:26.154040Z"
    }
   },
   "source": [
    "x: Tensor = x.to(device=\"cuda\")  # or x.cuda()\n",
    "_ = ic(x)\n",
    "_ = ic(x.device)"
   ],
   "outputs": [
    {
     "name": "stdout",
     "output_type": "stream",
     "text": [
      "    | x: tensor([[0.3876, 0.8396, 0.3117],\n",
      "                 [0.8634, 0.3876, 0.0785]], device='cuda:0')\n",
      "    | x.device: device(type='cuda', index=0)\n"
     ]
    }
   ],
   "execution_count": 32
  },
  {
   "cell_type": "markdown",
   "id": "e96ca56cedadd690",
   "metadata": {},
   "source": [
    "#### Why GPUs?\n",
    "\n",
    "Let's see..."
   ]
  },
  {
   "cell_type": "code",
   "id": "904c336552e1adef",
   "metadata": {
    "ExecuteTime": {
     "end_time": "2024-02-27T17:27:28.147773Z",
     "start_time": "2024-02-27T17:27:28.118720Z"
    }
   },
   "source": [
    "a: Tensor = th.rand(1000, 1000)\n",
    "b: Tensor = th.rand(1000, 1000)\n",
    "_ = ic(th.matmul(a, b))  # Warmup (does not cache the result)"
   ],
   "outputs": [
    {
     "name": "stdout",
     "output_type": "stream",
     "text": [
      "    | th.matmul(a, b): tensor([[248.5054, 244.0699, 260.0825,  ..., 245.6781, 247.1087, 251.7783],\n",
      "                               [247.3436, 240.7231, 246.9280,  ..., 239.9678, 239.5166, 254.0617],\n",
      "                               [254.6329, 253.6068, 262.7984,  ..., 255.8509, 251.1407, 263.1866],\n",
      "                               ...,\n",
      "                               [246.3882, 237.8904, 248.6055,  ..., 239.7312, 239.7239, 246.7213],\n",
      "                               [252.1723, 247.4497, 258.6422,  ..., 249.1569, 246.3595, 256.9336],\n",
      "                               [253.2659, 247.6227, 252.1317,  ..., 243.6900, 248.9021, 250.1017]])\n"
     ]
    }
   ],
   "execution_count": 33
  },
  {
   "cell_type": "code",
   "id": "61ff7821cd9dfbbc",
   "metadata": {
    "ExecuteTime": {
     "end_time": "2024-02-27T17:27:34.120254Z",
     "start_time": "2024-02-27T17:27:28.149068Z"
    }
   },
   "source": [
    "# On CPU\n",
    "for _ in range(1000):\n",
    "    r: Tensor = th.matmul(a, b)"
   ],
   "outputs": [],
   "execution_count": 34
  },
  {
   "cell_type": "code",
   "id": "aabab6797529ef75",
   "metadata": {
    "ExecuteTime": {
     "end_time": "2024-02-27T17:27:34.203858Z",
     "start_time": "2024-02-27T17:27:34.122046Z"
    }
   },
   "source": [
    "a_cuda: Tensor = a.cuda()\n",
    "b_cuda: Tensor = b.cuda()\n",
    "_ = ic(th.matmul(a_cuda, b_cuda))  # Warmup (does not cache the result)"
   ],
   "outputs": [
    {
     "name": "stdout",
     "output_type": "stream",
     "text": [
      "    | th.matmul(a_cuda, b_cuda): tensor([[248.5053, 244.0698, 260.0825,  ..., 245.6782, 247.1088, 251.7783],\n",
      "                                         [247.3437, 240.7231, 246.9280,  ..., 239.9677, 239.5165, 254.0617],\n",
      "                                         [254.6329, 253.6068, 262.7984,  ..., 255.8509, 251.1407, 263.1865],\n",
      "                                         ...,\n",
      "                                         [246.3882, 237.8903, 248.6055,  ..., 239.7313, 239.7238, 246.7215],\n",
      "                                         [252.1723, 247.4496, 258.6422,  ..., 249.1570, 246.3595, 256.9336],\n",
      "                                         [253.2659, 247.6227, 252.1317,  ..., 243.6899, 248.9020, 250.1017]],\n",
      "                                        device='cuda:0')\n"
     ]
    }
   ],
   "execution_count": 35
  },
  {
   "cell_type": "code",
   "id": "c1f257cd38490bae",
   "metadata": {
    "ExecuteTime": {
     "end_time": "2024-02-27T17:27:34.505966Z",
     "start_time": "2024-02-27T17:27:34.205271Z"
    }
   },
   "source": [
    "# On GPU\n",
    "for _ in range(1000):\n",
    "    r: Tensor = th.matmul(a_cuda, b_cuda)"
   ],
   "outputs": [],
   "execution_count": 36
  },
  {
   "cell_type": "markdown",
   "id": "317148b2787e7b29",
   "metadata": {},
   "source": [
    "A >12x speedup, just by moving the computation to the GPU!"
   ]
  }
 ],
 "metadata": {
  "kernelspec": {
   "display_name": "Python 3",
   "language": "python",
   "name": "python3"
  },
  "language_info": {
   "codemirror_mode": {
    "name": "ipython",
    "version": 3
   },
   "file_extension": ".py",
   "mimetype": "text/x-python",
   "name": "python",
   "nbconvert_exporter": "python",
   "pygments_lexer": "ipython3",
   "version": "3.11.8"
  }
 },
 "nbformat": 4,
 "nbformat_minor": 5
}
