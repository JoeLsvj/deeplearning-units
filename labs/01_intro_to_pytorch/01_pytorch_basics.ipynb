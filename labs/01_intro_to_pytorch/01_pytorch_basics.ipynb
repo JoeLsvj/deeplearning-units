{
 "cells": [
  {
   "cell_type": "markdown",
   "id": "f63623daf7993ffb",
   "metadata": {},
   "source": [
    "# 🔥 Introduction to `PyTorch` -- The basics\n",
    "\n",
    "[Deep Learning](https://dsai.units.it/index.php/courses/deep-learning/) Course @ [UniTS](https://portale.units.it/en), Spring 2024\n",
    "\n",
    "<a target=\"_blank\" href=\"https://colab.research.google.com/github/emaballarin/deeplearning-units/blob/main/labs/01_intro_to_pytorch/01_pytorch_basics.ipynb\"><img src=\"https://colab.research.google.com/assets/colab-badge.svg\" alt=\"Open in Colab\"/></a>  <a target=\"_blank\" href=\"https://kaggle.com/kernels/welcome?src=https://github.com/emaballarin/deeplearning-units/blob/main/labs/01_intro_to_pytorch/01_pytorch_basics.ipynb\"><img src=\"https://kaggle.com/static/images/open-in-kaggle.svg\" alt=\"Open in Kaggle\"/></a>"
   ]
  },
  {
   "cell_type": "markdown",
   "id": "97f5c3d9f39d243f",
   "metadata": {},
   "source": [
    "### An aside on *programming*\n",
    "\n",
    "![image.png](https://ballarin.cc/code.jpg)\n",
    "<br><sub><sup>From <a href=\"https://www.commitstrip.com/en/2016/08/25/a-very-comprehensive-and-precise-spec/\">CommitStrip.com (August 25th, 2016)</a></sup></sub>"
   ]
  },
  {
   "cell_type": "markdown",
   "id": "7fc12980e669bc69",
   "metadata": {},
   "source": [
    "### What is PyTorch?\n",
    "\n",
    "[PyTorch](https://pytorch.org/) (sometimes referred to simply as `torch`) is a Python/C++ library for:\n",
    "- Efficient numerical computing, with support for strong GPU acceleration & parallelism;\n",
    "- Automatic algorithmic differentiation (mainly in *reverse mode*, *tape-based*; but more recently also in *forward mode*);\n",
    "- Development of deep artificial neural network models (*a.k.a.* *deep learning*);\n",
    "\n",
    "It is also well integrated with the *scientific Python stack* (*i.e.* NumPy *& friends*).\n",
    "\n",
    "The flexibility of PyTorch and its *Pythonic* interfaces make it the most widely adopted framework for research and development, both in academia and industry (especially industrial *R&D*).\n",
    "\n",
    "For more info about PyTorch, you can have a look at the [official documentation](https://pytorch.org/docs/stable/index.html) or refer to [this book](https://bucket.ballarin.cc/books/EStevens_LAntiga_TViehmann_DeepLearningWithPyTorch.pdf).  \n",
    "For insights about the inner workings of *autodiff*, you can start exploring the topic from [this survey](https://arxiv.org/abs/1502.05767)."
   ]
  },
  {
   "cell_type": "markdown",
   "id": "9efd284c13fc6ea5",
   "metadata": {},
   "source": [
    "### Preliminary infrastucture setup"
   ]
  },
  {
   "cell_type": "code",
   "execution_count": 1,
   "id": "1f5ef864f233dd08",
   "metadata": {
    "execution": {
     "iopub.execute_input": "2024-03-03T23:07:43.823298Z",
     "iopub.status.busy": "2024-03-03T23:07:43.823151Z",
     "iopub.status.idle": "2024-03-03T23:07:43.831256Z",
     "shell.execute_reply": "2024-03-03T23:07:43.830717Z"
    }
   },
   "outputs": [],
   "source": [
    "import os\n",
    "\n",
    "FOLDERNAME: str = \"deeplearning_units_2024\"\n",
    "try:\n",
    "    if os.getenv(\"COLAB_RELEASE_TAG\"):\n",
    "        # noinspection PyUnresolvedReferences\n",
    "        from google.colab import drive\n",
    "\n",
    "        drive.mount(BASEPATH := \"/content/drive\")\n",
    "        os.makedirs(FULLPATH := BASEPATH + \"/MyDrive/\" + FOLDERNAME, exist_ok=True)\n",
    "    elif os.getenv(\"KAGGLE_CONTAINER_NAME\"):\n",
    "        os.makedirs(FULLPATH := \"/kaggle/working/\" + FOLDERNAME, exist_ok=True)\n",
    "    else:\n",
    "        os.makedirs(FULLPATH := \"./\" + FOLDERNAME, exist_ok=True)\n",
    "    os.chdir(FULLPATH)\n",
    "except (ModuleNotFoundError, FileExistsError, FileNotFoundError):\n",
    "    pass"
   ]
  },
  {
   "cell_type": "code",
   "execution_count": 2,
   "id": "a89c9b057229a895",
   "metadata": {
    "ExecuteTime": {
     "end_time": "2024-02-27T17:27:24.170579Z",
     "start_time": "2024-02-27T17:27:22.735637Z"
    },
    "execution": {
     "iopub.execute_input": "2024-03-03T23:07:43.833353Z",
     "iopub.status.busy": "2024-03-03T23:07:43.833180Z",
     "iopub.status.idle": "2024-03-03T23:07:47.265413Z",
     "shell.execute_reply": "2024-03-03T23:07:47.264552Z"
    }
   },
   "outputs": [],
   "source": [
    "!python -m pip install -q pip_install_if_missing"
   ]
  },
  {
   "cell_type": "code",
   "execution_count": 3,
   "id": "1e489ddb0875803",
   "metadata": {
    "ExecuteTime": {
     "end_time": "2024-02-27T17:27:24.226666Z",
     "start_time": "2024-02-27T17:27:24.172234Z"
    },
    "execution": {
     "iopub.execute_input": "2024-03-03T23:07:47.268802Z",
     "iopub.status.busy": "2024-03-03T23:07:47.268487Z",
     "iopub.status.idle": "2024-03-03T23:07:47.348266Z",
     "shell.execute_reply": "2024-03-03T23:07:47.347357Z"
    }
   },
   "outputs": [],
   "source": [
    "from piim import pip_install_if_missing\n",
    "\n",
    "pip_install_if_missing(\"icecream\")"
   ]
  },
  {
   "cell_type": "code",
   "execution_count": 4,
   "id": "b4519a0e7269d06a",
   "metadata": {
    "ExecuteTime": {
     "end_time": "2024-02-27T17:27:24.253320Z",
     "start_time": "2024-02-27T17:27:24.228194Z"
    },
    "execution": {
     "iopub.execute_input": "2024-03-03T23:07:47.352901Z",
     "iopub.status.busy": "2024-03-03T23:07:47.351974Z",
     "iopub.status.idle": "2024-03-03T23:07:47.379507Z",
     "shell.execute_reply": "2024-03-03T23:07:47.378838Z"
    }
   },
   "outputs": [],
   "source": [
    "# Pretty printouts\n",
    "from icecream import ic\n",
    "\n",
    "ic.configureOutput(outputFunction=print)\n",
    "ic.configureOutput(prefix=\"    | \")"
   ]
  },
  {
   "cell_type": "markdown",
   "id": "5951ffbf0d96ab1",
   "metadata": {},
   "source": [
    "### Some imports"
   ]
  },
  {
   "cell_type": "code",
   "execution_count": 5,
   "id": "c13a187452f5e5d0",
   "metadata": {
    "ExecuteTime": {
     "end_time": "2024-02-27T17:27:25.620449Z",
     "start_time": "2024-02-27T17:27:24.255383Z"
    },
    "execution": {
     "iopub.execute_input": "2024-03-03T23:07:47.382294Z",
     "iopub.status.busy": "2024-03-03T23:07:47.381760Z",
     "iopub.status.idle": "2024-03-03T23:07:50.534364Z",
     "shell.execute_reply": "2024-03-03T23:07:50.533790Z"
    }
   },
   "outputs": [],
   "source": [
    "# It all begins with...\n",
    "import torch as th  # (or simply `import torch`)\n",
    "\n",
    "import numpy as np  # For comparison\n",
    "\n",
    "import matplotlib.pyplot as plt  # For plotting\n",
    "\n",
    "# For type annotations\n",
    "from torch import Tensor\n",
    "from numpy.typing import NDArray\n",
    "from typing import Any"
   ]
  },
  {
   "cell_type": "markdown",
   "id": "c62bdd03270ec604",
   "metadata": {},
   "source": [
    "## Basic operation with `Tensor`s\n",
    "\n",
    "The main building block of PyTorch's linear algebra capabilities is the `Tensor` class. A torch `Tensor` is the (loose) equivalent of NumPy's `ndarray` and most of the functionalities are the same as in NumPy. In general, it is always possible to perform the same logical/mathematical operations typical of NumPy on torch `Tensor`s."
   ]
  },
  {
   "cell_type": "code",
   "execution_count": 6,
   "id": "97639f7b5d4bf576",
   "metadata": {
    "ExecuteTime": {
     "end_time": "2024-02-27T17:27:25.641234Z",
     "start_time": "2024-02-27T17:27:25.621884Z"
    },
    "execution": {
     "iopub.execute_input": "2024-03-03T23:07:50.536746Z",
     "iopub.status.busy": "2024-03-03T23:07:50.536468Z",
     "iopub.status.idle": "2024-03-03T23:07:50.567302Z",
     "shell.execute_reply": "2024-03-03T23:07:50.566831Z"
    }
   },
   "outputs": [
    {
     "name": "stdout",
     "output_type": "stream",
     "text": [
      "    | x: tensor([[1, 2, 3],\n",
      "                 [4, 5, 6]])\n",
      "    | y: array([[1, 2, 3],\n",
      "                [4, 5, 6]])\n"
     ]
    }
   ],
   "source": [
    "# Creation of tensors\n",
    "x: Tensor = th.tensor([[1, 2, 3], [4, 5, 6]])\n",
    "y: NDArray[Any] = np.array([[1, 2, 3], [4, 5, 6]])\n",
    "\n",
    "_ = ic(x)\n",
    "_ = ic(y)"
   ]
  },
  {
   "cell_type": "code",
   "execution_count": 7,
   "id": "f1b2a61bdd00d36b",
   "metadata": {
    "ExecuteTime": {
     "end_time": "2024-02-27T17:27:25.655732Z",
     "start_time": "2024-02-27T17:27:25.642700Z"
    },
    "execution": {
     "iopub.execute_input": "2024-03-03T23:07:50.569410Z",
     "iopub.status.busy": "2024-03-03T23:07:50.569092Z",
     "iopub.status.idle": "2024-03-03T23:07:50.580057Z",
     "shell.execute_reply": "2024-03-03T23:07:50.579530Z"
    }
   },
   "outputs": [
    {
     "name": "stdout",
     "output_type": "stream",
     "text": [
      "    | x.size(): torch.Size([2, 3])\n",
      "    | x.shape: torch.Size([2, 3])\n",
      "    | y.shape: (2, 3)\n"
     ]
    }
   ],
   "source": [
    "# Shapes and sizes\n",
    "_ = ic(x.size())\n",
    "_ = ic(x.shape)\n",
    "\n",
    "_ = ic(y.shape)"
   ]
  },
  {
   "cell_type": "code",
   "execution_count": 8,
   "id": "e4614b76d7efde51",
   "metadata": {
    "ExecuteTime": {
     "end_time": "2024-02-27T17:27:25.666900Z",
     "start_time": "2024-02-27T17:27:25.657291Z"
    },
    "execution": {
     "iopub.execute_input": "2024-03-03T23:07:50.582122Z",
     "iopub.status.busy": "2024-03-03T23:07:50.581957Z",
     "iopub.status.idle": "2024-03-03T23:07:50.590839Z",
     "shell.execute_reply": "2024-03-03T23:07:50.590302Z"
    }
   },
   "outputs": [
    {
     "name": "stdout",
     "output_type": "stream",
     "text": [
      "    | x.dtype: torch.int64\n",
      "    | y.dtype: dtype('int64')\n"
     ]
    }
   ],
   "source": [
    "# (d)types\n",
    "_ = ic(x.dtype)\n",
    "_ = ic(y.dtype)"
   ]
  },
  {
   "cell_type": "markdown",
   "id": "2e5ece1b03e8661",
   "metadata": {},
   "source": [
    "You can convert the dtype of a tensor by using `Tensor` methods `float()`, `int()`, etc.... or by using the `to(dtype=...)` method:"
   ]
  },
  {
   "cell_type": "code",
   "execution_count": 9,
   "id": "b9b240f23dd9d09d",
   "metadata": {
    "ExecuteTime": {
     "end_time": "2024-02-27T17:27:25.672273Z",
     "start_time": "2024-02-27T17:27:25.667979Z"
    },
    "execution": {
     "iopub.execute_input": "2024-03-03T23:07:50.592920Z",
     "iopub.status.busy": "2024-03-03T23:07:50.592515Z",
     "iopub.status.idle": "2024-03-03T23:07:50.600263Z",
     "shell.execute_reply": "2024-03-03T23:07:50.599667Z"
    }
   },
   "outputs": [
    {
     "name": "stdout",
     "output_type": "stream",
     "text": [
      "dtype of x before casting: torch.int64\n",
      "dtype of x after casting: torch.float32\n"
     ]
    }
   ],
   "source": [
    "print(\"dtype of x before casting:\", x.dtype)\n",
    "x: Tensor = x.float()\n",
    "print(\"dtype of x after casting:\", x.dtype)"
   ]
  },
  {
   "cell_type": "code",
   "execution_count": 10,
   "id": "3138ba05fa45f65d",
   "metadata": {
    "ExecuteTime": {
     "end_time": "2024-02-27T17:27:25.677701Z",
     "start_time": "2024-02-27T17:27:25.673324Z"
    },
    "execution": {
     "iopub.execute_input": "2024-03-03T23:07:50.602128Z",
     "iopub.status.busy": "2024-03-03T23:07:50.601878Z",
     "iopub.status.idle": "2024-03-03T23:07:50.606576Z",
     "shell.execute_reply": "2024-03-03T23:07:50.606163Z"
    }
   },
   "outputs": [
    {
     "name": "stdout",
     "output_type": "stream",
     "text": [
      "dtype of x: torch.float16\n"
     ]
    }
   ],
   "source": [
    "# Or with more granular control\n",
    "x: Tensor = x.to(dtype=th.float16)\n",
    "print(\"dtype of x:\", x.dtype)"
   ]
  },
  {
   "cell_type": "markdown",
   "id": "e5a985a2d902d1b4",
   "metadata": {},
   "source": [
    "Note that you can build a tensor through the constructor `th.Tensor` (as opposed to `torch.tensor`, mind the capitalisation!). In this case, since `th.Tensor` is an alias for `th.FloatTensor`, the tensor you create will have type `th.float32`.\n",
    "\n",
    "More info on `Tensor` data types: [here](https://pytorch.org/docs/stable/tensors.html)."
   ]
  },
  {
   "cell_type": "markdown",
   "id": "2785522c0da9c33e",
   "metadata": {},
   "source": [
    "You can create random tensors, just like you create random arrays in `NumPy`:"
   ]
  },
  {
   "cell_type": "code",
   "execution_count": 11,
   "id": "434a3b9928c68260",
   "metadata": {
    "ExecuteTime": {
     "end_time": "2024-02-27T17:27:25.692605Z",
     "start_time": "2024-02-27T17:27:25.679793Z"
    },
    "execution": {
     "iopub.execute_input": "2024-03-03T23:07:50.608174Z",
     "iopub.status.busy": "2024-03-03T23:07:50.607940Z",
     "iopub.status.idle": "2024-03-03T23:07:50.633284Z",
     "shell.execute_reply": "2024-03-03T23:07:50.632762Z"
    }
   },
   "outputs": [
    {
     "name": "stdout",
     "output_type": "stream",
     "text": [
      "    | x: tensor([[[0.7769, 0.0846],\n",
      "                  [0.4548, 0.0464],\n",
      "                  [0.1297, 0.9028]],\n",
      "         \n",
      "                 [[0.0904, 0.8221],\n",
      "                  [0.2002, 0.7155],\n",
      "                  [0.9655, 0.2986]]])\n",
      "    | y: array([[[0.40086487, 0.10657909],\n",
      "                 [0.24272468, 0.80838863],\n",
      "                 [0.36487569, 0.6011585 ]],\n",
      "         \n",
      "                [[0.54170548, 0.59253929],\n",
      "                 [0.39455227, 0.41815543],\n",
      "                 [0.84336664, 0.45164046]]])\n"
     ]
    }
   ],
   "source": [
    "x: Tensor = th.rand(\n",
    "    2, 3, 2\n",
    ")  # also accepts a list or tuple of integers (e.g. th.rand([2, 3, 2]), etc...)\n",
    "y: NDArray[Any] = np.random.rand(2, 3, 2)\n",
    "\n",
    "_ = ic(x)\n",
    "_ = ic(y)"
   ]
  },
  {
   "cell_type": "markdown",
   "id": "6ee024b5f559f3d6",
   "metadata": {},
   "source": [
    "Tensor slicing works like in NumPy, by means of square brackets:"
   ]
  },
  {
   "cell_type": "code",
   "execution_count": 12,
   "id": "28a6f0f292765b00",
   "metadata": {
    "ExecuteTime": {
     "end_time": "2024-02-27T17:27:25.701186Z",
     "start_time": "2024-02-27T17:27:25.693739Z"
    },
    "execution": {
     "iopub.execute_input": "2024-03-03T23:07:50.635378Z",
     "iopub.status.busy": "2024-03-03T23:07:50.635182Z",
     "iopub.status.idle": "2024-03-03T23:07:50.641635Z",
     "shell.execute_reply": "2024-03-03T23:07:50.641015Z"
    }
   },
   "outputs": [
    {
     "name": "stdout",
     "output_type": "stream",
     "text": [
      "    | x: tensor([[[0.8004, 0.0786],\n",
      "                  [0.4510, 0.0847],\n",
      "                  [0.7182, 0.0773]],\n",
      "         \n",
      "                 [[0.6749, 0.1689],\n",
      "                  [0.3764, 0.5971],\n",
      "                  [0.7649, 0.2591]]])\n"
     ]
    }
   ],
   "source": [
    "x: Tensor = th.rand(2, 3, 2)\n",
    "_ = ic(x)"
   ]
  },
  {
   "cell_type": "code",
   "execution_count": 13,
   "id": "c764ebdbaf9b3415",
   "metadata": {
    "ExecuteTime": {
     "end_time": "2024-02-27T17:27:25.717571Z",
     "start_time": "2024-02-27T17:27:25.702320Z"
    },
    "execution": {
     "iopub.execute_input": "2024-03-03T23:07:50.645715Z",
     "iopub.status.busy": "2024-03-03T23:07:50.645184Z",
     "iopub.status.idle": "2024-03-03T23:07:50.663623Z",
     "shell.execute_reply": "2024-03-03T23:07:50.663128Z"
    }
   },
   "outputs": [
    {
     "name": "stdout",
     "output_type": "stream",
     "text": [
      "    | x[0, 1, 1]: tensor(0.0847)\n",
      "    | x[0, 1:, 1]: tensor([0.0847, 0.0773])\n",
      "    | x[:, ::2, :]: tensor([[[0.8004, 0.0786],\n",
      "                             [0.7182, 0.0773]],\n",
      "                    \n",
      "                            [[0.6749, 0.1689],\n",
      "                             [0.7649, 0.2591]]])\n"
     ]
    }
   ],
   "source": [
    "_ = ic(x[0, 1, 1])\n",
    "\n",
    "_ = ic(x[0, 1:, 1])\n",
    "\n",
    "_ = ic(x[:, ::2, :])"
   ]
  },
  {
   "cell_type": "markdown",
   "id": "f3d8cb022646a3af",
   "metadata": {},
   "source": [
    "Beware of 0-dimensional vs 1-dimensional tensors:"
   ]
  },
  {
   "cell_type": "code",
   "execution_count": 14,
   "id": "662aa0385681e0d5",
   "metadata": {
    "ExecuteTime": {
     "end_time": "2024-02-27T17:27:25.729574Z",
     "start_time": "2024-02-27T17:27:25.718562Z"
    },
    "execution": {
     "iopub.execute_input": "2024-03-03T23:07:50.665709Z",
     "iopub.status.busy": "2024-03-03T23:07:50.665542Z",
     "iopub.status.idle": "2024-03-03T23:07:50.675063Z",
     "shell.execute_reply": "2024-03-03T23:07:50.674591Z"
    }
   },
   "outputs": [
    {
     "name": "stdout",
     "output_type": "stream",
     "text": [
      "    | x[0, 1, 1].shape: torch.Size([])\n",
      "    | th.tensor(3.14).shape: torch.Size([])\n",
      "    | th.tensor([3.14]).shape: torch.Size([1])\n"
     ]
    }
   ],
   "source": [
    "_ = ic(x[0, 1, 1].shape)\n",
    "\n",
    "_ = ic(th.tensor(3.14).shape)\n",
    "\n",
    "_ = ic(th.tensor([3.14]).shape)"
   ]
  },
  {
   "cell_type": "markdown",
   "id": "8ccb4d1849e1580",
   "metadata": {},
   "source": [
    "You can use the `numel` method to get the number of elements (*i.e.* scalars) in a tensor:"
   ]
  },
  {
   "cell_type": "code",
   "execution_count": 15,
   "id": "4a7b7b626877769",
   "metadata": {
    "ExecuteTime": {
     "end_time": "2024-02-27T17:27:25.744066Z",
     "start_time": "2024-02-27T17:27:25.730815Z"
    },
    "execution": {
     "iopub.execute_input": "2024-03-03T23:07:50.676878Z",
     "iopub.status.busy": "2024-03-03T23:07:50.676715Z",
     "iopub.status.idle": "2024-03-03T23:07:50.690955Z",
     "shell.execute_reply": "2024-03-03T23:07:50.690277Z"
    }
   },
   "outputs": [
    {
     "name": "stdout",
     "output_type": "stream",
     "text": [
      "    | x.numel(): 12\n",
      "    | th.tensor(3.14).numel(): 1\n",
      "    | th.tensor([3.14]).numel(): 1\n"
     ]
    }
   ],
   "source": [
    "# Use of `numel`\n",
    "_ = ic(x.numel())\n",
    "\n",
    "_ = ic(th.tensor(3.14).numel())\n",
    "\n",
    "_ = ic(th.tensor([3.14]).numel())"
   ]
  },
  {
   "cell_type": "markdown",
   "id": "2f1a9609c7f2afaa",
   "metadata": {},
   "source": [
    "### Tensor reshaping\n",
    "\n",
    "Changing the shape of a tensor can be a crucial operation.  \n",
    "To have an idea of its application, just think of `RGB` images. These may be represented as $3\\times \\text{H}\\times \\text{W}$ tensors, where $\\text{H}$ and $\\text{W}$ stand for height and width of the image (in number of pixels). It is often needed to look at an image as a flattened (1D) vector of pixels:"
   ]
  },
  {
   "cell_type": "code",
   "execution_count": 16,
   "id": "dd6ac8dd457a9acc",
   "metadata": {
    "ExecuteTime": {
     "end_time": "2024-02-27T17:27:25.758759Z",
     "start_time": "2024-02-27T17:27:25.745157Z"
    },
    "execution": {
     "iopub.execute_input": "2024-03-03T23:07:50.692907Z",
     "iopub.status.busy": "2024-03-03T23:07:50.692698Z",
     "iopub.status.idle": "2024-03-03T23:07:50.707765Z",
     "shell.execute_reply": "2024-03-03T23:07:50.707216Z"
    }
   },
   "outputs": [
    {
     "name": "stdout",
     "output_type": "stream",
     "text": [
      "    | img.shape: torch.Size([3, 8, 8])\n",
      "    | img2.shape: torch.Size([3, 64])\n"
     ]
    }
   ],
   "source": [
    "img: Tensor = th.stack(\n",
    "    tensors=(th.ones(8, 8), th.zeros(8, 8), th.ones(8, 8) / 2), dim=0\n",
    ")\n",
    "\n",
    "# Note that reshaping is not in place, so this call does not change the actual shape of img!\n",
    "img.reshape(3, 64)\n",
    "\n",
    "_ = ic(img.shape)\n",
    "\n",
    "img2: Tensor = img.reshape(3, 64)\n",
    "_ = ic(img2.shape)"
   ]
  },
  {
   "cell_type": "markdown",
   "id": "bd9a701a0946bf8d",
   "metadata": {},
   "source": [
    "When you reshape a tensor, you can leave one dimension unspecified (using `-1`, at most **once**), as it will be inferred automatically."
   ]
  },
  {
   "cell_type": "code",
   "execution_count": 17,
   "id": "6bb1acba5505f6bf",
   "metadata": {
    "ExecuteTime": {
     "end_time": "2024-02-27T17:27:25.768677Z",
     "start_time": "2024-02-27T17:27:25.759848Z"
    },
    "execution": {
     "iopub.execute_input": "2024-03-03T23:07:50.710395Z",
     "iopub.status.busy": "2024-03-03T23:07:50.710077Z",
     "iopub.status.idle": "2024-03-03T23:07:50.716189Z",
     "shell.execute_reply": "2024-03-03T23:07:50.715664Z"
    }
   },
   "outputs": [
    {
     "name": "stdout",
     "output_type": "stream",
     "text": [
      "    | img_inferred.shape: torch.Size([3, 64])\n"
     ]
    }
   ],
   "source": [
    "img_inferred: Tensor = img.reshape(3, -1)\n",
    "_ = ic(img_inferred.shape)"
   ]
  },
  {
   "cell_type": "markdown",
   "id": "ecb2c29f2d8cf86d",
   "metadata": {},
   "source": [
    "Let's print the \"image\" (it should be a **uniformly pink** square)..."
   ]
  },
  {
   "cell_type": "code",
   "execution_count": 18,
   "id": "795fe6fda36d64a9",
   "metadata": {
    "ExecuteTime": {
     "end_time": "2024-02-27T17:27:25.772856Z",
     "start_time": "2024-02-27T17:27:25.769698Z"
    },
    "execution": {
     "iopub.execute_input": "2024-03-03T23:07:50.717931Z",
     "iopub.status.busy": "2024-03-03T23:07:50.717647Z",
     "iopub.status.idle": "2024-03-03T23:07:50.720171Z",
     "shell.execute_reply": "2024-03-03T23:07:50.719645Z"
    }
   },
   "outputs": [],
   "source": [
    "# plt.imshow(img)\n",
    "# It errors with \"TypeError: Invalid shape (3, 8, 8) for image data\""
   ]
  },
  {
   "cell_type": "markdown",
   "id": "725714eabb45ffe8",
   "metadata": {},
   "source": [
    "In fact, `matplotlib` expects arrays in the $\\text{H}\\times \\text{W}\\times \\text{C}$, whereas `PyTorch` uses the $\\text{C}\\times \\text{H}\\times \\text{W}$ format."
   ]
  },
  {
   "cell_type": "code",
   "execution_count": 19,
   "id": "734c845e148dccd8",
   "metadata": {
    "ExecuteTime": {
     "end_time": "2024-02-27T17:27:25.897949Z",
     "start_time": "2024-02-27T17:27:25.773806Z"
    },
    "execution": {
     "iopub.execute_input": "2024-03-03T23:07:50.721931Z",
     "iopub.status.busy": "2024-03-03T23:07:50.721682Z",
     "iopub.status.idle": "2024-03-03T23:07:50.837624Z",
     "shell.execute_reply": "2024-03-03T23:07:50.837022Z"
    }
   },
   "outputs": [
    {
     "data": {
      "image/png": "[encoded data removed]",
      "text/plain": [
       "<Figure size 640x480 with 1 Axes>"
      ]
     },
     "metadata": {},
     "output_type": "display_data"
    }
   ],
   "source": [
    "new_img: Tensor = img.reshape(8, 8, 3)\n",
    "_ = plt.imshow(new_img.numpy())"
   ]
  },
  {
   "cell_type": "markdown",
   "id": "dfb9faa6a2579777",
   "metadata": {},
   "source": [
    "**Why is it not pink?** 🤔\n",
    "\n",
    "`reshape` only modifies the shape of a `Tensor`, without changing the way data are stored in memory. The \"right\" way to change the order of dimensions is to use the `permute` method, which reorders dimensions in-memory.\n",
    "\n",
    "**Note**\n",
    "\n",
    "Difference between:\n",
    "- `view`: operations on contiguous memory;\n",
    "- `reshape`: operations on (non-)contiguous memory, using `view` wherever possible;\n",
    "- `permute`: explicit reordering of dimensions and memory;\n",
    "- `.contiguous()`: ensure that the tensor is stored in contiguous memory (copying if necessary), with no other modification."
   ]
  },
  {
   "cell_type": "code",
   "execution_count": 20,
   "id": "7dffd4b33839ff2d",
   "metadata": {
    "ExecuteTime": {
     "end_time": "2024-02-27T17:27:25.990279Z",
     "start_time": "2024-02-27T17:27:25.899336Z"
    },
    "execution": {
     "iopub.execute_input": "2024-03-03T23:07:50.839909Z",
     "iopub.status.busy": "2024-03-03T23:07:50.839423Z",
     "iopub.status.idle": "2024-03-03T23:07:50.927661Z",
     "shell.execute_reply": "2024-03-03T23:07:50.927162Z"
    }
   },
   "outputs": [
    {
     "data": {
      "image/png": "[encoded data removed]",
      "text/plain": [
       "<Figure size 640x480 with 1 Axes>"
      ]
     },
     "metadata": {},
     "output_type": "display_data"
    }
   ],
   "source": [
    "new_img: Tensor = img.permute(1, 2, 0)\n",
    "_ = plt.imshow(new_img.numpy())"
   ]
  },
  {
   "cell_type": "markdown",
   "id": "2e969bbb6ca39d9e",
   "metadata": {},
   "source": [
    "Another memory-contiguity quirk..."
   ]
  },
  {
   "cell_type": "code",
   "execution_count": 21,
   "id": "fd30df1999ac1076",
   "metadata": {
    "ExecuteTime": {
     "end_time": "2024-02-27T17:27:26.005510Z",
     "start_time": "2024-02-27T17:27:25.991710Z"
    },
    "execution": {
     "iopub.execute_input": "2024-03-03T23:07:50.929687Z",
     "iopub.status.busy": "2024-03-03T23:07:50.929538Z",
     "iopub.status.idle": "2024-03-03T23:07:50.940172Z",
     "shell.execute_reply": "2024-03-03T23:07:50.939710Z"
    }
   },
   "outputs": [
    {
     "name": "stdout",
     "output_type": "stream",
     "text": [
      "    | y.size(): torch.Size([3, 2])\n",
      "    | y.contiguous().view(6): tensor([1, 4, 2, 5, 3, 6])\n"
     ]
    }
   ],
   "source": [
    "z: Tensor = th.tensor([[1, 2, 3], [4, 5, 6]])\n",
    "y: Tensor = z.t()  # Transposition does not guarantee memory contiguity!\n",
    "_ = ic(y.size())\n",
    "# _ = ic(y.view(6))   # It errors, as memory is not contiguously-addressed!\n",
    "_ = ic(y.contiguous().view(6))  # This works! Or use `reshape` instead of `view`."
   ]
  },
  {
   "cell_type": "markdown",
   "id": "c30a4d67ced398cc",
   "metadata": {},
   "source": [
    "### Arithmetic operations"
   ]
  },
  {
   "cell_type": "markdown",
   "id": "3b2dd815d30d9b0d",
   "metadata": {},
   "source": [
    "As in NumPy, PyTorch supports all the basic arithmetic operations. By default, these operations are performed **element-wise**."
   ]
  },
  {
   "cell_type": "code",
   "execution_count": 22,
   "id": "3abfb0705df5f798",
   "metadata": {
    "ExecuteTime": {
     "end_time": "2024-02-27T17:27:26.023919Z",
     "start_time": "2024-02-27T17:27:26.006597Z"
    },
    "execution": {
     "iopub.execute_input": "2024-03-03T23:07:50.942340Z",
     "iopub.status.busy": "2024-03-03T23:07:50.942162Z",
     "iopub.status.idle": "2024-03-03T23:07:50.961236Z",
     "shell.execute_reply": "2024-03-03T23:07:50.960720Z"
    }
   },
   "outputs": [
    {
     "name": "stdout",
     "output_type": "stream",
     "text": [
      "    | x + y: tensor([[ 8., 10., 12.],\n",
      "                     [14., 16., 18.]])\n",
      "    | x / y: tensor([[0.1429, 0.2500, 0.3333],\n",
      "                     [0.4000, 0.4545, 0.5000]])\n",
      "    | x**2: tensor([[ 1.,  4.,  9.],\n",
      "                    [16., 25., 36.]])\n"
     ]
    }
   ],
   "source": [
    "x: Tensor = th.tensor([[1.0, 2.0, 3.0], [4.0, 5.0, 6.0]])\n",
    "y: Tensor = th.tensor([[7.0, 8.0, 9.0], [10.0, 11.0, 12.0]])\n",
    "\n",
    "_ = ic(x + y)\n",
    "_ = ic(x / y)\n",
    "\n",
    "_ = ic(x**2)"
   ]
  },
  {
   "cell_type": "markdown",
   "id": "ad7fe4034ebbf74f",
   "metadata": {},
   "source": [
    "### Linear algebra"
   ]
  },
  {
   "cell_type": "markdown",
   "id": "f62d5ae0694ec418",
   "metadata": {},
   "source": [
    "An operation we will frequently perform in Deep Learning (often under the hood, though) is **matrix multiplication**. In `torch`, it can be done in many equivalent ways:"
   ]
  },
  {
   "cell_type": "code",
   "execution_count": 23,
   "id": "5fa4c490159ecfa7",
   "metadata": {
    "ExecuteTime": {
     "end_time": "2024-02-27T17:27:26.041123Z",
     "start_time": "2024-02-27T17:27:26.025085Z"
    },
    "execution": {
     "iopub.execute_input": "2024-03-03T23:07:50.963450Z",
     "iopub.status.busy": "2024-03-03T23:07:50.963273Z",
     "iopub.status.idle": "2024-03-03T23:07:50.980829Z",
     "shell.execute_reply": "2024-03-03T23:07:50.980345Z"
    }
   },
   "outputs": [
    {
     "name": "stdout",
     "output_type": "stream",
     "text": [
      "    | x @ y: tensor([[1.3022, 1.8816, 1.5542, 0.7764],\n",
      "                     [1.8816, 3.9750, 3.2299, 1.9686],\n",
      "                     [1.5542, 3.2299, 3.2673, 1.9320],\n",
      "                     [0.7764, 1.9686, 1.9320, 1.3239]])\n",
      "    | x.matmul(y): tensor([[1.3022, 1.8816, 1.5542, 0.7764],\n",
      "                           [1.8816, 3.9750, 3.2299, 1.9686],\n",
      "                           [1.5542, 3.2299, 3.2673, 1.9320],\n",
      "                           [0.7764, 1.9686, 1.9320, 1.3239]])\n",
      "    | th.matmul(x, y): tensor([[1.3022, 1.8816, 1.5542, 0.7764],\n",
      "                               [1.8816, 3.9750, 3.2299, 1.9686],\n",
      "                               [1.5542, 3.2299, 3.2673, 1.9320],\n",
      "                               [0.7764, 1.9686, 1.9320, 1.3239]])\n"
     ]
    }
   ],
   "source": [
    "x: Tensor = th.rand(4, 5)\n",
    "y: Tensor = x.T  # matrix transposition; also .t()\n",
    "\n",
    "# All the same!\n",
    "_ = ic(x @ y)\n",
    "_ = ic(x.matmul(y))\n",
    "_ = ic(th.matmul(x, y))"
   ]
  },
  {
   "cell_type": "markdown",
   "id": "fb8e46bbc50e4951",
   "metadata": {},
   "source": [
    "Please note that the operator for matrix multiplication is `@`, not `*`, which indicates the Hadamard (element-wise) product instead."
   ]
  },
  {
   "cell_type": "code",
   "execution_count": 24,
   "id": "3ce30c08c7bd0531",
   "metadata": {
    "ExecuteTime": {
     "end_time": "2024-02-27T17:27:26.049889Z",
     "start_time": "2024-02-27T17:27:26.042326Z"
    },
    "execution": {
     "iopub.execute_input": "2024-03-03T23:07:50.982649Z",
     "iopub.status.busy": "2024-03-03T23:07:50.982391Z",
     "iopub.status.idle": "2024-03-03T23:07:50.987885Z",
     "shell.execute_reply": "2024-03-03T23:07:50.987371Z"
    }
   },
   "outputs": [
    {
     "name": "stdout",
     "output_type": "stream",
     "text": [
      "    | x * x: tensor([[0.7443, 0.2166, 0.0433, 0.0038, 0.2943],\n",
      "                     [0.6410, 0.8486, 0.9616, 0.6439, 0.8800],\n",
      "                     [0.7451, 0.0018, 0.9627, 0.5686, 0.9892],\n",
      "                     [0.1835, 0.0028, 0.3137, 0.6661, 0.1578]])\n"
     ]
    }
   ],
   "source": [
    "_ = ic(x * x)"
   ]
  },
  {
   "cell_type": "markdown",
   "id": "e24c72d548e9d212",
   "metadata": {},
   "source": [
    "Likewise, the power operator `**` is element-wise, not matrix-wise!"
   ]
  },
  {
   "cell_type": "code",
   "execution_count": 25,
   "id": "db0ec5714802d407",
   "metadata": {
    "ExecuteTime": {
     "end_time": "2024-02-27T17:27:26.065761Z",
     "start_time": "2024-02-27T17:27:26.051418Z"
    },
    "execution": {
     "iopub.execute_input": "2024-03-03T23:07:50.989625Z",
     "iopub.status.busy": "2024-03-03T23:07:50.989439Z",
     "iopub.status.idle": "2024-03-03T23:07:50.999963Z",
     "shell.execute_reply": "2024-03-03T23:07:50.999495Z"
    }
   },
   "outputs": [
    {
     "name": "stdout",
     "output_type": "stream",
     "text": [
      "    | x**2: tensor([[9.7437e-02, 2.2440e-02, 1.8799e-04, 7.9556e-01],\n",
      "                    [3.8397e-01, 6.2569e-01, 5.5958e-05, 6.6242e-01],\n",
      "                    [1.8631e-01, 2.9277e-01, 4.6576e-01, 1.1243e-02],\n",
      "                    [3.0416e-01, 9.7715e-01, 1.5597e-01, 2.4504e-01]])\n",
      "    | x @ x: tensor([[0.6881, 1.0544, 0.3670, 0.8433],\n",
      "                     [1.1357, 1.5271, 0.3409, 1.6002],\n",
      "                     [0.8231, 0.9667, 0.5176, 0.9502],\n",
      "                     [1.2282, 1.5676, 0.4800, 1.5834]])\n"
     ]
    }
   ],
   "source": [
    "x: Tensor = th.rand(4, 4)\n",
    "\n",
    "_ = ic(x**2)  # or x.pow(2)\n",
    "_ = ic(x @ x)"
   ]
  },
  {
   "cell_type": "markdown",
   "id": "5b63de42591a45cd",
   "metadata": {},
   "source": [
    "As in NumPy, there exists a `dot` function to compute the scalar product between vectors. Note that, differently from NumPy, in `torch` this is not equivalent to matrix multiplication, and works only with 1D vectors!"
   ]
  },
  {
   "cell_type": "code",
   "execution_count": 26,
   "id": "e96c16d04d6a529d",
   "metadata": {
    "ExecuteTime": {
     "end_time": "2024-02-27T17:27:26.074159Z",
     "start_time": "2024-02-27T17:27:26.066874Z"
    },
    "execution": {
     "iopub.execute_input": "2024-03-03T23:07:51.002067Z",
     "iopub.status.busy": "2024-03-03T23:07:51.001712Z",
     "iopub.status.idle": "2024-03-03T23:07:51.008075Z",
     "shell.execute_reply": "2024-03-03T23:07:51.007572Z"
    }
   },
   "outputs": [
    {
     "name": "stdout",
     "output_type": "stream",
     "text": [
      "    | th.dot(v1, v2): tensor(1.0380)\n"
     ]
    }
   ],
   "source": [
    "v1: Tensor = x[0, :]\n",
    "v2: Tensor = x[1, :]\n",
    "\n",
    "_ = ic(th.dot(v1, v2))\n",
    "\n",
    "# _ = ic(th.dot(x, x)) # It errors!"
   ]
  },
  {
   "cell_type": "markdown",
   "id": "7e408fb9bfbe60d0",
   "metadata": {},
   "source": [
    "### Reduction operations"
   ]
  },
  {
   "cell_type": "markdown",
   "id": "9ffdb43ba5e7b5e5",
   "metadata": {},
   "source": [
    "You can easily compute statistics of tensors (or general *reduction operations*, *e.g.* sum, mean, max, min, stddev... of the elements) by either using `torch` functions, or same-named `Tensor` methods:"
   ]
  },
  {
   "cell_type": "code",
   "execution_count": 27,
   "id": "b1ee686e6432164",
   "metadata": {
    "ExecuteTime": {
     "end_time": "2024-02-27T17:27:26.081316Z",
     "start_time": "2024-02-27T17:27:26.075102Z"
    },
    "execution": {
     "iopub.execute_input": "2024-03-03T23:07:51.009830Z",
     "iopub.status.busy": "2024-03-03T23:07:51.009479Z",
     "iopub.status.idle": "2024-03-03T23:07:51.014359Z",
     "shell.execute_reply": "2024-03-03T23:07:51.013868Z"
    }
   },
   "outputs": [
    {
     "name": "stdout",
     "output_type": "stream",
     "text": [
      "    | x: tensor([[[0.7081, 0.9061],\n",
      "                  [0.9037, 0.7638],\n",
      "                  [0.5618, 0.6298]],\n",
      "         \n",
      "                 [[0.9965, 0.0240],\n",
      "                  [0.1430, 0.3248],\n",
      "                  [0.4945, 0.9744]]])\n"
     ]
    }
   ],
   "source": [
    "x: Tensor = th.rand(2, 3, 2)\n",
    "_ = ic(x)"
   ]
  },
  {
   "cell_type": "code",
   "execution_count": 28,
   "id": "dbd9496745d42747",
   "metadata": {
    "ExecuteTime": {
     "end_time": "2024-02-27T17:27:26.097087Z",
     "start_time": "2024-02-27T17:27:26.082885Z"
    },
    "execution": {
     "iopub.execute_input": "2024-03-03T23:07:51.015912Z",
     "iopub.status.busy": "2024-03-03T23:07:51.015696Z",
     "iopub.status.idle": "2024-03-03T23:07:51.024123Z",
     "shell.execute_reply": "2024-03-03T23:07:51.023677Z"
    }
   },
   "outputs": [
    {
     "name": "stdout",
     "output_type": "stream",
     "text": [
      "    | x.sum(): tensor(7.4306)\n",
      "    | th.sum(x): tensor(7.4306)\n"
     ]
    }
   ],
   "source": [
    "_ = ic(x.sum())\n",
    "_ = ic(th.sum(x))"
   ]
  },
  {
   "cell_type": "code",
   "execution_count": 29,
   "id": "2cb8f56e5b87e6f2",
   "metadata": {
    "ExecuteTime": {
     "end_time": "2024-02-27T17:27:26.111556Z",
     "start_time": "2024-02-27T17:27:26.100427Z"
    },
    "execution": {
     "iopub.execute_input": "2024-03-03T23:07:51.025889Z",
     "iopub.status.busy": "2024-03-03T23:07:51.025631Z",
     "iopub.status.idle": "2024-03-03T23:07:51.033917Z",
     "shell.execute_reply": "2024-03-03T23:07:51.033435Z"
    }
   },
   "outputs": [
    {
     "name": "stdout",
     "output_type": "stream",
     "text": [
      "    | x.mean(): tensor(0.6192)\n",
      "    | th.mean(x): tensor(0.6192)\n"
     ]
    }
   ],
   "source": [
    "_ = ic(x.mean())\n",
    "_ = ic(th.mean(x))"
   ]
  },
  {
   "cell_type": "code",
   "execution_count": 30,
   "id": "244fb20d6a8e4309",
   "metadata": {
    "ExecuteTime": {
     "end_time": "2024-02-27T17:27:26.121556Z",
     "start_time": "2024-02-27T17:27:26.112547Z"
    },
    "execution": {
     "iopub.execute_input": "2024-03-03T23:07:51.035794Z",
     "iopub.status.busy": "2024-03-03T23:07:51.035538Z",
     "iopub.status.idle": "2024-03-03T23:07:51.044735Z",
     "shell.execute_reply": "2024-03-03T23:07:51.044225Z"
    }
   },
   "outputs": [
    {
     "name": "stdout",
     "output_type": "stream",
     "text": [
      "    | x.argmin(): tensor(7)\n",
      "    | th.min(x): tensor(0.0240)\n"
     ]
    }
   ],
   "source": [
    "_ = ic(x.argmin())\n",
    "_ = ic(th.min(x))"
   ]
  },
  {
   "cell_type": "markdown",
   "id": "bdea860a3cac791e",
   "metadata": {},
   "source": [
    "It is sometimes useful to specify one or more dimensions to reduce (along which you want to perform your operations):"
   ]
  },
  {
   "cell_type": "code",
   "execution_count": 31,
   "id": "98981f2f54bc4ab6",
   "metadata": {
    "ExecuteTime": {
     "end_time": "2024-02-27T17:27:26.140018Z",
     "start_time": "2024-02-27T17:27:26.122632Z"
    },
    "execution": {
     "iopub.execute_input": "2024-03-03T23:07:51.046443Z",
     "iopub.status.busy": "2024-03-03T23:07:51.046290Z",
     "iopub.status.idle": "2024-03-03T23:07:51.056848Z",
     "shell.execute_reply": "2024-03-03T23:07:51.056377Z"
    }
   },
   "outputs": [
    {
     "name": "stdout",
     "output_type": "stream",
     "text": [
      "    | x.mean(dim=0): tensor([[0.8523, 0.4651],\n",
      "                             [0.5234, 0.5443],\n",
      "                             [0.5281, 0.8021]])\n",
      "    | x.argmax(dim=1): tensor([[1, 0],\n",
      "                               [0, 2]])\n",
      "    | x.sum(dim=(0, 1)): tensor([3.8076, 3.6230])\n"
     ]
    }
   ],
   "source": [
    "_ = ic(x.mean(dim=0))\n",
    "_ = ic(x.argmax(dim=1))\n",
    "_ = ic(x.sum(dim=(0, 1)))"
   ]
  },
  {
   "cell_type": "markdown",
   "id": "6b582a64809934c",
   "metadata": {},
   "source": [
    "## GPU acceleration"
   ]
  },
  {
   "cell_type": "markdown",
   "id": "b254fc558fe7d929",
   "metadata": {},
   "source": [
    "PyTorch is designed to work seamlessly with GPUs (or hardware accelerators in general). You can move tensors to the GPU by using the `cuda` method, or the `to` method (for general devices, including CUDA, CPU, and others)."
   ]
  },
  {
   "cell_type": "code",
   "execution_count": 32,
   "id": "8723cfa6ed55123c",
   "metadata": {
    "ExecuteTime": {
     "end_time": "2024-02-27T17:27:26.152950Z",
     "start_time": "2024-02-27T17:27:26.141177Z"
    },
    "execution": {
     "iopub.execute_input": "2024-03-03T23:07:51.058623Z",
     "iopub.status.busy": "2024-03-03T23:07:51.058488Z",
     "iopub.status.idle": "2024-03-03T23:07:51.066065Z",
     "shell.execute_reply": "2024-03-03T23:07:51.065593Z"
    }
   },
   "outputs": [
    {
     "name": "stdout",
     "output_type": "stream",
     "text": [
      "    | x: tensor([[0.2781, 0.3753, 0.6223],\n",
      "                 [0.8820, 0.0418, 0.7441]])\n",
      "    | x.device: device(type='cpu')\n"
     ]
    }
   ],
   "source": [
    "x: Tensor = th.rand(2, 3)\n",
    "_ = ic(x)\n",
    "_ = ic(x.device)"
   ]
  },
  {
   "cell_type": "code",
   "execution_count": 33,
   "id": "d3c64c2c7d1ccff8",
   "metadata": {
    "ExecuteTime": {
     "end_time": "2024-02-27T17:27:28.117451Z",
     "start_time": "2024-02-27T17:27:26.154040Z"
    },
    "execution": {
     "iopub.execute_input": "2024-03-03T23:07:51.067730Z",
     "iopub.status.busy": "2024-03-03T23:07:51.067578Z",
     "iopub.status.idle": "2024-03-03T23:07:52.875107Z",
     "shell.execute_reply": "2024-03-03T23:07:52.874480Z"
    }
   },
   "outputs": [
    {
     "name": "stdout",
     "output_type": "stream",
     "text": [
      "    | x: tensor([[0.2781, 0.3753, 0.6223],\n",
      "                 [0.8820, 0.0418, 0.7441]], device='cuda:0')\n",
      "    | x.device: device(type='cuda', index=0)\n"
     ]
    }
   ],
   "source": [
    "x: Tensor = x.to(device=\"cuda\")  # or x.cuda()\n",
    "_ = ic(x)\n",
    "_ = ic(x.device)"
   ]
  },
  {
   "cell_type": "markdown",
   "id": "e96ca56cedadd690",
   "metadata": {},
   "source": [
    "#### Why GPUs?\n",
    "\n",
    "Let's see..."
   ]
  },
  {
   "cell_type": "code",
   "execution_count": 34,
   "id": "904c336552e1adef",
   "metadata": {
    "ExecuteTime": {
     "end_time": "2024-02-27T17:27:28.147773Z",
     "start_time": "2024-02-27T17:27:28.118720Z"
    },
    "execution": {
     "iopub.execute_input": "2024-03-03T23:07:52.877113Z",
     "iopub.status.busy": "2024-03-03T23:07:52.876899Z",
     "iopub.status.idle": "2024-03-03T23:07:52.905170Z",
     "shell.execute_reply": "2024-03-03T23:07:52.904384Z"
    }
   },
   "outputs": [
    {
     "name": "stdout",
     "output_type": "stream",
     "text": [
      "    | th.matmul(a, b): tensor([[258.0005, 254.4070, 245.5527,  ..., 254.2750, 239.6226, 237.5657],\n",
      "                               [255.4604, 253.7073, 253.1129,  ..., 257.4288, 248.4121, 242.5365],\n",
      "                               [260.7802, 250.5148, 253.5165,  ..., 257.1263, 248.7137, 250.3953],\n",
      "                               ...,\n",
      "                               [262.9264, 250.4629, 245.3529,  ..., 259.7427, 242.8599, 247.1555],\n",
      "                               [252.9386, 248.2101, 243.1014,  ..., 254.4837, 244.5975, 237.2432],\n",
      "                               [254.5945, 249.9155, 249.6635,  ..., 256.2055, 246.5348, 239.3554]])\n"
     ]
    }
   ],
   "source": [
    "a: Tensor = th.rand(1000, 1000)\n",
    "b: Tensor = th.rand(1000, 1000)\n",
    "_ = ic(th.matmul(a, b))  # Warmup (does not cache the result)"
   ]
  },
  {
   "cell_type": "code",
   "execution_count": 35,
   "id": "61ff7821cd9dfbbc",
   "metadata": {
    "ExecuteTime": {
     "end_time": "2024-02-27T17:27:34.120254Z",
     "start_time": "2024-02-27T17:27:28.149068Z"
    },
    "execution": {
     "iopub.execute_input": "2024-03-03T23:07:52.907540Z",
     "iopub.status.busy": "2024-03-03T23:07:52.907228Z",
     "iopub.status.idle": "2024-03-03T23:07:57.948410Z",
     "shell.execute_reply": "2024-03-03T23:07:57.947619Z"
    }
   },
   "outputs": [],
   "source": [
    "# On CPU\n",
    "for _ in range(1000):\n",
    "    r: Tensor = th.matmul(a, b)"
   ]
  },
  {
   "cell_type": "code",
   "execution_count": 36,
   "id": "aabab6797529ef75",
   "metadata": {
    "ExecuteTime": {
     "end_time": "2024-02-27T17:27:34.203858Z",
     "start_time": "2024-02-27T17:27:34.122046Z"
    },
    "execution": {
     "iopub.execute_input": "2024-03-03T23:07:57.951284Z",
     "iopub.status.busy": "2024-03-03T23:07:57.951032Z",
     "iopub.status.idle": "2024-03-03T23:07:58.017895Z",
     "shell.execute_reply": "2024-03-03T23:07:58.017370Z"
    }
   },
   "outputs": [
    {
     "name": "stdout",
     "output_type": "stream",
     "text": [
      "    | th.matmul(a_cuda, b_cuda): tensor([[258.0005, 254.4070, 245.5528,  ..., 254.2749, 239.6226, 237.5657],\n",
      "                                         [255.4603, 253.7073, 253.1130,  ..., 257.4287, 248.4122, 242.5365],\n",
      "                                         [260.7802, 250.5148, 253.5165,  ..., 257.1264, 248.7137, 250.3954],\n",
      "                                         ...,\n",
      "                                         [262.9264, 250.4630, 245.3529,  ..., 259.7426, 242.8599, 247.1555],\n",
      "                                         [252.9385, 248.2101, 243.1014,  ..., 254.4837, 244.5974, 237.2432],\n",
      "                                         [254.5945, 249.9156, 249.6635,  ..., 256.2055, 246.5349, 239.3554]],\n",
      "                                        device='cuda:0')\n"
     ]
    }
   ],
   "source": [
    "a_cuda: Tensor = a.cuda()\n",
    "b_cuda: Tensor = b.cuda()\n",
    "_ = ic(th.matmul(a_cuda, b_cuda))  # Warmup (does not cache the result)"
   ]
  },
  {
   "cell_type": "code",
   "execution_count": 37,
   "id": "c1f257cd38490bae",
   "metadata": {
    "ExecuteTime": {
     "end_time": "2024-02-27T17:27:34.505966Z",
     "start_time": "2024-02-27T17:27:34.205271Z"
    },
    "execution": {
     "iopub.execute_input": "2024-03-03T23:07:58.019927Z",
     "iopub.status.busy": "2024-03-03T23:07:58.019591Z",
     "iopub.status.idle": "2024-03-03T23:07:58.324938Z",
     "shell.execute_reply": "2024-03-03T23:07:58.324376Z"
    }
   },
   "outputs": [],
   "source": [
    "# On GPU\n",
    "for _ in range(1000):\n",
    "    r: Tensor = th.matmul(a_cuda, b_cuda)"
   ]
  },
  {
   "cell_type": "markdown",
   "id": "317148b2787e7b29",
   "metadata": {},
   "source": [
    "A >12x speedup, just by moving the computation to the GPU!"
   ]
  }
 ],
 "metadata": {
  "kernelspec": {
   "display_name": "Python 3",
   "language": "python",
   "name": "python3"
  },
  "language_info": {
   "codemirror_mode": {
    "name": "ipython",
    "version": 3
   },
   "file_extension": ".py",
   "mimetype": "text/x-python",
   "name": "python",
   "nbconvert_exporter": "python",
   "pygments_lexer": "ipython3",
   "version": "3.11.8"
  }
 },
 "nbformat": 4,
 "nbformat_minor": 5
}
